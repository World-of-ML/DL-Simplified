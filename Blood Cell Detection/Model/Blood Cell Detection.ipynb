{
 "cells": [
  {
   "cell_type": "code",
   "execution_count": 185,
   "id": "0c86c265",
   "metadata": {},
   "outputs": [],
   "source": [
    "import numpy as np\n",
    "import pandas as pd\n",
    "%matplotlib inline\n",
    "import matplotlib as mpl\n",
    "import matplotlib.pyplot as plt\n",
    "import os"
   ]
  },
  {
   "cell_type": "code",
   "execution_count": 186,
   "id": "2df4c8e9",
   "metadata": {},
   "outputs": [],
   "source": [
    "import tensorflow as tf\n",
    "from tensorflow import keras"
   ]
  },
  {
   "cell_type": "code",
   "execution_count": 187,
   "id": "a1137b3b",
   "metadata": {},
   "outputs": [],
   "source": [
    "train_dir = r'C:\\Users\\kolik\\Blood_Cell_Detection\\Dataset\\train'\n",
    "validation_dir = r'C:\\Users\\kolik\\Blood_Cell_Detection\\Dataset\\valid'\n",
    "test_dir =r'C:\\Users\\kolik\\Blood_Cell_Detection\\Dataset\\test'"
   ]
  },
  {
   "cell_type": "markdown",
   "id": "2cbaed9c",
   "metadata": {},
   "source": [
    "### Data Preprocessing"
   ]
  },
  {
   "cell_type": "code",
   "execution_count": 188,
   "id": "1fda8ac7",
   "metadata": {},
   "outputs": [],
   "source": [
    "from tensorflow.keras.preprocessing.image import ImageDataGenerator"
   ]
  },
  {
   "cell_type": "code",
   "execution_count": 189,
   "id": "ed5da219",
   "metadata": {},
   "outputs": [
    {
     "name": "stdout",
     "output_type": "stream",
     "text": [
      "Found 765 images belonging to 2 classes.\n",
      "Found 73 images belonging to 2 classes.\n"
     ]
    }
   ],
   "source": [
    "# Generating batches of tensor image data\n",
    "train_datagen = ImageDataGenerator(rescale=1./255)\n",
    "test_datagen = ImageDataGenerator(rescale=1./255)\n",
    "\n",
    "train_generator = train_datagen.flow_from_directory(\n",
    "        train_dir,\n",
    "        target_size=(128, 128),\n",
    "        batch_size=32,\n",
    "        class_mode='categorical')\n",
    "\n",
    "validation_generator = test_datagen.flow_from_directory(\n",
    "        validation_dir,\n",
    "        target_size=(128, 128),\n",
    "        batch_size=32,\n",
    "        class_mode='categorical')"
   ]
  },
  {
   "cell_type": "markdown",
   "id": "70f4b3d8",
   "metadata": {},
   "source": [
    "### Data Augmentation"
   ]
  },
  {
   "cell_type": "code",
   "execution_count": 190,
   "id": "87c04511",
   "metadata": {},
   "outputs": [
    {
     "name": "stdout",
     "output_type": "stream",
     "text": [
      "Found 765 images belonging to 2 classes.\n",
      "Found 73 images belonging to 2 classes.\n"
     ]
    }
   ],
   "source": [
    "train_datagen = ImageDataGenerator(\n",
    "    rescale=1./255,\n",
    "    rotation_range=40,\n",
    "    width_shift_range=0.2,\n",
    "    height_shift_range=0.2,\n",
    "    shear_range=0.2,\n",
    "    zoom_range=0.2,\n",
    "    horizontal_flip=True,)\n",
    "\n",
    "test_datagen = ImageDataGenerator(rescale=1./255)\n",
    "\n",
    "train_generator = train_datagen.flow_from_directory(\n",
    "        train_dir,\n",
    "        target_size=(128, 128),\n",
    "        batch_size=32,\n",
    "        class_mode='categorical')\n",
    "\n",
    "validation_generator = test_datagen.flow_from_directory(\n",
    "        validation_dir,\n",
    "        target_size=(128, 128),\n",
    "        batch_size=32,\n",
    "        class_mode='categorical')"
   ]
  },
  {
   "cell_type": "markdown",
   "id": "f265d75f",
   "metadata": {},
   "source": [
    "## MODELS"
   ]
  },
  {
   "cell_type": "markdown",
   "id": "a4bf9da9",
   "metadata": {},
   "source": [
    "### Model 1: Custom CNN Model"
   ]
  },
  {
   "cell_type": "code",
   "execution_count": 191,
   "id": "5a59cb7e",
   "metadata": {},
   "outputs": [],
   "source": [
    "from tensorflow.keras import layers\n",
    "from tensorflow.keras import models"
   ]
  },
  {
   "cell_type": "code",
   "execution_count": 148,
   "id": "c08b8908",
   "metadata": {},
   "outputs": [],
   "source": [
    "model = models.Sequential()\n",
    "\n",
    "model.add(layers.Conv2D(32, (3, 3), activation='relu', input_shape=(128, 128, 3)))\n",
    "model.add(layers.MaxPooling2D((2, 2)))\n",
    "\n",
    "model.add(layers.Conv2D(64, (3, 3), activation='relu'))\n",
    "model.add(layers.MaxPooling2D((2, 2)))\n",
    "\n",
    "model.add(layers.Conv2D(128, (3, 3), activation='relu'))\n",
    "model.add(layers.MaxPooling2D((2, 2)))\n",
    "\n",
    "model.add(layers.Conv2D(128, (3, 3), activation='relu'))\n",
    "model.add(layers.MaxPooling2D((2, 2)))\n",
    "\n",
    "model.add(layers.Flatten())\n",
    "\n",
    "model.add(layers.Dense(512, activation='relu'))\n",
    "\n",
    "model.add(layers.Dense(1, activation='sigmoid'))"
   ]
  },
  {
   "cell_type": "code",
   "execution_count": 149,
   "id": "e49ded91",
   "metadata": {},
   "outputs": [
    {
     "name": "stdout",
     "output_type": "stream",
     "text": [
      "Model: \"sequential_11\"\n",
      "_________________________________________________________________\n",
      " Layer (type)                Output Shape              Param #   \n",
      "=================================================================\n",
      " conv2d_16 (Conv2D)          (None, 126, 126, 32)      896       \n",
      "                                                                 \n",
      " max_pooling2d_16 (MaxPoolin  (None, 63, 63, 32)       0         \n",
      " g2D)                                                            \n",
      "                                                                 \n",
      " conv2d_17 (Conv2D)          (None, 61, 61, 64)        18496     \n",
      "                                                                 \n",
      " max_pooling2d_17 (MaxPoolin  (None, 30, 30, 64)       0         \n",
      " g2D)                                                            \n",
      "                                                                 \n",
      " conv2d_18 (Conv2D)          (None, 28, 28, 128)       73856     \n",
      "                                                                 \n",
      " max_pooling2d_18 (MaxPoolin  (None, 14, 14, 128)      0         \n",
      " g2D)                                                            \n",
      "                                                                 \n",
      " conv2d_19 (Conv2D)          (None, 12, 12, 128)       147584    \n",
      "                                                                 \n",
      " max_pooling2d_19 (MaxPoolin  (None, 6, 6, 128)        0         \n",
      " g2D)                                                            \n",
      "                                                                 \n",
      " flatten_9 (Flatten)         (None, 4608)              0         \n",
      "                                                                 \n",
      " dense_16 (Dense)            (None, 512)               2359808   \n",
      "                                                                 \n",
      " dense_17 (Dense)            (None, 1)                 513       \n",
      "                                                                 \n",
      "=================================================================\n",
      "Total params: 2,601,153\n",
      "Trainable params: 2,601,153\n",
      "Non-trainable params: 0\n",
      "_________________________________________________________________\n"
     ]
    }
   ],
   "source": [
    "model.summary()"
   ]
  },
  {
   "cell_type": "code",
   "execution_count": 150,
   "id": "03c25273",
   "metadata": {},
   "outputs": [],
   "source": [
    "from tensorflow.keras import optimizers\n",
    "\n",
    "model.compile(loss='binary_crossentropy',\n",
    "              optimizer='adam',\n",
    "              metrics=['acc'])"
   ]
  },
  {
   "cell_type": "code",
   "execution_count": 151,
   "id": "ff47e6c2",
   "metadata": {},
   "outputs": [],
   "source": [
    "checkpoint_cb = keras.callbacks.ModelCheckpoint(r\"C:\\Users\\kolik\\Blood_Cell_Detection\\Model\\Custom CNN Model\\early_stop_model.h5\", save_best_only=True)"
   ]
  },
  {
   "cell_type": "code",
   "execution_count": 153,
   "id": "abcdd47e",
   "metadata": {},
   "outputs": [],
   "source": [
    "early_stop_cb = tf.keras.callbacks.EarlyStopping(\n",
    "                   monitor = 'val_loss',\n",
    "                   patience = 10,\n",
    "                   restore_best_weights = True)"
   ]
  },
  {
   "cell_type": "code",
   "execution_count": 167,
   "id": "e32c97f5",
   "metadata": {
    "scrolled": true
   },
   "outputs": [
    {
     "name": "stdout",
     "output_type": "stream",
     "text": [
      "Epoch 1/100\n",
      "23/23 [==============================] - 26s 1s/step - loss: 0.6931 - acc: 0.5000 - val_loss: 0.6931 - val_acc: 0.5000\n",
      "Epoch 2/100\n",
      "23/23 [==============================] - 26s 1s/step - loss: 0.6931 - acc: 0.5000 - val_loss: 0.6931 - val_acc: 0.5000\n",
      "Epoch 3/100\n",
      "23/23 [==============================] - 25s 1s/step - loss: 0.6931 - acc: 0.5000 - val_loss: 0.6931 - val_acc: 0.5000\n",
      "Epoch 4/100\n",
      "23/23 [==============================] - 24s 1s/step - loss: 0.6931 - acc: 0.5000 - val_loss: 0.6931 - val_acc: 0.5000\n",
      "Epoch 5/100\n",
      "23/23 [==============================] - 26s 1s/step - loss: 0.6931 - acc: 0.5000 - val_loss: 0.6931 - val_acc: 0.5000\n",
      "Epoch 6/100\n",
      "23/23 [==============================] - 25s 1s/step - loss: 0.6931 - acc: 0.5000 - val_loss: 0.6931 - val_acc: 0.5000\n",
      "Epoch 7/100\n",
      "23/23 [==============================] - 24s 1s/step - loss: 0.6931 - acc: 0.5000 - val_loss: 0.6931 - val_acc: 0.5000\n",
      "Epoch 8/100\n",
      "23/23 [==============================] - 25s 1s/step - loss: 0.6931 - acc: 0.5000 - val_loss: 0.6931 - val_acc: 0.5000\n",
      "Epoch 9/100\n",
      "23/23 [==============================] - 26s 1s/step - loss: 0.6931 - acc: 0.5000 - val_loss: 0.6931 - val_acc: 0.5000\n",
      "Epoch 10/100\n",
      "23/23 [==============================] - 26s 1s/step - loss: 0.6931 - acc: 0.5000 - val_loss: 0.6931 - val_acc: 0.5000\n",
      "Epoch 11/100\n",
      "23/23 [==============================] - 25s 1s/step - loss: 0.6931 - acc: 0.5000 - val_loss: 0.6931 - val_acc: 0.5000\n"
     ]
    }
   ],
   "source": [
    "history = model.fit(\n",
    "      train_generator,\n",
    "      steps_per_epoch=train_generator.samples//train_generator.batch_size,\n",
    "      epochs=100,\n",
    "      validation_data=validation_generator,\n",
    "      validation_steps=validation_generator.samples//validation_generator.batch_size,\n",
    "      callbacks = [checkpoint_cb,early_stop_cb])"
   ]
  },
  {
   "cell_type": "code",
   "execution_count": 169,
   "id": "88affaa1",
   "metadata": {},
   "outputs": [
    {
     "name": "stdout",
     "output_type": "stream",
     "text": [
      "Found 36 images belonging to 2 classes.\n"
     ]
    }
   ],
   "source": [
    "test_generator = test_datagen.flow_from_directory(\n",
    "        test_dir,\n",
    "        target_size=(128,128),\n",
    "        batch_size=2,\n",
    "        class_mode='categorical')"
   ]
  },
  {
   "cell_type": "code",
   "execution_count": 170,
   "id": "1b2c0a1b",
   "metadata": {},
   "outputs": [
    {
     "data": {
      "text/plain": [
       "2"
      ]
     },
     "execution_count": 170,
     "metadata": {},
     "output_type": "execute_result"
    }
   ],
   "source": [
    "test_generator.batch_size"
   ]
  },
  {
   "cell_type": "code",
   "execution_count": 171,
   "id": "49f9cd47",
   "metadata": {
    "scrolled": true
   },
   "outputs": [
    {
     "name": "stdout",
     "output_type": "stream",
     "text": [
      "18/18 [==============================] - 1s 34ms/step - loss: 0.6931 - acc: 0.5000\n"
     ]
    }
   ],
   "source": [
    "custom_evaluation = model.evaluate(test_generator, steps=(36/test_generator.batch_size))"
   ]
  },
  {
   "cell_type": "code",
   "execution_count": 174,
   "id": "682d5f8b",
   "metadata": {},
   "outputs": [
    {
     "name": "stdout",
     "output_type": "stream",
     "text": [
      "Loss:  0.6931473612785339\n",
      "Accuracy:  0.5\n"
     ]
    }
   ],
   "source": [
    "print(\"Loss: \",custom_evaluation[0])\n",
    "print(\"Accuracy: \",custom_evaluation[1])"
   ]
  },
  {
   "cell_type": "code",
   "execution_count": 255,
   "id": "1c46451a",
   "metadata": {},
   "outputs": [
    {
     "data": {
      "image/png": "[encoded data removed]",
      "text/plain": [
       "<Figure size 432x288 with 1 Axes>"
      ]
     },
     "metadata": {
      "needs_background": "light"
     },
     "output_type": "display_data"
    },
    {
     "data": {
      "image/png": "[encoded data removed]",
      "text/plain": [
       "<Figure size 432x288 with 1 Axes>"
      ]
     },
     "metadata": {
      "needs_background": "light"
     },
     "output_type": "display_data"
    },
    {
     "data": {
      "text/plain": [
       "<Figure size 432x288 with 0 Axes>"
      ]
     },
     "metadata": {},
     "output_type": "display_data"
    }
   ],
   "source": [
    "acc = history.history['acc']\n",
    "val_acc = history.history['val_acc']\n",
    "loss = history.history['loss']\n",
    "val_loss = history.history['val_loss']\n",
    " \n",
    "epochs = range(len(acc))\n",
    " \n",
    "plt.plot(epochs, acc, 'b', label='Training acc')\n",
    "plt.plot(epochs, val_acc, 'r', label='Validation acc')\n",
    "plt.title('Training and validation accuracy')\n",
    "plt.legend()\n",
    " \n",
    "plt.figure()\n",
    " \n",
    "plt.plot(epochs, loss, 'b', label='Training loss')\n",
    "plt.plot(epochs, val_loss, 'r', label='Validation loss')\n",
    "plt.title('Training and validation loss')\n",
    "plt.legend()\n",
    " \n",
    "plt.show()\n",
    "plt.savefig(r'C:\\Users\\kolik\\Blood_Cell_Detection\\Images\\customCNN_training.png')"
   ]
  },
  {
   "cell_type": "code",
   "execution_count": null,
   "id": "a7db8491",
   "metadata": {},
   "outputs": [],
   "source": []
  },
  {
   "cell_type": "markdown",
   "id": "7446639a",
   "metadata": {},
   "source": [
    "### Model 2 - Pretrained Algorithm VGG16"
   ]
  },
  {
   "cell_type": "code",
   "execution_count": 192,
   "id": "b468a874",
   "metadata": {},
   "outputs": [],
   "source": [
    "from tensorflow.keras.applications import VGG16\n",
    "from tensorflow.keras import models, layers\n",
    "from keras.layers.core import Dense,Flatten,Dropout\n",
    "from tensorflow.keras.layers import Dense, BatchNormalization"
   ]
  },
  {
   "cell_type": "code",
   "execution_count": 193,
   "id": "8a76f154",
   "metadata": {},
   "outputs": [],
   "source": [
    "VGG_conv_base = VGG16(weights='imagenet',\n",
    "                  include_top=False,\n",
    "                  input_shape=(128, 128, 3))"
   ]
  },
  {
   "cell_type": "code",
   "execution_count": 194,
   "id": "01caf628",
   "metadata": {},
   "outputs": [
    {
     "name": "stdout",
     "output_type": "stream",
     "text": [
      "Model: \"vgg16\"\n",
      "_________________________________________________________________\n",
      " Layer (type)                Output Shape              Param #   \n",
      "=================================================================\n",
      " input_6 (InputLayer)        [(None, 128, 128, 3)]     0         \n",
      "                                                                 \n",
      " block1_conv1 (Conv2D)       (None, 128, 128, 64)      1792      \n",
      "                                                                 \n",
      " block1_conv2 (Conv2D)       (None, 128, 128, 64)      36928     \n",
      "                                                                 \n",
      " block1_pool (MaxPooling2D)  (None, 64, 64, 64)        0         \n",
      "                                                                 \n",
      " block2_conv1 (Conv2D)       (None, 64, 64, 128)       73856     \n",
      "                                                                 \n",
      " block2_conv2 (Conv2D)       (None, 64, 64, 128)       147584    \n",
      "                                                                 \n",
      " block2_pool (MaxPooling2D)  (None, 32, 32, 128)       0         \n",
      "                                                                 \n",
      " block3_conv1 (Conv2D)       (None, 32, 32, 256)       295168    \n",
      "                                                                 \n",
      " block3_conv2 (Conv2D)       (None, 32, 32, 256)       590080    \n",
      "                                                                 \n",
      " block3_conv3 (Conv2D)       (None, 32, 32, 256)       590080    \n",
      "                                                                 \n",
      " block3_pool (MaxPooling2D)  (None, 16, 16, 256)       0         \n",
      "                                                                 \n",
      " block4_conv1 (Conv2D)       (None, 16, 16, 512)       1180160   \n",
      "                                                                 \n",
      " block4_conv2 (Conv2D)       (None, 16, 16, 512)       2359808   \n",
      "                                                                 \n",
      " block4_conv3 (Conv2D)       (None, 16, 16, 512)       2359808   \n",
      "                                                                 \n",
      " block4_pool (MaxPooling2D)  (None, 8, 8, 512)         0         \n",
      "                                                                 \n",
      " block5_conv1 (Conv2D)       (None, 8, 8, 512)         2359808   \n",
      "                                                                 \n",
      " block5_conv2 (Conv2D)       (None, 8, 8, 512)         2359808   \n",
      "                                                                 \n",
      " block5_conv3 (Conv2D)       (None, 8, 8, 512)         2359808   \n",
      "                                                                 \n",
      " block5_pool (MaxPooling2D)  (None, 4, 4, 512)         0         \n",
      "                                                                 \n",
      "=================================================================\n",
      "Total params: 14,714,688\n",
      "Trainable params: 14,714,688\n",
      "Non-trainable params: 0\n",
      "_________________________________________________________________\n"
     ]
    }
   ],
   "source": [
    "VGG_conv_base.summary()"
   ]
  },
  {
   "cell_type": "code",
   "execution_count": 195,
   "id": "db4f7631",
   "metadata": {},
   "outputs": [
    {
     "name": "stdout",
     "output_type": "stream",
     "text": [
      "Model: \"sequential_13\"\n",
      "_________________________________________________________________\n",
      " Layer (type)                Output Shape              Param #   \n",
      "=================================================================\n",
      " vgg16 (Functional)          (None, 4, 4, 512)         14714688  \n",
      "                                                                 \n",
      " flatten_11 (Flatten)        (None, 8192)              0         \n",
      "                                                                 \n",
      " batch_normalization_13 (Bat  (None, 8192)             32768     \n",
      " chNormalization)                                                \n",
      "                                                                 \n",
      " dense_24 (Dense)            (None, 32)                262176    \n",
      "                                                                 \n",
      " dropout_10 (Dropout)        (None, 32)                0         \n",
      "                                                                 \n",
      " batch_normalization_14 (Bat  (None, 32)               128       \n",
      " chNormalization)                                                \n",
      "                                                                 \n",
      " dense_25 (Dense)            (None, 16)                528       \n",
      "                                                                 \n",
      " dropout_11 (Dropout)        (None, 16)                0         \n",
      "                                                                 \n",
      " batch_normalization_15 (Bat  (None, 16)               64        \n",
      " chNormalization)                                                \n",
      "                                                                 \n",
      " dense_26 (Dense)            (None, 8)                 136       \n",
      "                                                                 \n",
      " dropout_12 (Dropout)        (None, 8)                 0         \n",
      "                                                                 \n",
      " batch_normalization_16 (Bat  (None, 8)                32        \n",
      " chNormalization)                                                \n",
      "                                                                 \n",
      " dense_27 (Dense)            (None, 4)                 36        \n",
      "                                                                 \n",
      " dropout_13 (Dropout)        (None, 4)                 0         \n",
      "                                                                 \n",
      " batch_normalization_17 (Bat  (None, 4)                16        \n",
      " chNormalization)                                                \n",
      "                                                                 \n",
      " dense_28 (Dense)            (None, 4)                 20        \n",
      "                                                                 \n",
      " dropout_14 (Dropout)        (None, 4)                 0         \n",
      "                                                                 \n",
      " batch_normalization_18 (Bat  (None, 4)                16        \n",
      " chNormalization)                                                \n",
      "                                                                 \n",
      " dense_29 (Dense)            (None, 1)                 5         \n",
      "                                                                 \n",
      "=================================================================\n",
      "Total params: 15,010,613\n",
      "Trainable params: 14,994,101\n",
      "Non-trainable params: 16,512\n",
      "_________________________________________________________________\n"
     ]
    }
   ],
   "source": [
    "VGGmodel = models.Sequential()\n",
    "VGGmodel.add(VGG_conv_base)\n",
    " \n",
    "# Add new layers\n",
    "VGGmodel.add(Flatten())\n",
    "VGGmodel.add(BatchNormalization())\n",
    "VGGmodel.add(Dense(32, activation='relu' ))\n",
    "VGGmodel.add(Dropout(0.2))\n",
    "VGGmodel.add(BatchNormalization())\n",
    "VGGmodel.add(Dense(16, activation='relu' ))\n",
    "VGGmodel.add(Dropout(0.2))\n",
    "VGGmodel.add(BatchNormalization())\n",
    "VGGmodel.add(Dense(8, activation='relu' ))\n",
    "VGGmodel.add(Dropout(0.2))\n",
    "VGGmodel.add(BatchNormalization())\n",
    "VGGmodel.add(Dense(4, activation='relu' ))\n",
    "VGGmodel.add(Dropout(0.2))\n",
    "VGGmodel.add(BatchNormalization())\n",
    "VGGmodel.add(Dense(4, activation='relu' ))\n",
    "VGGmodel.add(Dropout(0.2))\n",
    "VGGmodel.add(BatchNormalization())\n",
    "VGGmodel.add(Dense(1, activation='softmax'))\n",
    "VGGmodel.summary()"
   ]
  },
  {
   "cell_type": "code",
   "execution_count": 196,
   "id": "fe533b27",
   "metadata": {},
   "outputs": [],
   "source": [
    "VGG_conv_base.trainable = False"
   ]
  },
  {
   "cell_type": "code",
   "execution_count": 197,
   "id": "2f699063",
   "metadata": {},
   "outputs": [],
   "source": [
    "from tensorflow.keras import optimizers\n",
    "from tensorflow.keras.optimizers import Adam"
   ]
  },
  {
   "cell_type": "code",
   "execution_count": 198,
   "id": "16ef8e98",
   "metadata": {},
   "outputs": [],
   "source": [
    "VGGmodel.compile(loss='binary_crossentropy',\n",
    "              optimizer=Adam(learning_rate=1e-4),\n",
    "              metrics=['acc'])"
   ]
  },
  {
   "cell_type": "code",
   "execution_count": 199,
   "id": "10f04d60",
   "metadata": {},
   "outputs": [],
   "source": [
    "VGG16_checkpoint_cb = keras.callbacks.ModelCheckpoint(r\"C:\\Users\\kolik\\Blood_Cell_Detection\\Model\\VGG 16\\VGG_model.h5\", save_best_only=True)"
   ]
  },
  {
   "cell_type": "code",
   "execution_count": 200,
   "id": "4035f7b9",
   "metadata": {},
   "outputs": [],
   "source": [
    "VGG16_cb = tf.keras.callbacks.EarlyStopping(\n",
    "                   monitor = 'val_loss',\n",
    "                   patience = 50,\n",
    "                   restore_best_weights = True)"
   ]
  },
  {
   "cell_type": "code",
   "execution_count": 207,
   "id": "01b65fb2",
   "metadata": {
    "scrolled": false
   },
   "outputs": [
    {
     "name": "stdout",
     "output_type": "stream",
     "text": [
      "Epoch 1/100\n",
      "23/23 [==============================] - 48s 2s/step - loss: 0.8201 - acc: 0.5000 - val_loss: 0.6934 - val_acc: 0.5000\n",
      "Epoch 2/100\n",
      "23/23 [==============================] - 52s 2s/step - loss: 0.8131 - acc: 0.5000 - val_loss: 0.6936 - val_acc: 0.5000\n",
      "Epoch 3/100\n",
      "23/23 [==============================] - 69s 3s/step - loss: 0.8201 - acc: 0.5000 - val_loss: 0.6937 - val_acc: 0.5000\n",
      "Epoch 4/100\n",
      "23/23 [==============================] - 60s 3s/step - loss: 0.8079 - acc: 0.5000 - val_loss: 0.6936 - val_acc: 0.5000\n",
      "Epoch 5/100\n",
      "23/23 [==============================] - 65s 3s/step - loss: 0.8168 - acc: 0.5000 - val_loss: 0.6940 - val_acc: 0.5000\n",
      "Epoch 6/100\n",
      "23/23 [==============================] - 56s 2s/step - loss: 0.8099 - acc: 0.5000 - val_loss: 0.6944 - val_acc: 0.5000\n",
      "Epoch 7/100\n",
      "23/23 [==============================] - 73s 3s/step - loss: 0.8040 - acc: 0.5000 - val_loss: 0.6951 - val_acc: 0.5000\n",
      "Epoch 8/100\n",
      "23/23 [==============================] - 48s 2s/step - loss: 0.8006 - acc: 0.5000 - val_loss: 0.6946 - val_acc: 0.5000\n",
      "Epoch 9/100\n",
      "23/23 [==============================] - 53s 2s/step - loss: 0.7965 - acc: 0.5000 - val_loss: 0.6943 - val_acc: 0.5000\n",
      "Epoch 10/100\n",
      "23/23 [==============================] - 47s 2s/step - loss: 0.8019 - acc: 0.5000 - val_loss: 0.6942 - val_acc: 0.5000\n",
      "Epoch 11/100\n",
      "23/23 [==============================] - 54s 2s/step - loss: 0.7981 - acc: 0.5000 - val_loss: 0.6946 - val_acc: 0.5000\n",
      "Epoch 12/100\n",
      "23/23 [==============================] - 57s 3s/step - loss: 0.7916 - acc: 0.5000 - val_loss: 0.6974 - val_acc: 0.5000\n",
      "Epoch 13/100\n",
      "23/23 [==============================] - 49s 2s/step - loss: 0.7951 - acc: 0.5000 - val_loss: 0.6978 - val_acc: 0.5000\n",
      "Epoch 14/100\n",
      "23/23 [==============================] - 51s 2s/step - loss: 0.7881 - acc: 0.5000 - val_loss: 0.6974 - val_acc: 0.5000\n",
      "Epoch 15/100\n",
      "23/23 [==============================] - 53s 2s/step - loss: 0.7912 - acc: 0.5000 - val_loss: 0.6983 - val_acc: 0.5000\n",
      "Epoch 16/100\n",
      "23/23 [==============================] - 54s 2s/step - loss: 0.7898 - acc: 0.5000 - val_loss: 0.6999 - val_acc: 0.5000\n",
      "Epoch 17/100\n",
      "23/23 [==============================] - 98s 4s/step - loss: 0.7889 - acc: 0.5000 - val_loss: 0.7014 - val_acc: 0.5000\n",
      "Epoch 18/100\n",
      "23/23 [==============================] - 85s 4s/step - loss: 0.7787 - acc: 0.5000 - val_loss: 0.6989 - val_acc: 0.5000\n",
      "Epoch 19/100\n",
      "23/23 [==============================] - 76s 3s/step - loss: 0.7805 - acc: 0.5000 - val_loss: 0.6988 - val_acc: 0.5000\n",
      "Epoch 20/100\n",
      "23/23 [==============================] - 73s 3s/step - loss: 0.7782 - acc: 0.5000 - val_loss: 0.6979 - val_acc: 0.5000\n",
      "Epoch 21/100\n",
      "23/23 [==============================] - 73s 3s/step - loss: 0.7777 - acc: 0.5000 - val_loss: 0.7016 - val_acc: 0.5000\n",
      "Epoch 22/100\n",
      "23/23 [==============================] - 75s 3s/step - loss: 0.7791 - acc: 0.5000 - val_loss: 0.7024 - val_acc: 0.5000\n",
      "Epoch 23/100\n",
      "23/23 [==============================] - 78s 3s/step - loss: 0.7779 - acc: 0.5000 - val_loss: 0.7007 - val_acc: 0.5000\n",
      "Epoch 24/100\n",
      "23/23 [==============================] - 72s 3s/step - loss: 0.7769 - acc: 0.5000 - val_loss: 0.7054 - val_acc: 0.5000\n",
      "Epoch 25/100\n",
      "23/23 [==============================] - 67s 3s/step - loss: 0.7755 - acc: 0.5000 - val_loss: 0.7033 - val_acc: 0.5000\n",
      "Epoch 26/100\n",
      "23/23 [==============================] - 74s 3s/step - loss: 0.7724 - acc: 0.5000 - val_loss: 0.7025 - val_acc: 0.5000\n",
      "Epoch 27/100\n",
      "23/23 [==============================] - 72s 3s/step - loss: 0.7745 - acc: 0.5000 - val_loss: 0.7013 - val_acc: 0.5000\n",
      "Epoch 28/100\n",
      "23/23 [==============================] - 64s 3s/step - loss: 0.7735 - acc: 0.5000 - val_loss: 0.7049 - val_acc: 0.5000\n",
      "Epoch 29/100\n",
      "23/23 [==============================] - 76s 3s/step - loss: 0.7742 - acc: 0.5000 - val_loss: 0.7036 - val_acc: 0.5000\n",
      "Epoch 30/100\n",
      "23/23 [==============================] - 74s 3s/step - loss: 0.7649 - acc: 0.5000 - val_loss: 0.7021 - val_acc: 0.5000\n",
      "Epoch 31/100\n",
      "23/23 [==============================] - 62s 3s/step - loss: 0.7643 - acc: 0.5000 - val_loss: 0.7031 - val_acc: 0.5000\n",
      "Epoch 32/100\n",
      "23/23 [==============================] - 69s 3s/step - loss: 0.7636 - acc: 0.5000 - val_loss: 0.7051 - val_acc: 0.5000\n",
      "Epoch 33/100\n",
      "23/23 [==============================] - 55s 2s/step - loss: 0.7641 - acc: 0.5000 - val_loss: 0.7026 - val_acc: 0.5000\n",
      "Epoch 34/100\n",
      "23/23 [==============================] - 53s 2s/step - loss: 0.7624 - acc: 0.5000 - val_loss: 0.7014 - val_acc: 0.5000\n",
      "Epoch 35/100\n",
      "23/23 [==============================] - 54s 2s/step - loss: 0.7651 - acc: 0.5000 - val_loss: 0.7015 - val_acc: 0.5000\n",
      "Epoch 36/100\n",
      "23/23 [==============================] - 59s 3s/step - loss: 0.7628 - acc: 0.5000 - val_loss: 0.7013 - val_acc: 0.5000\n",
      "Epoch 37/100\n",
      "23/23 [==============================] - 70s 3s/step - loss: 0.7624 - acc: 0.5000 - val_loss: 0.7001 - val_acc: 0.5000\n",
      "Epoch 38/100\n",
      "23/23 [==============================] - 72s 3s/step - loss: 0.7646 - acc: 0.5000 - val_loss: 0.7006 - val_acc: 0.5000\n",
      "Epoch 39/100\n",
      "23/23 [==============================] - 61s 3s/step - loss: 0.7591 - acc: 0.5000 - val_loss: 0.6973 - val_acc: 0.5000\n",
      "Epoch 40/100\n",
      "23/23 [==============================] - 60s 3s/step - loss: 0.7604 - acc: 0.5000 - val_loss: 0.6956 - val_acc: 0.5000\n",
      "Epoch 41/100\n",
      "23/23 [==============================] - 70s 3s/step - loss: 0.7582 - acc: 0.5000 - val_loss: 0.6958 - val_acc: 0.5000\n",
      "Epoch 42/100\n",
      "23/23 [==============================] - 57s 2s/step - loss: 0.7559 - acc: 0.5000 - val_loss: 0.6963 - val_acc: 0.5000\n",
      "Epoch 43/100\n",
      "23/23 [==============================] - 56s 2s/step - loss: 0.7565 - acc: 0.5000 - val_loss: 0.6967 - val_acc: 0.5000\n",
      "Epoch 44/100\n",
      "23/23 [==============================] - 92s 4s/step - loss: 0.7550 - acc: 0.5000 - val_loss: 0.6971 - val_acc: 0.5000\n",
      "Epoch 45/100\n",
      "23/23 [==============================] - 62s 3s/step - loss: 0.7554 - acc: 0.5000 - val_loss: 0.6960 - val_acc: 0.5000\n",
      "Epoch 46/100\n",
      "23/23 [==============================] - 105s 5s/step - loss: 0.7581 - acc: 0.5000 - val_loss: 0.6969 - val_acc: 0.5000\n",
      "Epoch 47/100\n",
      "23/23 [==============================] - 43s 2s/step - loss: 0.7565 - acc: 0.5000 - val_loss: 0.6967 - val_acc: 0.5000\n",
      "Epoch 48/100\n",
      "23/23 [==============================] - 45s 2s/step - loss: 0.7540 - acc: 0.5000 - val_loss: 0.6977 - val_acc: 0.5000\n",
      "Epoch 49/100\n",
      "23/23 [==============================] - 71s 3s/step - loss: 0.7533 - acc: 0.5000 - val_loss: 0.6971 - val_acc: 0.5000\n",
      "Epoch 50/100\n",
      "23/23 [==============================] - 71s 3s/step - loss: 0.7536 - acc: 0.5000 - val_loss: 0.6955 - val_acc: 0.5000\n",
      "Epoch 51/100\n",
      "23/23 [==============================] - 64s 3s/step - loss: 0.7501 - acc: 0.5000 - val_loss: 0.6948 - val_acc: 0.5000\n",
      "Epoch 52/100\n",
      "23/23 [==============================] - 62s 3s/step - loss: 0.7490 - acc: 0.5000 - val_loss: 0.6952 - val_acc: 0.5000\n",
      "Epoch 53/100\n",
      "23/23 [==============================] - 64s 3s/step - loss: 0.7468 - acc: 0.5000 - val_loss: 0.6947 - val_acc: 0.5000\n",
      "Epoch 54/100\n",
      "23/23 [==============================] - 80s 4s/step - loss: 0.7466 - acc: 0.5000 - val_loss: 0.6944 - val_acc: 0.5000\n",
      "Epoch 55/100\n",
      "23/23 [==============================] - 67s 3s/step - loss: 0.7430 - acc: 0.5000 - val_loss: 0.6948 - val_acc: 0.5000\n",
      "Epoch 56/100\n",
      "23/23 [==============================] - 60s 3s/step - loss: 0.7499 - acc: 0.5000 - val_loss: 0.6952 - val_acc: 0.5000\n",
      "Epoch 57/100\n",
      "23/23 [==============================] - 69s 3s/step - loss: 0.7460 - acc: 0.5000 - val_loss: 0.6956 - val_acc: 0.5000\n",
      "Epoch 58/100\n",
      "23/23 [==============================] - 72s 3s/step - loss: 0.7440 - acc: 0.5000 - val_loss: 0.6957 - val_acc: 0.5000\n",
      "Epoch 59/100\n",
      "23/23 [==============================] - 69s 3s/step - loss: 0.7457 - acc: 0.5000 - val_loss: 0.6961 - val_acc: 0.5000\n",
      "Epoch 60/100\n",
      "23/23 [==============================] - 71s 3s/step - loss: 0.7431 - acc: 0.5000 - val_loss: 0.6965 - val_acc: 0.5000\n",
      "Epoch 61/100\n",
      "23/23 [==============================] - 65s 3s/step - loss: 0.7410 - acc: 0.5000 - val_loss: 0.6965 - val_acc: 0.5000\n",
      "Epoch 62/100\n",
      "23/23 [==============================] - 61s 3s/step - loss: 0.7442 - acc: 0.5000 - val_loss: 0.6954 - val_acc: 0.5000\n",
      "Epoch 63/100\n",
      "23/23 [==============================] - 68s 3s/step - loss: 0.7412 - acc: 0.5000 - val_loss: 0.6964 - val_acc: 0.5000\n",
      "Epoch 64/100\n",
      "23/23 [==============================] - 59s 3s/step - loss: 0.7407 - acc: 0.5000 - val_loss: 0.6967 - val_acc: 0.5000\n",
      "Epoch 65/100\n",
      "23/23 [==============================] - 60s 3s/step - loss: 0.7446 - acc: 0.5000 - val_loss: 0.6968 - val_acc: 0.5000\n",
      "Epoch 66/100\n",
      "23/23 [==============================] - 84s 4s/step - loss: 0.7382 - acc: 0.5000 - val_loss: 0.6957 - val_acc: 0.5000\n",
      "Epoch 67/100\n",
      "23/23 [==============================] - 68s 3s/step - loss: 0.7383 - acc: 0.5000 - val_loss: 0.6957 - val_acc: 0.5000\n",
      "Epoch 68/100\n",
      "23/23 [==============================] - 72s 3s/step - loss: 0.7403 - acc: 0.5000 - val_loss: 0.6951 - val_acc: 0.5000\n",
      "Epoch 69/100\n",
      "23/23 [==============================] - 72s 3s/step - loss: 0.7398 - acc: 0.5000 - val_loss: 0.6950 - val_acc: 0.5000\n",
      "Epoch 70/100\n",
      "23/23 [==============================] - 79s 3s/step - loss: 0.7351 - acc: 0.5000 - val_loss: 0.6947 - val_acc: 0.5000\n",
      "Epoch 71/100\n",
      "23/23 [==============================] - 64s 3s/step - loss: 0.7420 - acc: 0.5000 - val_loss: 0.6950 - val_acc: 0.5000\n",
      "Epoch 72/100\n",
      "23/23 [==============================] - 69s 3s/step - loss: 0.7331 - acc: 0.5000 - val_loss: 0.6953 - val_acc: 0.5000\n",
      "Epoch 73/100\n",
      "23/23 [==============================] - 55s 2s/step - loss: 0.7309 - acc: 0.5000 - val_loss: 0.6950 - val_acc: 0.5000\n",
      "Epoch 74/100\n",
      "23/23 [==============================] - 76s 3s/step - loss: 0.7367 - acc: 0.5000 - val_loss: 0.6948 - val_acc: 0.5000\n",
      "Epoch 75/100\n",
      "23/23 [==============================] - 62s 3s/step - loss: 0.7349 - acc: 0.5000 - val_loss: 0.6947 - val_acc: 0.5000\n",
      "Epoch 76/100\n",
      "23/23 [==============================] - 69s 3s/step - loss: 0.7344 - acc: 0.5000 - val_loss: 0.6947 - val_acc: 0.5000\n",
      "Epoch 77/100\n",
      "23/23 [==============================] - 71s 3s/step - loss: 0.7303 - acc: 0.5000 - val_loss: 0.6950 - val_acc: 0.5000\n",
      "Epoch 78/100\n",
      "23/23 [==============================] - 62s 3s/step - loss: 0.7370 - acc: 0.5000 - val_loss: 0.6953 - val_acc: 0.5000\n",
      "Epoch 79/100\n",
      "23/23 [==============================] - 70s 3s/step - loss: 0.7333 - acc: 0.5000 - val_loss: 0.6952 - val_acc: 0.5000\n",
      "Epoch 80/100\n",
      "23/23 [==============================] - 73s 3s/step - loss: 0.7339 - acc: 0.5000 - val_loss: 0.6948 - val_acc: 0.5000\n",
      "Epoch 81/100\n",
      "23/23 [==============================] - 68s 3s/step - loss: 0.7282 - acc: 0.5000 - val_loss: 0.6947 - val_acc: 0.5000\n",
      "Epoch 82/100\n",
      "23/23 [==============================] - 68s 3s/step - loss: 0.7331 - acc: 0.5000 - val_loss: 0.6951 - val_acc: 0.5000\n",
      "Epoch 83/100\n",
      "23/23 [==============================] - 64s 3s/step - loss: 0.7291 - acc: 0.5000 - val_loss: 0.6956 - val_acc: 0.5000\n",
      "Epoch 84/100\n",
      "23/23 [==============================] - 56s 2s/step - loss: 0.7316 - acc: 0.5000 - val_loss: 0.6953 - val_acc: 0.5000\n",
      "Epoch 85/100\n",
      "23/23 [==============================] - 62s 3s/step - loss: 0.7361 - acc: 0.5000 - val_loss: 0.6952 - val_acc: 0.5000\n",
      "Epoch 86/100\n",
      "23/23 [==============================] - 75s 3s/step - loss: 0.7318 - acc: 0.5000 - val_loss: 0.6953 - val_acc: 0.5000\n",
      "Epoch 87/100\n",
      "23/23 [==============================] - 86s 4s/step - loss: 0.7315 - acc: 0.5000 - val_loss: 0.6950 - val_acc: 0.5000\n",
      "Epoch 88/100\n",
      "23/23 [==============================] - 57s 2s/step - loss: 0.7305 - acc: 0.5000 - val_loss: 0.6950 - val_acc: 0.5000\n",
      "Epoch 89/100\n",
      "23/23 [==============================] - 63s 3s/step - loss: 0.7271 - acc: 0.5000 - val_loss: 0.6952 - val_acc: 0.5000\n",
      "Epoch 90/100\n",
      "23/23 [==============================] - 93s 4s/step - loss: 0.7290 - acc: 0.5000 - val_loss: 0.6951 - val_acc: 0.5000\n",
      "Epoch 91/100\n",
      "23/23 [==============================] - 61s 3s/step - loss: 0.7272 - acc: 0.5000 - val_loss: 0.6954 - val_acc: 0.5000\n",
      "Epoch 92/100\n",
      "23/23 [==============================] - 64s 3s/step - loss: 0.7241 - acc: 0.5000 - val_loss: 0.6953 - val_acc: 0.5000\n",
      "Epoch 93/100\n",
      "23/23 [==============================] - 58s 3s/step - loss: 0.7245 - acc: 0.5000 - val_loss: 0.6952 - val_acc: 0.5000\n",
      "Epoch 94/100\n",
      "23/23 [==============================] - 73s 3s/step - loss: 0.7233 - acc: 0.5000 - val_loss: 0.6948 - val_acc: 0.5000\n",
      "Epoch 95/100\n",
      "23/23 [==============================] - 67s 3s/step - loss: 0.7260 - acc: 0.5000 - val_loss: 0.6946 - val_acc: 0.5000\n",
      "Epoch 96/100\n",
      "23/23 [==============================] - 50s 2s/step - loss: 0.7268 - acc: 0.5000 - val_loss: 0.6945 - val_acc: 0.5000\n",
      "Epoch 97/100\n",
      "23/23 [==============================] - 66s 3s/step - loss: 0.7254 - acc: 0.5000 - val_loss: 0.6944 - val_acc: 0.5000\n",
      "Epoch 98/100\n",
      "23/23 [==============================] - 70s 3s/step - loss: 0.7264 - acc: 0.5000 - val_loss: 0.6943 - val_acc: 0.5000\n",
      "Epoch 99/100\n",
      "23/23 [==============================] - 61s 3s/step - loss: 0.7265 - acc: 0.5000 - val_loss: 0.6943 - val_acc: 0.5000\n",
      "Epoch 100/100\n",
      "23/23 [==============================] - 61s 3s/step - loss: 0.7261 - acc: 0.5000 - val_loss: 0.6943 - val_acc: 0.5000\n"
     ]
    }
   ],
   "source": [
    "historyVGG = VGGmodel.fit(\n",
    "      train_generator,\n",
    "      steps_per_epoch=train_generator.samples//train_generator.batch_size,\n",
    "      epochs=100,\n",
    "      validation_data=validation_generator,\n",
    "      validation_steps=validation_generator.samples//validation_generator.batch_size)"
   ]
  },
  {
   "cell_type": "code",
   "execution_count": 208,
   "id": "3cca2ac5",
   "metadata": {},
   "outputs": [
    {
     "name": "stdout",
     "output_type": "stream",
     "text": [
      "Found 36 images belonging to 2 classes.\n"
     ]
    }
   ],
   "source": [
    "test_generator = test_datagen.flow_from_directory(\n",
    "        test_dir,\n",
    "        target_size=(128,128),\n",
    "        batch_size=2,\n",
    "        class_mode='categorical')"
   ]
  },
  {
   "cell_type": "code",
   "execution_count": 209,
   "id": "e727feb1",
   "metadata": {},
   "outputs": [
    {
     "name": "stdout",
     "output_type": "stream",
     "text": [
      "18/18 [==============================] - 3s 141ms/step - loss: 0.6950 - acc: 0.5000\n"
     ]
    }
   ],
   "source": [
    "VGG_custom_evaluation = VGGmodel.evaluate(test_generator, steps=(36/test_generator.batch_size))"
   ]
  },
  {
   "cell_type": "code",
   "execution_count": 210,
   "id": "9cc12471",
   "metadata": {},
   "outputs": [
    {
     "data": {
      "image/png": "[encoded data removed]",
      "text/plain": [
       "<Figure size 432x288 with 1 Axes>"
      ]
     },
     "metadata": {
      "needs_background": "light"
     },
     "output_type": "display_data"
    },
    {
     "data": {
      "image/png": "[encoded data removed]",
      "text/plain": [
       "<Figure size 432x288 with 1 Axes>"
      ]
     },
     "metadata": {
      "needs_background": "light"
     },
     "output_type": "display_data"
    }
   ],
   "source": [
    "acc = historyVGG.history['acc']\n",
    "val_acc = historyVGG.history['val_acc']\n",
    "loss = historyVGG.history['loss']\n",
    "val_loss = historyVGG.history['val_loss']\n",
    " \n",
    "epochs = range(len(acc))\n",
    " \n",
    "plt.plot(epochs, acc, 'b', label='Training acc')\n",
    "plt.plot(epochs, val_acc, 'r', label='Validation acc')\n",
    "plt.title('Training and validation accuracy')\n",
    "plt.legend()\n",
    " \n",
    "plt.figure()\n",
    " \n",
    "plt.plot(epochs, loss, 'b', label='Training loss')\n",
    "plt.plot(epochs, val_loss, 'r', label='Validation loss')\n",
    "plt.title('Training and validation loss')\n",
    "plt.legend()\n",
    " \n",
    "plt.show()"
   ]
  },
  {
   "cell_type": "code",
   "execution_count": 236,
   "id": "be6605c5",
   "metadata": {},
   "outputs": [
    {
     "name": "stdout",
     "output_type": "stream",
     "text": [
      "Loss:  0.6950476169586182\n",
      "Accuracy:  0.5\n"
     ]
    }
   ],
   "source": [
    "print(\"Loss: \",VGG_custom_evaluation[0])\n",
    "print(\"Accuracy: \",VGG_custom_evaluation[1])"
   ]
  },
  {
   "cell_type": "code",
   "execution_count": 229,
   "id": "33e59d3a",
   "metadata": {},
   "outputs": [],
   "source": [
    "model.save(r\"C:\\Users\\kolik\\Blood_Cell_Detection\\Model\\VGG 16\\VGGmodel.h5\")"
   ]
  },
  {
   "cell_type": "markdown",
   "id": "d54435af",
   "metadata": {},
   "source": [
    "### Model 3 - Pretrained Algorithm Xception"
   ]
  },
  {
   "cell_type": "code",
   "execution_count": 221,
   "id": "77b7917a",
   "metadata": {},
   "outputs": [],
   "source": [
    "from tensorflow.keras.applications import Xception"
   ]
  },
  {
   "cell_type": "code",
   "execution_count": 222,
   "id": "56f1ee27",
   "metadata": {},
   "outputs": [],
   "source": [
    "X_conv_base = Xception(weights='imagenet',\n",
    "                  include_top=False,\n",
    "                  input_shape=(128, 128, 3))"
   ]
  },
  {
   "cell_type": "code",
   "execution_count": 223,
   "id": "5ef819f6",
   "metadata": {},
   "outputs": [
    {
     "name": "stdout",
     "output_type": "stream",
     "text": [
      "Model: \"xception\"\n",
      "__________________________________________________________________________________________________\n",
      " Layer (type)                   Output Shape         Param #     Connected to                     \n",
      "==================================================================================================\n",
      " input_8 (InputLayer)           [(None, 128, 128, 3  0           []                               \n",
      "                                )]                                                                \n",
      "                                                                                                  \n",
      " block1_conv1 (Conv2D)          (None, 63, 63, 32)   864         ['input_8[0][0]']                \n",
      "                                                                                                  \n",
      " block1_conv1_bn (BatchNormaliz  (None, 63, 63, 32)  128         ['block1_conv1[0][0]']           \n",
      " ation)                                                                                           \n",
      "                                                                                                  \n",
      " block1_conv1_act (Activation)  (None, 63, 63, 32)   0           ['block1_conv1_bn[0][0]']        \n",
      "                                                                                                  \n",
      " block1_conv2 (Conv2D)          (None, 61, 61, 64)   18432       ['block1_conv1_act[0][0]']       \n",
      "                                                                                                  \n",
      " block1_conv2_bn (BatchNormaliz  (None, 61, 61, 64)  256         ['block1_conv2[0][0]']           \n",
      " ation)                                                                                           \n",
      "                                                                                                  \n",
      " block1_conv2_act (Activation)  (None, 61, 61, 64)   0           ['block1_conv2_bn[0][0]']        \n",
      "                                                                                                  \n",
      " block2_sepconv1 (SeparableConv  (None, 61, 61, 128)  8768       ['block1_conv2_act[0][0]']       \n",
      " 2D)                                                                                              \n",
      "                                                                                                  \n",
      " block2_sepconv1_bn (BatchNorma  (None, 61, 61, 128)  512        ['block2_sepconv1[0][0]']        \n",
      " lization)                                                                                        \n",
      "                                                                                                  \n",
      " block2_sepconv2_act (Activatio  (None, 61, 61, 128)  0          ['block2_sepconv1_bn[0][0]']     \n",
      " n)                                                                                               \n",
      "                                                                                                  \n",
      " block2_sepconv2 (SeparableConv  (None, 61, 61, 128)  17536      ['block2_sepconv2_act[0][0]']    \n",
      " 2D)                                                                                              \n",
      "                                                                                                  \n",
      " block2_sepconv2_bn (BatchNorma  (None, 61, 61, 128)  512        ['block2_sepconv2[0][0]']        \n",
      " lization)                                                                                        \n",
      "                                                                                                  \n",
      " conv2d_24 (Conv2D)             (None, 31, 31, 128)  8192        ['block1_conv2_act[0][0]']       \n",
      "                                                                                                  \n",
      " block2_pool (MaxPooling2D)     (None, 31, 31, 128)  0           ['block2_sepconv2_bn[0][0]']     \n",
      "                                                                                                  \n",
      " batch_normalization_29 (BatchN  (None, 31, 31, 128)  512        ['conv2d_24[0][0]']              \n",
      " ormalization)                                                                                    \n",
      "                                                                                                  \n",
      " add_12 (Add)                   (None, 31, 31, 128)  0           ['block2_pool[0][0]',            \n",
      "                                                                  'batch_normalization_29[0][0]'] \n",
      "                                                                                                  \n",
      " block3_sepconv1_act (Activatio  (None, 31, 31, 128)  0          ['add_12[0][0]']                 \n",
      " n)                                                                                               \n",
      "                                                                                                  \n",
      " block3_sepconv1 (SeparableConv  (None, 31, 31, 256)  33920      ['block3_sepconv1_act[0][0]']    \n",
      " 2D)                                                                                              \n",
      "                                                                                                  \n",
      " block3_sepconv1_bn (BatchNorma  (None, 31, 31, 256)  1024       ['block3_sepconv1[0][0]']        \n",
      " lization)                                                                                        \n",
      "                                                                                                  \n",
      " block3_sepconv2_act (Activatio  (None, 31, 31, 256)  0          ['block3_sepconv1_bn[0][0]']     \n",
      " n)                                                                                               \n",
      "                                                                                                  \n",
      " block3_sepconv2 (SeparableConv  (None, 31, 31, 256)  67840      ['block3_sepconv2_act[0][0]']    \n",
      " 2D)                                                                                              \n",
      "                                                                                                  \n",
      " block3_sepconv2_bn (BatchNorma  (None, 31, 31, 256)  1024       ['block3_sepconv2[0][0]']        \n",
      " lization)                                                                                        \n",
      "                                                                                                  \n",
      " conv2d_25 (Conv2D)             (None, 16, 16, 256)  32768       ['add_12[0][0]']                 \n",
      "                                                                                                  \n",
      " block3_pool (MaxPooling2D)     (None, 16, 16, 256)  0           ['block3_sepconv2_bn[0][0]']     \n",
      "                                                                                                  \n",
      " batch_normalization_30 (BatchN  (None, 16, 16, 256)  1024       ['conv2d_25[0][0]']              \n",
      " ormalization)                                                                                    \n",
      "                                                                                                  \n",
      " add_13 (Add)                   (None, 16, 16, 256)  0           ['block3_pool[0][0]',            \n",
      "                                                                  'batch_normalization_30[0][0]'] \n",
      "                                                                                                  \n",
      " block4_sepconv1_act (Activatio  (None, 16, 16, 256)  0          ['add_13[0][0]']                 \n",
      " n)                                                                                               \n",
      "                                                                                                  \n",
      " block4_sepconv1 (SeparableConv  (None, 16, 16, 728)  188672     ['block4_sepconv1_act[0][0]']    \n",
      " 2D)                                                                                              \n",
      "                                                                                                  \n",
      " block4_sepconv1_bn (BatchNorma  (None, 16, 16, 728)  2912       ['block4_sepconv1[0][0]']        \n",
      " lization)                                                                                        \n",
      "                                                                                                  \n",
      " block4_sepconv2_act (Activatio  (None, 16, 16, 728)  0          ['block4_sepconv1_bn[0][0]']     \n"
     ]
    },
    {
     "name": "stdout",
     "output_type": "stream",
     "text": [
      " n)                                                                                               \n",
      "                                                                                                  \n",
      " block4_sepconv2 (SeparableConv  (None, 16, 16, 728)  536536     ['block4_sepconv2_act[0][0]']    \n",
      " 2D)                                                                                              \n",
      "                                                                                                  \n",
      " block4_sepconv2_bn (BatchNorma  (None, 16, 16, 728)  2912       ['block4_sepconv2[0][0]']        \n",
      " lization)                                                                                        \n",
      "                                                                                                  \n",
      " conv2d_26 (Conv2D)             (None, 8, 8, 728)    186368      ['add_13[0][0]']                 \n",
      "                                                                                                  \n",
      " block4_pool (MaxPooling2D)     (None, 8, 8, 728)    0           ['block4_sepconv2_bn[0][0]']     \n",
      "                                                                                                  \n",
      " batch_normalization_31 (BatchN  (None, 8, 8, 728)   2912        ['conv2d_26[0][0]']              \n",
      " ormalization)                                                                                    \n",
      "                                                                                                  \n",
      " add_14 (Add)                   (None, 8, 8, 728)    0           ['block4_pool[0][0]',            \n",
      "                                                                  'batch_normalization_31[0][0]'] \n",
      "                                                                                                  \n",
      " block5_sepconv1_act (Activatio  (None, 8, 8, 728)   0           ['add_14[0][0]']                 \n",
      " n)                                                                                               \n",
      "                                                                                                  \n",
      " block5_sepconv1 (SeparableConv  (None, 8, 8, 728)   536536      ['block5_sepconv1_act[0][0]']    \n",
      " 2D)                                                                                              \n",
      "                                                                                                  \n",
      " block5_sepconv1_bn (BatchNorma  (None, 8, 8, 728)   2912        ['block5_sepconv1[0][0]']        \n",
      " lization)                                                                                        \n",
      "                                                                                                  \n",
      " block5_sepconv2_act (Activatio  (None, 8, 8, 728)   0           ['block5_sepconv1_bn[0][0]']     \n",
      " n)                                                                                               \n",
      "                                                                                                  \n",
      " block5_sepconv2 (SeparableConv  (None, 8, 8, 728)   536536      ['block5_sepconv2_act[0][0]']    \n",
      " 2D)                                                                                              \n",
      "                                                                                                  \n",
      " block5_sepconv2_bn (BatchNorma  (None, 8, 8, 728)   2912        ['block5_sepconv2[0][0]']        \n",
      " lization)                                                                                        \n",
      "                                                                                                  \n",
      " block5_sepconv3_act (Activatio  (None, 8, 8, 728)   0           ['block5_sepconv2_bn[0][0]']     \n",
      " n)                                                                                               \n",
      "                                                                                                  \n",
      " block5_sepconv3 (SeparableConv  (None, 8, 8, 728)   536536      ['block5_sepconv3_act[0][0]']    \n",
      " 2D)                                                                                              \n",
      "                                                                                                  \n",
      " block5_sepconv3_bn (BatchNorma  (None, 8, 8, 728)   2912        ['block5_sepconv3[0][0]']        \n",
      " lization)                                                                                        \n",
      "                                                                                                  \n",
      " add_15 (Add)                   (None, 8, 8, 728)    0           ['block5_sepconv3_bn[0][0]',     \n",
      "                                                                  'add_14[0][0]']                 \n",
      "                                                                                                  \n",
      " block6_sepconv1_act (Activatio  (None, 8, 8, 728)   0           ['add_15[0][0]']                 \n",
      " n)                                                                                               \n",
      "                                                                                                  \n",
      " block6_sepconv1 (SeparableConv  (None, 8, 8, 728)   536536      ['block6_sepconv1_act[0][0]']    \n",
      " 2D)                                                                                              \n",
      "                                                                                                  \n",
      " block6_sepconv1_bn (BatchNorma  (None, 8, 8, 728)   2912        ['block6_sepconv1[0][0]']        \n",
      " lization)                                                                                        \n",
      "                                                                                                  \n",
      " block6_sepconv2_act (Activatio  (None, 8, 8, 728)   0           ['block6_sepconv1_bn[0][0]']     \n",
      " n)                                                                                               \n",
      "                                                                                                  \n",
      " block6_sepconv2 (SeparableConv  (None, 8, 8, 728)   536536      ['block6_sepconv2_act[0][0]']    \n",
      " 2D)                                                                                              \n",
      "                                                                                                  \n",
      " block6_sepconv2_bn (BatchNorma  (None, 8, 8, 728)   2912        ['block6_sepconv2[0][0]']        \n",
      " lization)                                                                                        \n",
      "                                                                                                  \n",
      " block6_sepconv3_act (Activatio  (None, 8, 8, 728)   0           ['block6_sepconv2_bn[0][0]']     \n",
      " n)                                                                                               \n",
      "                                                                                                  \n",
      " block6_sepconv3 (SeparableConv  (None, 8, 8, 728)   536536      ['block6_sepconv3_act[0][0]']    \n",
      " 2D)                                                                                              \n",
      "                                                                                                  \n",
      " block6_sepconv3_bn (BatchNorma  (None, 8, 8, 728)   2912        ['block6_sepconv3[0][0]']        \n",
      " lization)                                                                                        \n",
      "                                                                                                  \n",
      " add_16 (Add)                   (None, 8, 8, 728)    0           ['block6_sepconv3_bn[0][0]',     \n",
      "                                                                  'add_15[0][0]']                 \n",
      "                                                                                                  \n",
      " block7_sepconv1_act (Activatio  (None, 8, 8, 728)   0           ['add_16[0][0]']                 \n",
      " n)                                                                                               \n",
      "                                                                                                  \n",
      " block7_sepconv1 (SeparableConv  (None, 8, 8, 728)   536536      ['block7_sepconv1_act[0][0]']    \n",
      " 2D)                                                                                              \n"
     ]
    },
    {
     "name": "stdout",
     "output_type": "stream",
     "text": [
      "                                                                                                  \n",
      " block7_sepconv1_bn (BatchNorma  (None, 8, 8, 728)   2912        ['block7_sepconv1[0][0]']        \n",
      " lization)                                                                                        \n",
      "                                                                                                  \n",
      " block7_sepconv2_act (Activatio  (None, 8, 8, 728)   0           ['block7_sepconv1_bn[0][0]']     \n",
      " n)                                                                                               \n",
      "                                                                                                  \n",
      " block7_sepconv2 (SeparableConv  (None, 8, 8, 728)   536536      ['block7_sepconv2_act[0][0]']    \n",
      " 2D)                                                                                              \n",
      "                                                                                                  \n",
      " block7_sepconv2_bn (BatchNorma  (None, 8, 8, 728)   2912        ['block7_sepconv2[0][0]']        \n",
      " lization)                                                                                        \n",
      "                                                                                                  \n",
      " block7_sepconv3_act (Activatio  (None, 8, 8, 728)   0           ['block7_sepconv2_bn[0][0]']     \n",
      " n)                                                                                               \n",
      "                                                                                                  \n",
      " block7_sepconv3 (SeparableConv  (None, 8, 8, 728)   536536      ['block7_sepconv3_act[0][0]']    \n",
      " 2D)                                                                                              \n",
      "                                                                                                  \n",
      " block7_sepconv3_bn (BatchNorma  (None, 8, 8, 728)   2912        ['block7_sepconv3[0][0]']        \n",
      " lization)                                                                                        \n",
      "                                                                                                  \n",
      " add_17 (Add)                   (None, 8, 8, 728)    0           ['block7_sepconv3_bn[0][0]',     \n",
      "                                                                  'add_16[0][0]']                 \n",
      "                                                                                                  \n",
      " block8_sepconv1_act (Activatio  (None, 8, 8, 728)   0           ['add_17[0][0]']                 \n",
      " n)                                                                                               \n",
      "                                                                                                  \n",
      " block8_sepconv1 (SeparableConv  (None, 8, 8, 728)   536536      ['block8_sepconv1_act[0][0]']    \n",
      " 2D)                                                                                              \n",
      "                                                                                                  \n",
      " block8_sepconv1_bn (BatchNorma  (None, 8, 8, 728)   2912        ['block8_sepconv1[0][0]']        \n",
      " lization)                                                                                        \n",
      "                                                                                                  \n",
      " block8_sepconv2_act (Activatio  (None, 8, 8, 728)   0           ['block8_sepconv1_bn[0][0]']     \n",
      " n)                                                                                               \n",
      "                                                                                                  \n",
      " block8_sepconv2 (SeparableConv  (None, 8, 8, 728)   536536      ['block8_sepconv2_act[0][0]']    \n",
      " 2D)                                                                                              \n",
      "                                                                                                  \n",
      " block8_sepconv2_bn (BatchNorma  (None, 8, 8, 728)   2912        ['block8_sepconv2[0][0]']        \n",
      " lization)                                                                                        \n",
      "                                                                                                  \n",
      " block8_sepconv3_act (Activatio  (None, 8, 8, 728)   0           ['block8_sepconv2_bn[0][0]']     \n",
      " n)                                                                                               \n",
      "                                                                                                  \n",
      " block8_sepconv3 (SeparableConv  (None, 8, 8, 728)   536536      ['block8_sepconv3_act[0][0]']    \n",
      " 2D)                                                                                              \n",
      "                                                                                                  \n",
      " block8_sepconv3_bn (BatchNorma  (None, 8, 8, 728)   2912        ['block8_sepconv3[0][0]']        \n",
      " lization)                                                                                        \n",
      "                                                                                                  \n",
      " add_18 (Add)                   (None, 8, 8, 728)    0           ['block8_sepconv3_bn[0][0]',     \n",
      "                                                                  'add_17[0][0]']                 \n",
      "                                                                                                  \n",
      " block9_sepconv1_act (Activatio  (None, 8, 8, 728)   0           ['add_18[0][0]']                 \n",
      " n)                                                                                               \n",
      "                                                                                                  \n",
      " block9_sepconv1 (SeparableConv  (None, 8, 8, 728)   536536      ['block9_sepconv1_act[0][0]']    \n",
      " 2D)                                                                                              \n",
      "                                                                                                  \n",
      " block9_sepconv1_bn (BatchNorma  (None, 8, 8, 728)   2912        ['block9_sepconv1[0][0]']        \n",
      " lization)                                                                                        \n",
      "                                                                                                  \n",
      " block9_sepconv2_act (Activatio  (None, 8, 8, 728)   0           ['block9_sepconv1_bn[0][0]']     \n",
      " n)                                                                                               \n",
      "                                                                                                  \n",
      " block9_sepconv2 (SeparableConv  (None, 8, 8, 728)   536536      ['block9_sepconv2_act[0][0]']    \n",
      " 2D)                                                                                              \n",
      "                                                                                                  \n",
      " block9_sepconv2_bn (BatchNorma  (None, 8, 8, 728)   2912        ['block9_sepconv2[0][0]']        \n",
      " lization)                                                                                        \n",
      "                                                                                                  \n",
      " block9_sepconv3_act (Activatio  (None, 8, 8, 728)   0           ['block9_sepconv2_bn[0][0]']     \n",
      " n)                                                                                               \n",
      "                                                                                                  \n",
      " block9_sepconv3 (SeparableConv  (None, 8, 8, 728)   536536      ['block9_sepconv3_act[0][0]']    \n",
      " 2D)                                                                                              \n",
      "                                                                                                  \n",
      " block9_sepconv3_bn (BatchNorma  (None, 8, 8, 728)   2912        ['block9_sepconv3[0][0]']        \n",
      " lization)                                                                                        \n",
      "                                                                                                  \n",
      " add_19 (Add)                   (None, 8, 8, 728)    0           ['block9_sepconv3_bn[0][0]',     \n"
     ]
    },
    {
     "name": "stdout",
     "output_type": "stream",
     "text": [
      "                                                                  'add_18[0][0]']                 \n",
      "                                                                                                  \n",
      " block10_sepconv1_act (Activati  (None, 8, 8, 728)   0           ['add_19[0][0]']                 \n",
      " on)                                                                                              \n",
      "                                                                                                  \n",
      " block10_sepconv1 (SeparableCon  (None, 8, 8, 728)   536536      ['block10_sepconv1_act[0][0]']   \n",
      " v2D)                                                                                             \n",
      "                                                                                                  \n",
      " block10_sepconv1_bn (BatchNorm  (None, 8, 8, 728)   2912        ['block10_sepconv1[0][0]']       \n",
      " alization)                                                                                       \n",
      "                                                                                                  \n",
      " block10_sepconv2_act (Activati  (None, 8, 8, 728)   0           ['block10_sepconv1_bn[0][0]']    \n",
      " on)                                                                                              \n",
      "                                                                                                  \n",
      " block10_sepconv2 (SeparableCon  (None, 8, 8, 728)   536536      ['block10_sepconv2_act[0][0]']   \n",
      " v2D)                                                                                             \n",
      "                                                                                                  \n",
      " block10_sepconv2_bn (BatchNorm  (None, 8, 8, 728)   2912        ['block10_sepconv2[0][0]']       \n",
      " alization)                                                                                       \n",
      "                                                                                                  \n",
      " block10_sepconv3_act (Activati  (None, 8, 8, 728)   0           ['block10_sepconv2_bn[0][0]']    \n",
      " on)                                                                                              \n",
      "                                                                                                  \n",
      " block10_sepconv3 (SeparableCon  (None, 8, 8, 728)   536536      ['block10_sepconv3_act[0][0]']   \n",
      " v2D)                                                                                             \n",
      "                                                                                                  \n",
      " block10_sepconv3_bn (BatchNorm  (None, 8, 8, 728)   2912        ['block10_sepconv3[0][0]']       \n",
      " alization)                                                                                       \n",
      "                                                                                                  \n",
      " add_20 (Add)                   (None, 8, 8, 728)    0           ['block10_sepconv3_bn[0][0]',    \n",
      "                                                                  'add_19[0][0]']                 \n",
      "                                                                                                  \n",
      " block11_sepconv1_act (Activati  (None, 8, 8, 728)   0           ['add_20[0][0]']                 \n",
      " on)                                                                                              \n",
      "                                                                                                  \n",
      " block11_sepconv1 (SeparableCon  (None, 8, 8, 728)   536536      ['block11_sepconv1_act[0][0]']   \n",
      " v2D)                                                                                             \n",
      "                                                                                                  \n",
      " block11_sepconv1_bn (BatchNorm  (None, 8, 8, 728)   2912        ['block11_sepconv1[0][0]']       \n",
      " alization)                                                                                       \n",
      "                                                                                                  \n",
      " block11_sepconv2_act (Activati  (None, 8, 8, 728)   0           ['block11_sepconv1_bn[0][0]']    \n",
      " on)                                                                                              \n",
      "                                                                                                  \n",
      " block11_sepconv2 (SeparableCon  (None, 8, 8, 728)   536536      ['block11_sepconv2_act[0][0]']   \n",
      " v2D)                                                                                             \n",
      "                                                                                                  \n",
      " block11_sepconv2_bn (BatchNorm  (None, 8, 8, 728)   2912        ['block11_sepconv2[0][0]']       \n",
      " alization)                                                                                       \n",
      "                                                                                                  \n",
      " block11_sepconv3_act (Activati  (None, 8, 8, 728)   0           ['block11_sepconv2_bn[0][0]']    \n",
      " on)                                                                                              \n",
      "                                                                                                  \n",
      " block11_sepconv3 (SeparableCon  (None, 8, 8, 728)   536536      ['block11_sepconv3_act[0][0]']   \n",
      " v2D)                                                                                             \n",
      "                                                                                                  \n",
      " block11_sepconv3_bn (BatchNorm  (None, 8, 8, 728)   2912        ['block11_sepconv3[0][0]']       \n",
      " alization)                                                                                       \n",
      "                                                                                                  \n",
      " add_21 (Add)                   (None, 8, 8, 728)    0           ['block11_sepconv3_bn[0][0]',    \n",
      "                                                                  'add_20[0][0]']                 \n",
      "                                                                                                  \n",
      " block12_sepconv1_act (Activati  (None, 8, 8, 728)   0           ['add_21[0][0]']                 \n",
      " on)                                                                                              \n",
      "                                                                                                  \n",
      " block12_sepconv1 (SeparableCon  (None, 8, 8, 728)   536536      ['block12_sepconv1_act[0][0]']   \n",
      " v2D)                                                                                             \n",
      "                                                                                                  \n",
      " block12_sepconv1_bn (BatchNorm  (None, 8, 8, 728)   2912        ['block12_sepconv1[0][0]']       \n",
      " alization)                                                                                       \n",
      "                                                                                                  \n",
      " block12_sepconv2_act (Activati  (None, 8, 8, 728)   0           ['block12_sepconv1_bn[0][0]']    \n",
      " on)                                                                                              \n",
      "                                                                                                  \n",
      " block12_sepconv2 (SeparableCon  (None, 8, 8, 728)   536536      ['block12_sepconv2_act[0][0]']   \n",
      " v2D)                                                                                             \n",
      "                                                                                                  \n",
      " block12_sepconv2_bn (BatchNorm  (None, 8, 8, 728)   2912        ['block12_sepconv2[0][0]']       \n",
      " alization)                                                                                       \n",
      "                                                                                                  \n",
      " block12_sepconv3_act (Activati  (None, 8, 8, 728)   0           ['block12_sepconv2_bn[0][0]']    \n",
      " on)                                                                                              \n",
      "                                                                                                  \n"
     ]
    },
    {
     "name": "stdout",
     "output_type": "stream",
     "text": [
      " block12_sepconv3 (SeparableCon  (None, 8, 8, 728)   536536      ['block12_sepconv3_act[0][0]']   \n",
      " v2D)                                                                                             \n",
      "                                                                                                  \n",
      " block12_sepconv3_bn (BatchNorm  (None, 8, 8, 728)   2912        ['block12_sepconv3[0][0]']       \n",
      " alization)                                                                                       \n",
      "                                                                                                  \n",
      " add_22 (Add)                   (None, 8, 8, 728)    0           ['block12_sepconv3_bn[0][0]',    \n",
      "                                                                  'add_21[0][0]']                 \n",
      "                                                                                                  \n",
      " block13_sepconv1_act (Activati  (None, 8, 8, 728)   0           ['add_22[0][0]']                 \n",
      " on)                                                                                              \n",
      "                                                                                                  \n",
      " block13_sepconv1 (SeparableCon  (None, 8, 8, 728)   536536      ['block13_sepconv1_act[0][0]']   \n",
      " v2D)                                                                                             \n",
      "                                                                                                  \n",
      " block13_sepconv1_bn (BatchNorm  (None, 8, 8, 728)   2912        ['block13_sepconv1[0][0]']       \n",
      " alization)                                                                                       \n",
      "                                                                                                  \n",
      " block13_sepconv2_act (Activati  (None, 8, 8, 728)   0           ['block13_sepconv1_bn[0][0]']    \n",
      " on)                                                                                              \n",
      "                                                                                                  \n",
      " block13_sepconv2 (SeparableCon  (None, 8, 8, 1024)  752024      ['block13_sepconv2_act[0][0]']   \n",
      " v2D)                                                                                             \n",
      "                                                                                                  \n",
      " block13_sepconv2_bn (BatchNorm  (None, 8, 8, 1024)  4096        ['block13_sepconv2[0][0]']       \n",
      " alization)                                                                                       \n",
      "                                                                                                  \n",
      " conv2d_27 (Conv2D)             (None, 4, 4, 1024)   745472      ['add_22[0][0]']                 \n",
      "                                                                                                  \n",
      " block13_pool (MaxPooling2D)    (None, 4, 4, 1024)   0           ['block13_sepconv2_bn[0][0]']    \n",
      "                                                                                                  \n",
      " batch_normalization_32 (BatchN  (None, 4, 4, 1024)  4096        ['conv2d_27[0][0]']              \n",
      " ormalization)                                                                                    \n",
      "                                                                                                  \n",
      " add_23 (Add)                   (None, 4, 4, 1024)   0           ['block13_pool[0][0]',           \n",
      "                                                                  'batch_normalization_32[0][0]'] \n",
      "                                                                                                  \n",
      " block14_sepconv1 (SeparableCon  (None, 4, 4, 1536)  1582080     ['add_23[0][0]']                 \n",
      " v2D)                                                                                             \n",
      "                                                                                                  \n",
      " block14_sepconv1_bn (BatchNorm  (None, 4, 4, 1536)  6144        ['block14_sepconv1[0][0]']       \n",
      " alization)                                                                                       \n",
      "                                                                                                  \n",
      " block14_sepconv1_act (Activati  (None, 4, 4, 1536)  0           ['block14_sepconv1_bn[0][0]']    \n",
      " on)                                                                                              \n",
      "                                                                                                  \n",
      " block14_sepconv2 (SeparableCon  (None, 4, 4, 2048)  3159552     ['block14_sepconv1_act[0][0]']   \n",
      " v2D)                                                                                             \n",
      "                                                                                                  \n",
      " block14_sepconv2_bn (BatchNorm  (None, 4, 4, 2048)  8192        ['block14_sepconv2[0][0]']       \n",
      " alization)                                                                                       \n",
      "                                                                                                  \n",
      " block14_sepconv2_act (Activati  (None, 4, 4, 2048)  0           ['block14_sepconv2_bn[0][0]']    \n",
      " on)                                                                                              \n",
      "                                                                                                  \n",
      "==================================================================================================\n",
      "Total params: 20,861,480\n",
      "Trainable params: 20,806,952\n",
      "Non-trainable params: 54,528\n",
      "__________________________________________________________________________________________________\n"
     ]
    }
   ],
   "source": [
    "X_conv_base.summary()"
   ]
  },
  {
   "cell_type": "code",
   "execution_count": 224,
   "id": "a9469195",
   "metadata": {},
   "outputs": [
    {
     "name": "stdout",
     "output_type": "stream",
     "text": [
      "Model: \"sequential_15\"\n",
      "_________________________________________________________________\n",
      " Layer (type)                Output Shape              Param #   \n",
      "=================================================================\n",
      " vgg16 (Functional)          (None, 4, 4, 512)         14714688  \n",
      "                                                                 \n",
      " flatten_13 (Flatten)        (None, 8192)              0         \n",
      "                                                                 \n",
      " batch_normalization_33 (Bat  (None, 8192)             32768     \n",
      " chNormalization)                                                \n",
      "                                                                 \n",
      " dense_36 (Dense)            (None, 32)                262176    \n",
      "                                                                 \n",
      " dropout_20 (Dropout)        (None, 32)                0         \n",
      "                                                                 \n",
      " batch_normalization_34 (Bat  (None, 32)               128       \n",
      " chNormalization)                                                \n",
      "                                                                 \n",
      " dense_37 (Dense)            (None, 16)                528       \n",
      "                                                                 \n",
      " dropout_21 (Dropout)        (None, 16)                0         \n",
      "                                                                 \n",
      " batch_normalization_35 (Bat  (None, 16)               64        \n",
      " chNormalization)                                                \n",
      "                                                                 \n",
      " dense_38 (Dense)            (None, 8)                 136       \n",
      "                                                                 \n",
      " dropout_22 (Dropout)        (None, 8)                 0         \n",
      "                                                                 \n",
      " batch_normalization_36 (Bat  (None, 8)                32        \n",
      " chNormalization)                                                \n",
      "                                                                 \n",
      " dense_39 (Dense)            (None, 4)                 36        \n",
      "                                                                 \n",
      " dropout_23 (Dropout)        (None, 4)                 0         \n",
      "                                                                 \n",
      " batch_normalization_37 (Bat  (None, 4)                16        \n",
      " chNormalization)                                                \n",
      "                                                                 \n",
      " dense_40 (Dense)            (None, 4)                 20        \n",
      "                                                                 \n",
      " dropout_24 (Dropout)        (None, 4)                 0         \n",
      "                                                                 \n",
      " batch_normalization_38 (Bat  (None, 4)                16        \n",
      " chNormalization)                                                \n",
      "                                                                 \n",
      " dense_41 (Dense)            (None, 1)                 5         \n",
      "                                                                 \n",
      "=================================================================\n",
      "Total params: 15,010,613\n",
      "Trainable params: 279,413\n",
      "Non-trainable params: 14,731,200\n",
      "_________________________________________________________________\n"
     ]
    }
   ],
   "source": [
    "Xmodel = models.Sequential()\n",
    "Xmodel.add(VGG_conv_base)\n",
    " \n",
    "# Add new layers\n",
    "Xmodel.add(Flatten())\n",
    "Xmodel.add(BatchNormalization())\n",
    "Xmodel.add(Dense(32, activation='relu' ))\n",
    "Xmodel.add(Dropout(0.2))\n",
    "Xmodel.add(BatchNormalization())\n",
    "Xmodel.add(Dense(16, activation='relu' ))\n",
    "Xmodel.add(Dropout(0.2))\n",
    "Xmodel.add(BatchNormalization())\n",
    "Xmodel.add(Dense(8, activation='relu' ))\n",
    "Xmodel.add(Dropout(0.2))\n",
    "Xmodel.add(BatchNormalization())\n",
    "Xmodel.add(Dense(4, activation='relu' ))\n",
    "Xmodel.add(Dropout(0.2))\n",
    "Xmodel.add(BatchNormalization())\n",
    "Xmodel.add(Dense(4, activation='relu' ))\n",
    "Xmodel.add(Dropout(0.2))\n",
    "Xmodel.add(BatchNormalization())\n",
    "Xmodel.add(Dense(1, activation='softmax'))\n",
    "Xmodel.summary()"
   ]
  },
  {
   "cell_type": "code",
   "execution_count": 225,
   "id": "d5516fc1",
   "metadata": {},
   "outputs": [],
   "source": [
    "X_conv_base.trainable = False"
   ]
  },
  {
   "cell_type": "code",
   "execution_count": 226,
   "id": "b6b1f706",
   "metadata": {},
   "outputs": [],
   "source": [
    "Xmodel.compile(loss='binary_crossentropy',\n",
    "              optimizer=Adam(learning_rate=1e-4),\n",
    "              metrics=['acc'])"
   ]
  },
  {
   "cell_type": "code",
   "execution_count": 227,
   "id": "a5e9099c",
   "metadata": {},
   "outputs": [],
   "source": [
    "X_checkpoint_cb = keras.callbacks.ModelCheckpoint(r\"C:\\Users\\kolik\\Blood_Cell_Detection\\Model\\Xception\\X_model.h5\", save_best_only=True)"
   ]
  },
  {
   "cell_type": "code",
   "execution_count": 230,
   "id": "a136a0b3",
   "metadata": {},
   "outputs": [],
   "source": [
    "X_cb = tf.keras.callbacks.EarlyStopping(\n",
    "                   monitor = 'val_loss',\n",
    "                   patience = 10,\n",
    "                   restore_best_weights = True)"
   ]
  },
  {
   "cell_type": "code",
   "execution_count": 231,
   "id": "94854aa4",
   "metadata": {
    "scrolled": true
   },
   "outputs": [
    {
     "name": "stdout",
     "output_type": "stream",
     "text": [
      "Epoch 1/50\n",
      "23/23 [==============================] - 48s 2s/step - loss: 0.7469 - acc: 0.5000 - val_loss: 0.6932 - val_acc: 0.5000\n",
      "Epoch 2/50\n",
      "23/23 [==============================] - 46s 2s/step - loss: 0.7453 - acc: 0.5000 - val_loss: 0.6933 - val_acc: 0.5000\n",
      "Epoch 3/50\n",
      "23/23 [==============================] - 46s 2s/step - loss: 0.7431 - acc: 0.5000 - val_loss: 0.6934 - val_acc: 0.5000\n",
      "Epoch 4/50\n",
      "23/23 [==============================] - 47s 2s/step - loss: 0.7501 - acc: 0.5000 - val_loss: 0.6936 - val_acc: 0.5000\n",
      "Epoch 5/50\n",
      "23/23 [==============================] - 47s 2s/step - loss: 0.7488 - acc: 0.5000 - val_loss: 0.6936 - val_acc: 0.5000\n",
      "Epoch 6/50\n",
      "23/23 [==============================] - 46s 2s/step - loss: 0.7392 - acc: 0.5000 - val_loss: 0.6934 - val_acc: 0.5000\n",
      "Epoch 7/50\n",
      "23/23 [==============================] - 46s 2s/step - loss: 0.7415 - acc: 0.5000 - val_loss: 0.6937 - val_acc: 0.5000\n",
      "Epoch 8/50\n",
      "23/23 [==============================] - 46s 2s/step - loss: 0.7370 - acc: 0.5000 - val_loss: 0.6937 - val_acc: 0.5000\n",
      "Epoch 9/50\n",
      "23/23 [==============================] - 46s 2s/step - loss: 0.7377 - acc: 0.5000 - val_loss: 0.6941 - val_acc: 0.5000\n",
      "Epoch 10/50\n",
      "23/23 [==============================] - 49s 2s/step - loss: 0.7346 - acc: 0.5000 - val_loss: 0.6944 - val_acc: 0.5000\n",
      "Epoch 11/50\n",
      "23/23 [==============================] - 54s 2s/step - loss: 0.7386 - acc: 0.5000 - val_loss: 0.6945 - val_acc: 0.5000\n"
     ]
    }
   ],
   "source": [
    "historyX = Xmodel.fit(\n",
    "      train_generator,\n",
    "      steps_per_epoch=train_generator.samples//train_generator.batch_size,\n",
    "      epochs=50,\n",
    "      validation_data=validation_generator,\n",
    "      validation_steps=validation_generator.samples//validation_generator.batch_size,\n",
    "      callbacks = [X_checkpoint_cb,X_cb])"
   ]
  },
  {
   "cell_type": "code",
   "execution_count": 232,
   "id": "5fe1a004",
   "metadata": {},
   "outputs": [
    {
     "name": "stdout",
     "output_type": "stream",
     "text": [
      "Found 36 images belonging to 2 classes.\n"
     ]
    }
   ],
   "source": [
    "test_generator = test_datagen.flow_from_directory(\n",
    "        test_dir,\n",
    "        target_size=(128,128),\n",
    "        batch_size=2,\n",
    "        class_mode='categorical')"
   ]
  },
  {
   "cell_type": "code",
   "execution_count": 233,
   "id": "f096defe",
   "metadata": {},
   "outputs": [
    {
     "name": "stdout",
     "output_type": "stream",
     "text": [
      "18/18 [==============================] - 3s 145ms/step - loss: 0.6932 - acc: 0.5000\n"
     ]
    }
   ],
   "source": [
    "X_custom_evaluation = Xmodel.evaluate(test_generator, steps=(36/test_generator.batch_size))"
   ]
  },
  {
   "cell_type": "code",
   "execution_count": 234,
   "id": "bd7ca9dc",
   "metadata": {},
   "outputs": [
    {
     "data": {
      "image/png": "[encoded data removed]",
      "text/plain": [
       "<Figure size 432x288 with 1 Axes>"
      ]
     },
     "metadata": {
      "needs_background": "light"
     },
     "output_type": "display_data"
    },
    {
     "data": {
      "image/png": "[encoded data removed]",
      "text/plain": [
       "<Figure size 432x288 with 1 Axes>"
      ]
     },
     "metadata": {
      "needs_background": "light"
     },
     "output_type": "display_data"
    }
   ],
   "source": [
    "acc = historyX.history['acc']\n",
    "val_acc = historyX.history['val_acc']\n",
    "loss = historyX.history['loss']\n",
    "val_loss = historyX.history['val_loss']\n",
    " \n",
    "epochs = range(len(acc))\n",
    " \n",
    "plt.plot(epochs, acc, 'b', label='Training acc')\n",
    "plt.plot(epochs, val_acc, 'r', label='Validation acc')\n",
    "plt.title('Training and validation accuracy')\n",
    "plt.legend()\n",
    " \n",
    "plt.figure()\n",
    " \n",
    "plt.plot(epochs, loss, 'b', label='Training loss')\n",
    "plt.plot(epochs, val_loss, 'r', label='Validation loss')\n",
    "plt.title('Training and validation loss')\n",
    "plt.legend()\n",
    " \n",
    "plt.show()"
   ]
  },
  {
   "cell_type": "code",
   "execution_count": 235,
   "id": "0af6a639",
   "metadata": {},
   "outputs": [
    {
     "name": "stdout",
     "output_type": "stream",
     "text": [
      "Loss:  0.6931660771369934\n",
      "Accuracy:  0.5\n"
     ]
    }
   ],
   "source": [
    "print(\"Loss: \",X_custom_evaluation[0])\n",
    "print(\"Accuracy: \",X_custom_evaluation[1])"
   ]
  },
  {
   "cell_type": "code",
   "execution_count": 237,
   "id": "4143ca48",
   "metadata": {},
   "outputs": [],
   "source": [
    "model.save(r\"C:\\Users\\kolik\\Blood_Cell_Detection\\Model\\Xception\\Xmodel.h5\")"
   ]
  },
  {
   "cell_type": "markdown",
   "id": "93543eb2",
   "metadata": {},
   "source": [
    "### Prediction of Class (0,1)"
   ]
  },
  {
   "cell_type": "code",
   "execution_count": 238,
   "id": "13df39bb",
   "metadata": {},
   "outputs": [],
   "source": [
    "from keras.preprocessing import image"
   ]
  },
  {
   "cell_type": "code",
   "execution_count": 243,
   "id": "018f1d5f",
   "metadata": {},
   "outputs": [
    {
     "data": {
      "image/png": "[encoded data removed]",
      "text/plain": [
       "<PIL.Image.Image image mode=RGB size=128x128 at 0x1DB9A7C5760>"
      ]
     },
     "execution_count": 243,
     "metadata": {},
     "output_type": "execute_result"
    }
   ],
   "source": [
    "img=image.load_img(r'C:\\Users\\kolik\\Blood_Cell_Detection\\Dataset\\test_image.jpg',target_size=(128,128))\n",
    "img"
   ]
  },
  {
   "cell_type": "code",
   "execution_count": 253,
   "id": "29d8ae4c",
   "metadata": {},
   "outputs": [
    {
     "name": "stdout",
     "output_type": "stream",
     "text": [
      "VGG Model Class Prediction:  1.0\n",
      "Xception Model Class Prediction:  1.0\n"
     ]
    }
   ],
   "source": [
    "x=image.img_to_array(img)\n",
    "x=np.expand_dims(x, axis=0)\n",
    "classes=model.predict(x)\n",
    "VGGclasses=VGGmodel.predict(x)\n",
    "Xclasses=Xmodel.predict(x)\n",
    "print(\"VGG Model Class Prediction: \",VGGclasses[0][0])\n",
    "print(\"Xception Model Class Prediction: \",Xclasses[0][0])"
   ]
  },
  {
   "cell_type": "code",
   "execution_count": null,
   "id": "794afe77",
   "metadata": {},
   "outputs": [],
   "source": []
  }
 ],
 "metadata": {
  "kernelspec": {
   "display_name": "Python 3 (ipykernel)",
   "language": "python",
   "name": "python3"
  },
  "language_info": {
   "codemirror_mode": {
    "name": "ipython",
    "version": 3
   },
   "file_extension": ".py",
   "mimetype": "text/x-python",
   "name": "python",
   "nbconvert_exporter": "python",
   "pygments_lexer": "ipython3",
   "version": "3.9.7"
  }
 },
 "nbformat": 4,
 "nbformat_minor": 5
}
