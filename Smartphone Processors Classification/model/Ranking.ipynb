{
 "cells": [
  {
   "cell_type": "code",
   "execution_count": 10,
   "metadata": {},
   "outputs": [],
   "source": [
    "import pandas as pd\n",
    "import numpy as np\n",
    "import tensorflow as tf\n",
    "import keras\n",
    "import matplotlib.pyplot as plt\n",
    "from sklearn.model_selection import train_test_split\n",
    "from sklearn.preprocessing import LabelEncoder\n",
    "from keras.models import Sequential\n",
    "from keras.layers import Dense\n"
   ]
  },
  {
   "cell_type": "code",
   "execution_count": 11,
   "metadata": {},
   "outputs": [
    {
     "data": {
      "text/plain": [
       "0          A15 Bionic   \n",
       "1          A15 Bionic   \n",
       "2          A15 Bionic   \n",
       "3                 M1    \n",
       "4                 M1    \n",
       "             ...        \n",
       "183       Exynos 8890   \n",
       "184    Snapdragon 810   \n",
       "185    Snapdragon 808   \n",
       "186    Snapdragon 835   \n",
       "187        Exynos 850   \n",
       "Name: cpuName, Length: 188, dtype: object"
      ]
     },
     "execution_count": 11,
     "metadata": {},
     "output_type": "execute_result"
    }
   ],
   "source": [
    "df = pd.read_csv('ML_ALL_benchmarks.csv')\n",
    "df.dropna(inplace=True)\n",
    "df.head()\n",
    "column = ['clock','cpuScore','gpuScore','npuScore']\n",
    "classes = df['cpuName']\n",
    "classes\n",
    "# df[:5]"
   ]
  },
  {
   "cell_type": "code",
   "execution_count": 12,
   "metadata": {},
   "outputs": [
    {
     "data": {
      "text/html": [
       "<div>\n",
       "<style scoped>\n",
       "    .dataframe tbody tr th:only-of-type {\n",
       "        vertical-align: middle;\n",
       "    }\n",
       "\n",
       "    .dataframe tbody tr th {\n",
       "        vertical-align: top;\n",
       "    }\n",
       "\n",
       "    .dataframe thead th {\n",
       "        text-align: right;\n",
       "    }\n",
       "</style>\n",
       "<table border=\"1\" class=\"dataframe\">\n",
       "  <thead>\n",
       "    <tr style=\"text-align: right;\">\n",
       "      <th></th>\n",
       "      <th>cpuName</th>\n",
       "      <th>clock</th>\n",
       "      <th>cpuScore</th>\n",
       "      <th>gpuScore</th>\n",
       "      <th>npuScore</th>\n",
       "    </tr>\n",
       "  </thead>\n",
       "  <tbody>\n",
       "    <tr>\n",
       "      <th>0</th>\n",
       "      <td>A15 Bionic</td>\n",
       "      <td>3230</td>\n",
       "      <td>935</td>\n",
       "      <td>2273</td>\n",
       "      <td>2676</td>\n",
       "    </tr>\n",
       "    <tr>\n",
       "      <th>1</th>\n",
       "      <td>A15 Bionic</td>\n",
       "      <td>3230</td>\n",
       "      <td>931</td>\n",
       "      <td>2261</td>\n",
       "      <td>2665</td>\n",
       "    </tr>\n",
       "    <tr>\n",
       "      <th>2</th>\n",
       "      <td>A15 Bionic</td>\n",
       "      <td>3230</td>\n",
       "      <td>924</td>\n",
       "      <td>1852</td>\n",
       "      <td>2660</td>\n",
       "    </tr>\n",
       "    <tr>\n",
       "      <th>3</th>\n",
       "      <td>M1</td>\n",
       "      <td>3190</td>\n",
       "      <td>1013</td>\n",
       "      <td>2824</td>\n",
       "      <td>2657</td>\n",
       "    </tr>\n",
       "    <tr>\n",
       "      <th>4</th>\n",
       "      <td>M1</td>\n",
       "      <td>3190</td>\n",
       "      <td>1011</td>\n",
       "      <td>2842</td>\n",
       "      <td>2656</td>\n",
       "    </tr>\n",
       "    <tr>\n",
       "      <th>...</th>\n",
       "      <td>...</td>\n",
       "      <td>...</td>\n",
       "      <td>...</td>\n",
       "      <td>...</td>\n",
       "      <td>...</td>\n",
       "    </tr>\n",
       "    <tr>\n",
       "      <th>183</th>\n",
       "      <td>Exynos 8890</td>\n",
       "      <td>1300</td>\n",
       "      <td>133</td>\n",
       "      <td>400</td>\n",
       "      <td>71</td>\n",
       "    </tr>\n",
       "    <tr>\n",
       "      <th>184</th>\n",
       "      <td>Snapdragon 810</td>\n",
       "      <td>1555</td>\n",
       "      <td>85</td>\n",
       "      <td>111</td>\n",
       "      <td>71</td>\n",
       "    </tr>\n",
       "    <tr>\n",
       "      <th>185</th>\n",
       "      <td>Snapdragon 808</td>\n",
       "      <td>1440</td>\n",
       "      <td>78</td>\n",
       "      <td>75</td>\n",
       "      <td>68</td>\n",
       "    </tr>\n",
       "    <tr>\n",
       "      <th>186</th>\n",
       "      <td>Snapdragon 835</td>\n",
       "      <td>1900</td>\n",
       "      <td>146</td>\n",
       "      <td>504</td>\n",
       "      <td>66</td>\n",
       "    </tr>\n",
       "    <tr>\n",
       "      <th>187</th>\n",
       "      <td>Exynos 850</td>\n",
       "      <td>2002</td>\n",
       "      <td>96</td>\n",
       "      <td>177</td>\n",
       "      <td>56</td>\n",
       "    </tr>\n",
       "  </tbody>\n",
       "</table>\n",
       "<p>188 rows × 5 columns</p>\n",
       "</div>"
      ],
      "text/plain": [
       "               cpuName  clock  cpuScore  gpuScore  npuScore\n",
       "0        A15 Bionic      3230       935      2273      2676\n",
       "1        A15 Bionic      3230       931      2261      2665\n",
       "2        A15 Bionic      3230       924      1852      2660\n",
       "3               M1       3190      1013      2824      2657\n",
       "4               M1       3190      1011      2842      2656\n",
       "..                 ...    ...       ...       ...       ...\n",
       "183     Exynos 8890      1300       133       400        71\n",
       "184  Snapdragon 810      1555        85       111        71\n",
       "185  Snapdragon 808      1440        78        75        68\n",
       "186  Snapdragon 835      1900       146       504        66\n",
       "187      Exynos 850      2002        96       177        56\n",
       "\n",
       "[188 rows x 5 columns]"
      ]
     },
     "execution_count": 12,
     "metadata": {},
     "output_type": "execute_result"
    }
   ],
   "source": [
    "df = df.drop(['company','device','cores'],axis=True)\n",
    "df"
   ]
  },
  {
   "cell_type": "code",
   "execution_count": 13,
   "metadata": {},
   "outputs": [
    {
     "data": {
      "text/plain": [
       "0       8\n",
       "1       8\n",
       "2       8\n",
       "3      33\n",
       "4      33\n",
       "       ..\n",
       "183    18\n",
       "184    51\n",
       "185    50\n",
       "186    52\n",
       "187    17\n",
       "Name: cpuName, Length: 188, dtype: int32"
      ]
     },
     "execution_count": 13,
     "metadata": {},
     "output_type": "execute_result"
    }
   ],
   "source": [
    "from sklearn import preprocessing\n",
    "label_encoder = preprocessing.LabelEncoder()\n",
    "  \n",
    "df['cpuName']= label_encoder.fit_transform(df['cpuName'])\n",
    "\n",
    "inp = df.drop(['cpuName'],axis=1)\n",
    "inp\n",
    "out = df['cpuName']\n",
    "out\n"
   ]
  },
  {
   "cell_type": "code",
   "execution_count": 14,
   "metadata": {},
   "outputs": [
    {
     "data": {
      "text/plain": [
       "63"
      ]
     },
     "execution_count": 14,
     "metadata": {},
     "output_type": "execute_result"
    }
   ],
   "source": [
    "integerMapping=dict(zip(out,classes))\n",
    "len(integerMapping)"
   ]
  },
  {
   "cell_type": "code",
   "execution_count": 15,
   "metadata": {},
   "outputs": [],
   "source": [
    "X_train,X_test,Y_train,Y_test = train_test_split(inp,out,test_size=0.2,random_state=0)"
   ]
  },
  {
   "cell_type": "code",
   "execution_count": 16,
   "metadata": {},
   "outputs": [
    {
     "data": {
      "text/plain": [
       "150"
      ]
     },
     "execution_count": 16,
     "metadata": {},
     "output_type": "execute_result"
    }
   ],
   "source": [
    "from sklearn.preprocessing import StandardScaler\n",
    "sc = StandardScaler()\n",
    "X_train = sc.fit_transform(X_train)\n",
    "X_test = sc.transform(X_test)\n",
    "len(X_train)"
   ]
  },
  {
   "cell_type": "code",
   "execution_count": 17,
   "metadata": {},
   "outputs": [],
   "source": [
    "# Initializing the ANN\n",
    "ann = tf.keras.models.Sequential()\n",
    "# Add the input layer and first hidden layer\n",
    "ann.add(tf.keras.layers.Dense(units=4, activation='relu', input_shape=X_train[0].shape))\n",
    "# Add the second hidden layer\n",
    "ann.add(tf.keras.layers.Dense(units=2, activation='relu'))\n",
    "# Add the output layer\n",
    "ann.add(tf.keras.layers.Dense(units=63, activation='sigmoid'))"
   ]
  },
  {
   "cell_type": "code",
   "execution_count": null,
   "metadata": {},
   "outputs": [],
   "source": [
    "ann.compile(optimizer = 'adam', loss = 'sparse_categorical_crossentropy', metrics = ['accuracy'])\n",
    "ann.fit(X_train, Y_train, batch_size = 32, epochs = 100)"
   ]
  },
  {
   "cell_type": "code",
   "execution_count": null,
   "metadata": {},
   "outputs": [],
   "source": [
    "ann.evaluate(X_test,Y_test)"
   ]
  },
  {
   "cell_type": "code",
   "execution_count": null,
   "metadata": {},
   "outputs": [],
   "source": [
    "predictions  = ann.predict(X_test)\n",
    "y_classes = [np.argmax(element) for element in predictions]\n",
    "y_classes"
   ]
  },
  {
   "cell_type": "code",
   "execution_count": null,
   "metadata": {},
   "outputs": [],
   "source": [
    "Y_test[0:5]"
   ]
  },
  {
   "cell_type": "code",
   "execution_count": null,
   "metadata": {},
   "outputs": [],
   "source": [
    "for val in Y_test:\n",
    "    print(integerMapping[val])"
   ]
  },
  {
   "cell_type": "code",
   "execution_count": null,
   "metadata": {},
   "outputs": [],
   "source": [
    "#predictions\n",
    "for val in y_classes:\n",
    "    print(integerMapping[val])"
   ]
  }
 ],
 "metadata": {
  "kernelspec": {
   "display_name": "Python 3",
   "language": "python",
   "name": "python3"
  },
  "language_info": {
   "codemirror_mode": {
    "name": "ipython",
    "version": 3
   },
   "file_extension": ".py",
   "mimetype": "text/x-python",
   "name": "python",
   "nbconvert_exporter": "python",
   "pygments_lexer": "ipython3",
   "version": "3.10.11"
  },
  "orig_nbformat": 4
 },
 "nbformat": 4,
 "nbformat_minor": 2
}
