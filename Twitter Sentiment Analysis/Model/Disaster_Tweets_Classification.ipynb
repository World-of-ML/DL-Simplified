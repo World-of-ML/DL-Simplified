{
  "cells": [
    {
      "cell_type": "code",
      "execution_count": null,
      "metadata": {
        "colab": {
          "base_uri": "https://localhost:8080/"
        },
        "id": "XVb2QI6cs2JO",
        "outputId": "36c688e1-4213-44d8-c184-d4365d652ba4"
      },
      "outputs": [],
      "source": [
        "! pip install tensorflow\n",
        "! pip install -q kaggle\n",
        "! pip install keras-preprocessing\n",
        "! pip install seaborn"
      ]
    },
    {
      "cell_type": "code",
      "execution_count": 102,
      "metadata": {
        "id": "bp3MC3jdoq7i"
      },
      "outputs": [],
      "source": [
        "import numpy as np\n",
        "import pandas as pd\n",
        "import re\n",
        "import tensorflow as tf\n",
        "from tensorflow.keras.preprocessing.text import Tokenizer\n",
        "from tensorflow.keras.preprocessing.sequence import pad_sequences\n",
        "from tensorflow.keras.layers import Input, Dense, Embedding, LSTM, GlobalMaxPooling1D, Dropout, BatchNormalization\n",
        "from tensorflow.keras.models import Model\n",
        "from sklearn.model_selection import train_test_split\n",
        "from sklearn.metrics import accuracy_score\n",
        "import matplotlib.pyplot as plt\n",
        "import seaborn as sns"
      ]
    },
    {
      "cell_type": "code",
      "execution_count": 7,
      "metadata": {
        "colab": {
          "base_uri": "https://localhost:8080/",
          "height": 206
        },
        "id": "OKltekuapV2P",
        "outputId": "9c927bfd-b87b-4df1-ca3e-314032543335"
      },
      "outputs": [
        {
          "data": {
            "text/html": [
              "<div>\n",
              "<style scoped>\n",
              "    .dataframe tbody tr th:only-of-type {\n",
              "        vertical-align: middle;\n",
              "    }\n",
              "\n",
              "    .dataframe tbody tr th {\n",
              "        vertical-align: top;\n",
              "    }\n",
              "\n",
              "    .dataframe thead th {\n",
              "        text-align: right;\n",
              "    }\n",
              "</style>\n",
              "<table border=\"1\" class=\"dataframe\">\n",
              "  <thead>\n",
              "    <tr style=\"text-align: right;\">\n",
              "      <th></th>\n",
              "      <th>id</th>\n",
              "      <th>keyword</th>\n",
              "      <th>location</th>\n",
              "      <th>text</th>\n",
              "      <th>target</th>\n",
              "    </tr>\n",
              "  </thead>\n",
              "  <tbody>\n",
              "    <tr>\n",
              "      <th>0</th>\n",
              "      <td>1</td>\n",
              "      <td>NaN</td>\n",
              "      <td>NaN</td>\n",
              "      <td>Our Deeds are the Reason of this #earthquake M...</td>\n",
              "      <td>1</td>\n",
              "    </tr>\n",
              "    <tr>\n",
              "      <th>1</th>\n",
              "      <td>4</td>\n",
              "      <td>NaN</td>\n",
              "      <td>NaN</td>\n",
              "      <td>Forest fire near La Ronge Sask. Canada</td>\n",
              "      <td>1</td>\n",
              "    </tr>\n",
              "    <tr>\n",
              "      <th>2</th>\n",
              "      <td>5</td>\n",
              "      <td>NaN</td>\n",
              "      <td>NaN</td>\n",
              "      <td>All residents asked to 'shelter in place' are ...</td>\n",
              "      <td>1</td>\n",
              "    </tr>\n",
              "    <tr>\n",
              "      <th>3</th>\n",
              "      <td>6</td>\n",
              "      <td>NaN</td>\n",
              "      <td>NaN</td>\n",
              "      <td>13,000 people receive #wildfires evacuation or...</td>\n",
              "      <td>1</td>\n",
              "    </tr>\n",
              "    <tr>\n",
              "      <th>4</th>\n",
              "      <td>7</td>\n",
              "      <td>NaN</td>\n",
              "      <td>NaN</td>\n",
              "      <td>Just got sent this photo from Ruby #Alaska as ...</td>\n",
              "      <td>1</td>\n",
              "    </tr>\n",
              "  </tbody>\n",
              "</table>\n",
              "</div>"
            ],
            "text/plain": [
              "   id keyword location                                               text   \n",
              "0   1     NaN      NaN  Our Deeds are the Reason of this #earthquake M...  \\\n",
              "1   4     NaN      NaN             Forest fire near La Ronge Sask. Canada   \n",
              "2   5     NaN      NaN  All residents asked to 'shelter in place' are ...   \n",
              "3   6     NaN      NaN  13,000 people receive #wildfires evacuation or...   \n",
              "4   7     NaN      NaN  Just got sent this photo from Ruby #Alaska as ...   \n",
              "\n",
              "   target  \n",
              "0       1  \n",
              "1       1  \n",
              "2       1  \n",
              "3       1  \n",
              "4       1  "
            ]
          },
          "execution_count": 7,
          "metadata": {},
          "output_type": "execute_result"
        }
      ],
      "source": [
        "df = pd.read_csv(\"Twitter Sentiment Analysis/Dataset/data.csv\")\n",
        "df.head()"
      ]
    },
    {
      "cell_type": "code",
      "execution_count": 8,
      "metadata": {
        "colab": {
          "base_uri": "https://localhost:8080/"
        },
        "id": "OcldT9xe03Ch",
        "outputId": "52ac710c-3673-4df9-e552-90c0a43a3415"
      },
      "outputs": [
        {
          "data": {
            "text/plain": [
              "target\n",
              "0    4342\n",
              "1    3271\n",
              "Name: count, dtype: int64"
            ]
          },
          "execution_count": 8,
          "metadata": {},
          "output_type": "execute_result"
        }
      ],
      "source": [
        "df[\"target\"].value_counts()"
      ]
    },
    {
      "cell_type": "code",
      "execution_count": 9,
      "metadata": {},
      "outputs": [
        {
          "data": {
            "text/plain": [
              "Text(0.5, 1.0, 'Target Distribution')"
            ]
          },
          "execution_count": 9,
          "metadata": {},
          "output_type": "execute_result"
        },
        {
          "data": {
            "image/png": "[encoded data removed]",
            "text/plain": [
              "<Figure size 640x480 with 1 Axes>"
            ]
          },
          "metadata": {},
          "output_type": "display_data"
        }
      ],
      "source": [
        "sns.countplot(x='target',data=df)\n",
        "plt.title('Target Distribution')"
      ]
    },
    {
      "attachments": {},
      "cell_type": "markdown",
      "metadata": {
        "id": "EEdVT94l1U4R"
      },
      "source": [
        "## Data Cleaning"
      ]
    },
    {
      "cell_type": "code",
      "execution_count": 10,
      "metadata": {
        "id": "UqfNh4_zpybH"
      },
      "outputs": [],
      "source": [
        "df = df.drop(['id', 'keyword', 'location'], axis=1)\n",
        "df = df.drop_duplicates()"
      ]
    },
    {
      "cell_type": "code",
      "execution_count": 11,
      "metadata": {
        "id": "vdM6CEqa1TL0"
      },
      "outputs": [],
      "source": [
        "def clean_text(text):\n",
        "  text = re.sub(r'#', '', text)\n",
        "  text = re.sub(r'@[-)]+', '', text)\n",
        "  text = re.sub(r'@[A-Za-z0-9]+', '', text)\n",
        "  text = re.sub(r'@[A-Za-z]+', '', text)\n",
        "  text = re.sub(r'RT[\\s]+', '', text)\n",
        "  text = re.sub(r'https?\\/\\/\\S+', '', text)\n",
        "  text = re.sub(r'&[a-z;]+', '', text)\n",
        "  text = re.sub(r'[WATCH]', '', text)\n",
        "  return text"
      ]
    },
    {
      "cell_type": "code",
      "execution_count": 12,
      "metadata": {
        "id": "V8tHtPIi1ums"
      },
      "outputs": [],
      "source": [
        "df[\"text\"] = df[\"text\"].apply(clean_text)"
      ]
    },
    {
      "cell_type": "code",
      "execution_count": 13,
      "metadata": {
        "colab": {
          "base_uri": "https://localhost:8080/",
          "height": 424
        },
        "id": "K49l6CZd1-bf",
        "outputId": "8192bd32-53a6-4ca6-8724-91590fb8a48f"
      },
      "outputs": [
        {
          "data": {
            "text/html": [
              "<div>\n",
              "<style scoped>\n",
              "    .dataframe tbody tr th:only-of-type {\n",
              "        vertical-align: middle;\n",
              "    }\n",
              "\n",
              "    .dataframe tbody tr th {\n",
              "        vertical-align: top;\n",
              "    }\n",
              "\n",
              "    .dataframe thead th {\n",
              "        text-align: right;\n",
              "    }\n",
              "</style>\n",
              "<table border=\"1\" class=\"dataframe\">\n",
              "  <thead>\n",
              "    <tr style=\"text-align: right;\">\n",
              "      <th></th>\n",
              "      <th>text</th>\n",
              "      <th>target</th>\n",
              "    </tr>\n",
              "  </thead>\n",
              "  <tbody>\n",
              "    <tr>\n",
              "      <th>0</th>\n",
              "      <td>Our Deeds are the Reason of this earthquake Ma...</td>\n",
              "      <td>1</td>\n",
              "    </tr>\n",
              "    <tr>\n",
              "      <th>1</th>\n",
              "      <td>Forest fire near La Ronge Sask. anada</td>\n",
              "      <td>1</td>\n",
              "    </tr>\n",
              "    <tr>\n",
              "      <th>2</th>\n",
              "      <td>ll residents asked to 'shelter in place' are b...</td>\n",
              "      <td>1</td>\n",
              "    </tr>\n",
              "    <tr>\n",
              "      <th>3</th>\n",
              "      <td>13,000 people receive wildfires evacuation ord...</td>\n",
              "      <td>1</td>\n",
              "    </tr>\n",
              "    <tr>\n",
              "      <th>4</th>\n",
              "      <td>Just got sent this photo from Ruby laska as sm...</td>\n",
              "      <td>1</td>\n",
              "    </tr>\n",
              "    <tr>\n",
              "      <th>...</th>\n",
              "      <td>...</td>\n",
              "      <td>...</td>\n",
              "    </tr>\n",
              "    <tr>\n",
              "      <th>7604</th>\n",
              "      <td>orldNews Fallen powerlines on G:link tram: UPD...</td>\n",
              "      <td>1</td>\n",
              "    </tr>\n",
              "    <tr>\n",
              "      <th>7605</th>\n",
              "      <td>on the flip side I'm at almart and there is a ...</td>\n",
              "      <td>1</td>\n",
              "    </tr>\n",
              "    <tr>\n",
              "      <th>7606</th>\n",
              "      <td>Suicide bomber kills 15 in Saudi security site...</td>\n",
              "      <td>1</td>\n",
              "    </tr>\n",
              "    <tr>\n",
              "      <th>7608</th>\n",
              "      <td>wo giant cranes holding a bridge collapse into...</td>\n",
              "      <td>1</td>\n",
              "    </tr>\n",
              "    <tr>\n",
              "      <th>7612</th>\n",
              "      <td>he Latest: More omes Razed by Northern aliforn...</td>\n",
              "      <td>1</td>\n",
              "    </tr>\n",
              "  </tbody>\n",
              "</table>\n",
              "<p>7521 rows × 2 columns</p>\n",
              "</div>"
            ],
            "text/plain": [
              "                                                   text  target\n",
              "0     Our Deeds are the Reason of this earthquake Ma...       1\n",
              "1                 Forest fire near La Ronge Sask. anada       1\n",
              "2     ll residents asked to 'shelter in place' are b...       1\n",
              "3     13,000 people receive wildfires evacuation ord...       1\n",
              "4     Just got sent this photo from Ruby laska as sm...       1\n",
              "...                                                 ...     ...\n",
              "7604  orldNews Fallen powerlines on G:link tram: UPD...       1\n",
              "7605  on the flip side I'm at almart and there is a ...       1\n",
              "7606  Suicide bomber kills 15 in Saudi security site...       1\n",
              "7608  wo giant cranes holding a bridge collapse into...       1\n",
              "7612  he Latest: More omes Razed by Northern aliforn...       1\n",
              "\n",
              "[7521 rows x 2 columns]"
            ]
          },
          "execution_count": 13,
          "metadata": {},
          "output_type": "execute_result"
        }
      ],
      "source": [
        "df"
      ]
    },
    {
      "cell_type": "code",
      "execution_count": 14,
      "metadata": {
        "id": "cim9Kowtp_hq"
      },
      "outputs": [],
      "source": [
        "X = df.iloc[:,:-1]\n",
        "y = df.iloc[:,-1]"
      ]
    },
    {
      "cell_type": "code",
      "execution_count": 15,
      "metadata": {
        "colab": {
          "base_uri": "https://localhost:8080/",
          "height": 206
        },
        "id": "KOuWRt_IqdhU",
        "outputId": "1b421157-7c3a-44bd-e235-9bd3169ef227"
      },
      "outputs": [
        {
          "data": {
            "text/html": [
              "<div>\n",
              "<style scoped>\n",
              "    .dataframe tbody tr th:only-of-type {\n",
              "        vertical-align: middle;\n",
              "    }\n",
              "\n",
              "    .dataframe tbody tr th {\n",
              "        vertical-align: top;\n",
              "    }\n",
              "\n",
              "    .dataframe thead th {\n",
              "        text-align: right;\n",
              "    }\n",
              "</style>\n",
              "<table border=\"1\" class=\"dataframe\">\n",
              "  <thead>\n",
              "    <tr style=\"text-align: right;\">\n",
              "      <th></th>\n",
              "      <th>text</th>\n",
              "    </tr>\n",
              "  </thead>\n",
              "  <tbody>\n",
              "    <tr>\n",
              "      <th>0</th>\n",
              "      <td>Our Deeds are the Reason of this earthquake Ma...</td>\n",
              "    </tr>\n",
              "    <tr>\n",
              "      <th>1</th>\n",
              "      <td>Forest fire near La Ronge Sask. anada</td>\n",
              "    </tr>\n",
              "    <tr>\n",
              "      <th>2</th>\n",
              "      <td>ll residents asked to 'shelter in place' are b...</td>\n",
              "    </tr>\n",
              "    <tr>\n",
              "      <th>3</th>\n",
              "      <td>13,000 people receive wildfires evacuation ord...</td>\n",
              "    </tr>\n",
              "    <tr>\n",
              "      <th>4</th>\n",
              "      <td>Just got sent this photo from Ruby laska as sm...</td>\n",
              "    </tr>\n",
              "  </tbody>\n",
              "</table>\n",
              "</div>"
            ],
            "text/plain": [
              "                                                text\n",
              "0  Our Deeds are the Reason of this earthquake Ma...\n",
              "1              Forest fire near La Ronge Sask. anada\n",
              "2  ll residents asked to 'shelter in place' are b...\n",
              "3  13,000 people receive wildfires evacuation ord...\n",
              "4  Just got sent this photo from Ruby laska as sm..."
            ]
          },
          "execution_count": 15,
          "metadata": {},
          "output_type": "execute_result"
        }
      ],
      "source": [
        "X.head()"
      ]
    },
    {
      "cell_type": "code",
      "execution_count": 16,
      "metadata": {
        "colab": {
          "base_uri": "https://localhost:8080/"
        },
        "id": "TLD10ihiqhcS",
        "outputId": "658fd0c5-598d-423f-a9f6-6804d4ac5572"
      },
      "outputs": [
        {
          "data": {
            "text/plain": [
              "0    1\n",
              "1    1\n",
              "2    1\n",
              "3    1\n",
              "4    1\n",
              "Name: target, dtype: int64"
            ]
          },
          "execution_count": 16,
          "metadata": {},
          "output_type": "execute_result"
        }
      ],
      "source": [
        "y.head()"
      ]
    },
    {
      "cell_type": "code",
      "execution_count": 143,
      "metadata": {
        "id": "g0jQOXSdy2da"
      },
      "outputs": [],
      "source": [
        "X_train,X_test,y_train,y_test = train_test_split(X, y,random_state=0, test_size=0.1, shuffle=True)"
      ]
    },
    {
      "attachments": {},
      "cell_type": "markdown",
      "metadata": {
        "id": "R6UjNd5V2zgl"
      },
      "source": [
        "## Data Preprocessing"
      ]
    },
    {
      "cell_type": "code",
      "execution_count": 144,
      "metadata": {
        "id": "1WitVaQRwTka"
      },
      "outputs": [],
      "source": [
        "max_vocab = 20000000\n",
        "tokenizer = Tokenizer(num_words = max_vocab)\n",
        "tokenizer.fit_on_texts(X_train.iloc[:, 0])"
      ]
    },
    {
      "cell_type": "code",
      "execution_count": 146,
      "metadata": {
        "colab": {
          "base_uri": "https://localhost:8080/"
        },
        "id": "26Zo2jyP3hu-",
        "outputId": "1ec6cdf0-4407-437c-9641-9119663f646c"
      },
      "outputs": [
        {
          "name": "stdout",
          "output_type": "stream",
          "text": [
            "Dataset vocab size = 20051\n"
          ]
        }
      ],
      "source": [
        "wordidx = tokenizer.word_index\n",
        "V = len(wordidx)\n",
        "print(\"Dataset vocab size =\", V)"
      ]
    },
    {
      "cell_type": "code",
      "execution_count": 147,
      "metadata": {
        "id": "CQPuxAxn3LoT"
      },
      "outputs": [],
      "source": [
        "train_seq = tokenizer.texts_to_sequences(X_train.iloc[:, 0])\n",
        "test_seq = tokenizer.texts_to_sequences(X_test.iloc[:, 0])"
      ]
    },
    {
      "cell_type": "code",
      "execution_count": 148,
      "metadata": {
        "colab": {
          "base_uri": "https://localhost:8080/"
        },
        "id": "bRefi3xA6HkR",
        "outputId": "e6f7fdc1-fbde-4385-ce4f-20dfe95beee7"
      },
      "outputs": [
        {
          "name": "stdout",
          "output_type": "stream",
          "text": [
            "Training Sequence [63, 14, 68, 105, 408, 145, 50, 490, 11, 387, 22]\n",
            "Testing Sequence [19162, 11085, 11086, 3554, 5393, 2378, 6102, 5, 586, 70, 12, 11087, 3, 1, 2]\n"
          ]
        }
      ],
      "source": [
        "print(\"Training Sequence\", train_seq[0])\n",
        "print(\"Testing Sequence\", test_seq[0])"
      ]
    },
    {
      "cell_type": "code",
      "execution_count": 149,
      "metadata": {
        "colab": {
          "base_uri": "https://localhost:8080/"
        },
        "id": "Pax4rjOd6rEc",
        "outputId": "40165c19-65bf-41bb-b3ae-4fde437981c0"
      },
      "outputs": [
        {
          "name": "stdout",
          "output_type": "stream",
          "text": [
            "Length of training sequence: 33\n",
            "Length of testing sequence: 33\n"
          ]
        }
      ],
      "source": [
        "train_pad = pad_sequences(train_seq)\n",
        "test_pad = pad_sequences(test_seq, maxlen=train_pad.shape[1])\n",
        "print(\"Length of training sequence:\", train_pad.shape[1])\n",
        "print(\"Length of testing sequence:\", test_pad.shape[1])"
      ]
    },
    {
      "cell_type": "code",
      "execution_count": 150,
      "metadata": {
        "colab": {
          "base_uri": "https://localhost:8080/"
        },
        "id": "v6YjCc357PJ_",
        "outputId": "c624a0bf-1b15-4bbc-9b2a-097e70e281c7"
      },
      "outputs": [
        {
          "data": {
            "text/plain": [
              "array([  0,   0,   0,   0,   0,   0,   0,   0,   0,   0,   0,   0,   0,\n",
              "         0,   0,   0,   0,   0,   0,   0,   0,   0,  63,  14,  68, 105,\n",
              "       408, 145,  50, 490,  11, 387,  22])"
            ]
          },
          "execution_count": 150,
          "metadata": {},
          "output_type": "execute_result"
        }
      ],
      "source": [
        "train_pad[0]"
      ]
    },
    {
      "attachments": {},
      "cell_type": "markdown",
      "metadata": {
        "id": "Ta3_DDC12tjI"
      },
      "source": [
        "## Model"
      ]
    },
    {
      "cell_type": "code",
      "execution_count": 170,
      "metadata": {
        "id": "U5lFQuv_7-Br"
      },
      "outputs": [],
      "source": [
        "T = train_pad.shape[1]\n",
        "D = 20\n",
        "M = 15\n",
        "\n",
        "i = Input(shape=(T, ))\n",
        "x = Embedding(V+1, D)(i)\n",
        "x = LSTM(M, return_sequences=True)(x)\n",
        "x = Dropout(0.1)(x)\n",
        "x = GlobalMaxPooling1D()(x)\n",
        "x = Dropout(0.6)(x)\n",
        "x = Dense(32, activation=\"relu\")(x)\n",
        "x = Dropout(0.7)(x)\n",
        "x = Dense(32, activation=\"relu\")(x)\n",
        "x = Dropout(0.7)(x)\n",
        "x = Dense(1, activation=\"sigmoid\")(x)\n",
        "\n",
        "model = Model(i, x)"
      ]
    },
    {
      "cell_type": "code",
      "execution_count": 171,
      "metadata": {
        "id": "K4xVKeyluS2l"
      },
      "outputs": [],
      "source": [
        "model.compile(optimizer=\"adam\",\n",
        "              loss=\"binary_crossentropy\",\n",
        "              metrics=[\"accuracy\"])"
      ]
    },
    {
      "cell_type": "code",
      "execution_count": 172,
      "metadata": {
        "colab": {
          "base_uri": "https://localhost:8080/"
        },
        "id": "x9u0CN4nsfBC",
        "outputId": "71a68e8e-a1fb-4e40-ab46-40f69b71ad5d"
      },
      "outputs": [
        {
          "name": "stdout",
          "output_type": "stream",
          "text": [
            "Epoch 1/6\n",
            "212/212 [==============================] - 10s 29ms/step - loss: 0.6860 - accuracy: 0.5691 - val_loss: 0.6872 - val_accuracy: 0.5525\n",
            "Epoch 2/6\n",
            "212/212 [==============================] - 6s 27ms/step - loss: 0.6810 - accuracy: 0.5762 - val_loss: 0.6804 - val_accuracy: 0.5525\n",
            "Epoch 3/6\n",
            "212/212 [==============================] - 6s 29ms/step - loss: 0.6619 - accuracy: 0.6039 - val_loss: 0.6082 - val_accuracy: 0.6946\n",
            "Epoch 4/6\n",
            "212/212 [==============================] - 6s 30ms/step - loss: 0.5457 - accuracy: 0.7528 - val_loss: 0.4426 - val_accuracy: 0.8127\n",
            "Epoch 5/6\n",
            "212/212 [==============================] - 6s 30ms/step - loss: 0.4122 - accuracy: 0.8437 - val_loss: 0.4689 - val_accuracy: 0.8021\n",
            "Epoch 6/6\n",
            "212/212 [==============================] - 6s 30ms/step - loss: 0.3251 - accuracy: 0.8853 - val_loss: 0.5044 - val_accuracy: 0.8061\n"
          ]
        }
      ],
      "source": [
        "r = model.fit(train_pad, \n",
        "              y_train,\n",
        "              validation_data=(test_pad, y_test), \n",
        "              epochs=6)"
      ]
    },
    {
      "cell_type": "code",
      "execution_count": 173,
      "metadata": {
        "colab": {
          "base_uri": "https://localhost:8080/"
        },
        "id": "1IwJE5PXGvqx",
        "outputId": "0d253a00-3139-4890-8495-be596b971da2"
      },
      "outputs": [
        {
          "data": {
            "text/plain": [
              "{'loss': [0.685990571975708,\n",
              "  0.6810483932495117,\n",
              "  0.6618504524230957,\n",
              "  0.545703113079071,\n",
              "  0.41223517060279846,\n",
              "  0.325056791305542],\n",
              " 'accuracy': [0.5691489577293396,\n",
              "  0.576241135597229,\n",
              "  0.6038711667060852,\n",
              "  0.7528073191642761,\n",
              "  0.8436761498451233,\n",
              "  0.8853427767753601],\n",
              " 'val_loss': [0.6871738433837891,\n",
              "  0.6804226636886597,\n",
              "  0.6082491874694824,\n",
              "  0.44263648986816406,\n",
              "  0.46889957785606384,\n",
              "  0.5044289231300354],\n",
              " 'val_accuracy': [0.5524568557739258,\n",
              "  0.5524568557739258,\n",
              "  0.6945551037788391,\n",
              "  0.8127490282058716,\n",
              "  0.8021248579025269,\n",
              "  0.8061088919639587]}"
            ]
          },
          "execution_count": 173,
          "metadata": {},
          "output_type": "execute_result"
        }
      ],
      "source": [
        "r.history"
      ]
    },
    {
      "cell_type": "code",
      "execution_count": 174,
      "metadata": {
        "colab": {
          "base_uri": "https://localhost:8080/",
          "height": 291
        },
        "id": "qc7wY3QZGy-h",
        "outputId": "cbbd94fb-e614-4dd1-b188-6b41843b4f1c"
      },
      "outputs": [
        {
          "data": {
            "image/png": "[encoded data removed]",
            "text/plain": [
              "<Figure size 300x300 with 1 Axes>"
            ]
          },
          "metadata": {},
          "output_type": "display_data"
        }
      ],
      "source": [
        "plt.figure(figsize=(3,3))\n",
        "plt.plot(r.history[\"loss\"], label=\"Loss\")\n",
        "plt.plot(r.history[\"val_loss\"], label=\"Validation Loss\")\n",
        "plt.legend()\n",
        "plt.show()"
      ]
    },
    {
      "attachments": {},
      "cell_type": "markdown",
      "metadata": {
        "id": "PBM-XPZHAVcn"
      },
      "source": [
        "## Prediction"
      ]
    },
    {
      "cell_type": "code",
      "execution_count": 175,
      "metadata": {
        "id": "m2yd9CG1-yeu"
      },
      "outputs": [],
      "source": [
        "def predict_sentiment(text):\n",
        "  text_seq = tokenizer.texts_to_sequences(text)\n",
        "  text_pad = pad_sequences(text_seq, maxlen=T)\n",
        "\n",
        "  prediction = model.predict(text_pad).round()\n",
        "\n",
        "  if prediction==1.0:\n",
        "    print(\"It is a disaster tweet.\")\n",
        "  else:\n",
        "    print(\"It is not a disaster tweet.\")\n"
      ]
    },
    {
      "cell_type": "code",
      "execution_count": 176,
      "metadata": {
        "colab": {
          "base_uri": "https://localhost:8080/"
        },
        "id": "hMZKChCq_ikw",
        "outputId": "c352bdea-9037-4b47-a777-e496fb50e534"
      },
      "outputs": [
        {
          "name": "stdout",
          "output_type": "stream",
          "text": [
            "1/1 [==============================] - 1s 762ms/step\n",
            "It is a disaster tweet.\n"
          ]
        }
      ],
      "source": [
        "text=\"What if we used drones to help firefighters lead people out of burning buildings/ help put the fire out?\"\n",
        "predict_sentiment([text])"
      ]
    },
    {
      "cell_type": "code",
      "execution_count": 177,
      "metadata": {},
      "outputs": [
        {
          "name": "stdout",
          "output_type": "stream",
          "text": [
            "24/24 [==============================] - 0s 6ms/step\n"
          ]
        }
      ],
      "source": [
        "text_seq = tokenizer.texts_to_sequences(X_test.iloc[:,0])\n",
        "text_pad = pad_sequences(text_seq, maxlen=T)\n",
        "y_pred = model.predict(text_pad).round().astype(int)"
      ]
    },
    {
      "cell_type": "code",
      "execution_count": 178,
      "metadata": {},
      "outputs": [
        {
          "data": {
            "text/plain": [
              "0.8061088977423638"
            ]
          },
          "execution_count": 178,
          "metadata": {},
          "output_type": "execute_result"
        }
      ],
      "source": [
        "accuracy_score(y_test, y_pred)"
      ]
    }
  ],
  "metadata": {
    "colab": {
      "provenance": []
    },
    "kernelspec": {
      "display_name": "Python 3",
      "name": "python3"
    },
    "language_info": {
      "codemirror_mode": {
        "name": "ipython",
        "version": 3
      },
      "file_extension": ".py",
      "mimetype": "text/x-python",
      "name": "python",
      "nbconvert_exporter": "python",
      "pygments_lexer": "ipython3",
      "version": "3.11.4"
    }
  },
  "nbformat": 4,
  "nbformat_minor": 0
}
