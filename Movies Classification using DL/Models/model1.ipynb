{
 "cells": [
  {
   "cell_type": "code",
   "execution_count": 40,
   "metadata": {},
   "outputs": [],
   "source": [
    "import pandas as pd\n",
    "from sklearn.model_selection import train_test_split\n",
    "from sklearn.preprocessing import LabelEncoder\n",
    "from sklearn.metrics import accuracy_score\n",
    "from tensorflow import keras\n",
    "from tensorflow.keras import layers\n",
    "from tensorflow.keras.preprocessing.text import Tokenizer\n",
    "from tensorflow.keras.preprocessing.sequence import pad_sequences"
   ]
  },
  {
   "cell_type": "code",
   "execution_count": 41,
   "metadata": {},
   "outputs": [],
   "source": [
    "df=pd.read_csv('./../Datasets/movies.csv')"
   ]
  },
  {
   "cell_type": "code",
   "execution_count": 42,
   "metadata": {},
   "outputs": [
    {
     "data": {
      "text/html": [
       "<div>\n",
       "<style scoped>\n",
       "    .dataframe tbody tr th:only-of-type {\n",
       "        vertical-align: middle;\n",
       "    }\n",
       "\n",
       "    .dataframe tbody tr th {\n",
       "        vertical-align: top;\n",
       "    }\n",
       "\n",
       "    .dataframe thead th {\n",
       "        text-align: right;\n",
       "    }\n",
       "</style>\n",
       "<table border=\"1\" class=\"dataframe\">\n",
       "  <thead>\n",
       "    <tr style=\"text-align: right;\">\n",
       "      <th></th>\n",
       "      <th>id</th>\n",
       "      <th>title</th>\n",
       "      <th>genres</th>\n",
       "      <th>original_language</th>\n",
       "      <th>overview</th>\n",
       "      <th>popularity</th>\n",
       "      <th>production_companies</th>\n",
       "      <th>release_date</th>\n",
       "      <th>budget</th>\n",
       "      <th>revenue</th>\n",
       "      <th>runtime</th>\n",
       "      <th>status</th>\n",
       "      <th>tagline</th>\n",
       "      <th>vote_average</th>\n",
       "      <th>vote_count</th>\n",
       "      <th>credits</th>\n",
       "      <th>keywords</th>\n",
       "      <th>poster_path</th>\n",
       "      <th>backdrop_path</th>\n",
       "      <th>recommendations</th>\n",
       "    </tr>\n",
       "  </thead>\n",
       "  <tbody>\n",
       "    <tr>\n",
       "      <th>0</th>\n",
       "      <td>615656</td>\n",
       "      <td>Meg 2: The Trench</td>\n",
       "      <td>Action-Science Fiction-Horror</td>\n",
       "      <td>en</td>\n",
       "      <td>An exploratory dive into the deepest depths of...</td>\n",
       "      <td>8763.998</td>\n",
       "      <td>Apelles Entertainment-Warner Bros. Pictures-di...</td>\n",
       "      <td>2023-08-02</td>\n",
       "      <td>129000000.0</td>\n",
       "      <td>352056482.0</td>\n",
       "      <td>116.0</td>\n",
       "      <td>Released</td>\n",
       "      <td>Back for seconds.</td>\n",
       "      <td>7.079</td>\n",
       "      <td>1365.0</td>\n",
       "      <td>Jason Statham-Wu Jing-Shuya Sophia Cai-Sergio ...</td>\n",
       "      <td>based on novel or book-sequel-kaiju</td>\n",
       "      <td>/4m1Au3YkjqsxF8iwQy0fPYSxE0h.jpg</td>\n",
       "      <td>/qlxy8yo5bcgUw2KAmmojUKp4rHd.jpg</td>\n",
       "      <td>1006462-298618-569094-1061181-346698-1076487-6...</td>\n",
       "    </tr>\n",
       "    <tr>\n",
       "      <th>1</th>\n",
       "      <td>758323</td>\n",
       "      <td>The Pope's Exorcist</td>\n",
       "      <td>Horror-Mystery-Thriller</td>\n",
       "      <td>en</td>\n",
       "      <td>Father Gabriele Amorth Chief Exorcist of the V...</td>\n",
       "      <td>5953.227</td>\n",
       "      <td>Screen Gems-2.0 Entertainment-Jesus &amp; Mary-Wor...</td>\n",
       "      <td>2023-04-05</td>\n",
       "      <td>18000000.0</td>\n",
       "      <td>65675816.0</td>\n",
       "      <td>103.0</td>\n",
       "      <td>Released</td>\n",
       "      <td>Inspired by the actual files of Father Gabriel...</td>\n",
       "      <td>7.433</td>\n",
       "      <td>545.0</td>\n",
       "      <td>Russell Crowe-Daniel Zovatto-Alex Essoe-Franco...</td>\n",
       "      <td>spain-rome italy-vatican-pope-pig-possession-c...</td>\n",
       "      <td>/9JBEPLTPSm0d1mbEcLxULjJq9Eh.jpg</td>\n",
       "      <td>/hiHGRbyTcbZoLsYYkO4QiCLYe34.jpg</td>\n",
       "      <td>713704-296271-502356-1076605-1084225-1008005-9...</td>\n",
       "    </tr>\n",
       "    <tr>\n",
       "      <th>2</th>\n",
       "      <td>667538</td>\n",
       "      <td>Transformers: Rise of the Beasts</td>\n",
       "      <td>Action-Adventure-Science Fiction</td>\n",
       "      <td>en</td>\n",
       "      <td>When a new threat capable of destroying the en...</td>\n",
       "      <td>5409.104</td>\n",
       "      <td>Skydance-Paramount-di Bonaventura Pictures-Bay...</td>\n",
       "      <td>2023-06-06</td>\n",
       "      <td>200000000.0</td>\n",
       "      <td>407045464.0</td>\n",
       "      <td>127.0</td>\n",
       "      <td>Released</td>\n",
       "      <td>Unite or fall.</td>\n",
       "      <td>7.340</td>\n",
       "      <td>1007.0</td>\n",
       "      <td>Anthony Ramos-Dominique Fishback-Luna Lauren V...</td>\n",
       "      <td>peru-alien-end of the world-based on cartoon-b...</td>\n",
       "      <td>/gPbM0MK8CP8A174rmUwGsADNYKD.jpg</td>\n",
       "      <td>/woJbg7ZqidhpvqFGGMRhWQNoxwa.jpg</td>\n",
       "      <td>496450-569094-298618-385687-877100-598331-4628...</td>\n",
       "    </tr>\n",
       "    <tr>\n",
       "      <th>3</th>\n",
       "      <td>640146</td>\n",
       "      <td>Ant-Man and the Wasp: Quantumania</td>\n",
       "      <td>Action-Adventure-Science Fiction</td>\n",
       "      <td>en</td>\n",
       "      <td>Super-Hero partners Scott Lang and Hope van Dy...</td>\n",
       "      <td>4425.387</td>\n",
       "      <td>Marvel Studios-Kevin Feige Productions</td>\n",
       "      <td>2023-02-15</td>\n",
       "      <td>200000000.0</td>\n",
       "      <td>475766228.0</td>\n",
       "      <td>125.0</td>\n",
       "      <td>Released</td>\n",
       "      <td>Witness the beginning of a new dynasty.</td>\n",
       "      <td>6.507</td>\n",
       "      <td>2811.0</td>\n",
       "      <td>Paul Rudd-Evangeline Lilly-Jonathan Majors-Kat...</td>\n",
       "      <td>hero-ant-sequel-superhero-based on comic-famil...</td>\n",
       "      <td>/qnqGbB22YJ7dSs4o6M7exTpNxPz.jpg</td>\n",
       "      <td>/m8JTwHFwX7I7JY5fPe4SjqejWag.jpg</td>\n",
       "      <td>823999-676841-868759-734048-267805-965839-1033...</td>\n",
       "    </tr>\n",
       "    <tr>\n",
       "      <th>4</th>\n",
       "      <td>677179</td>\n",
       "      <td>Creed III</td>\n",
       "      <td>Drama-Action</td>\n",
       "      <td>en</td>\n",
       "      <td>After dominating the boxing world Adonis Creed...</td>\n",
       "      <td>3994.342</td>\n",
       "      <td>Metro-Goldwyn-Mayer-Proximity Media-Balboa Pro...</td>\n",
       "      <td>2023-03-01</td>\n",
       "      <td>75000000.0</td>\n",
       "      <td>269000000.0</td>\n",
       "      <td>116.0</td>\n",
       "      <td>Released</td>\n",
       "      <td>You can't run from your past.</td>\n",
       "      <td>7.262</td>\n",
       "      <td>1129.0</td>\n",
       "      <td>Michael B. Jordan-Tessa Thompson-Jonathan Majo...</td>\n",
       "      <td>philadelphia pennsylvania-husband wife relatio...</td>\n",
       "      <td>/cvsXj3I9Q2iyyIo95AecSd1tad7.jpg</td>\n",
       "      <td>/5i6SjyDbDWqyun8klUuCxrlFbyw.jpg</td>\n",
       "      <td>965839-267805-943822-842942-1035806-823999-107...</td>\n",
       "    </tr>\n",
       "  </tbody>\n",
       "</table>\n",
       "</div>"
      ],
      "text/plain": [
       "       id                              title  \\\n",
       "0  615656                  Meg 2: The Trench   \n",
       "1  758323                The Pope's Exorcist   \n",
       "2  667538   Transformers: Rise of the Beasts   \n",
       "3  640146  Ant-Man and the Wasp: Quantumania   \n",
       "4  677179                          Creed III   \n",
       "\n",
       "                             genres original_language  \\\n",
       "0     Action-Science Fiction-Horror                en   \n",
       "1           Horror-Mystery-Thriller                en   \n",
       "2  Action-Adventure-Science Fiction                en   \n",
       "3  Action-Adventure-Science Fiction                en   \n",
       "4                      Drama-Action                en   \n",
       "\n",
       "                                            overview  popularity  \\\n",
       "0  An exploratory dive into the deepest depths of...    8763.998   \n",
       "1  Father Gabriele Amorth Chief Exorcist of the V...    5953.227   \n",
       "2  When a new threat capable of destroying the en...    5409.104   \n",
       "3  Super-Hero partners Scott Lang and Hope van Dy...    4425.387   \n",
       "4  After dominating the boxing world Adonis Creed...    3994.342   \n",
       "\n",
       "                                production_companies release_date  \\\n",
       "0  Apelles Entertainment-Warner Bros. Pictures-di...   2023-08-02   \n",
       "1  Screen Gems-2.0 Entertainment-Jesus & Mary-Wor...   2023-04-05   \n",
       "2  Skydance-Paramount-di Bonaventura Pictures-Bay...   2023-06-06   \n",
       "3             Marvel Studios-Kevin Feige Productions   2023-02-15   \n",
       "4  Metro-Goldwyn-Mayer-Proximity Media-Balboa Pro...   2023-03-01   \n",
       "\n",
       "        budget      revenue  runtime    status  \\\n",
       "0  129000000.0  352056482.0    116.0  Released   \n",
       "1   18000000.0   65675816.0    103.0  Released   \n",
       "2  200000000.0  407045464.0    127.0  Released   \n",
       "3  200000000.0  475766228.0    125.0  Released   \n",
       "4   75000000.0  269000000.0    116.0  Released   \n",
       "\n",
       "                                             tagline  vote_average  \\\n",
       "0                                  Back for seconds.         7.079   \n",
       "1  Inspired by the actual files of Father Gabriel...         7.433   \n",
       "2                                     Unite or fall.         7.340   \n",
       "3            Witness the beginning of a new dynasty.         6.507   \n",
       "4                      You can't run from your past.         7.262   \n",
       "\n",
       "   vote_count                                            credits  \\\n",
       "0      1365.0  Jason Statham-Wu Jing-Shuya Sophia Cai-Sergio ...   \n",
       "1       545.0  Russell Crowe-Daniel Zovatto-Alex Essoe-Franco...   \n",
       "2      1007.0  Anthony Ramos-Dominique Fishback-Luna Lauren V...   \n",
       "3      2811.0  Paul Rudd-Evangeline Lilly-Jonathan Majors-Kat...   \n",
       "4      1129.0  Michael B. Jordan-Tessa Thompson-Jonathan Majo...   \n",
       "\n",
       "                                            keywords  \\\n",
       "0                based on novel or book-sequel-kaiju   \n",
       "1  spain-rome italy-vatican-pope-pig-possession-c...   \n",
       "2  peru-alien-end of the world-based on cartoon-b...   \n",
       "3  hero-ant-sequel-superhero-based on comic-famil...   \n",
       "4  philadelphia pennsylvania-husband wife relatio...   \n",
       "\n",
       "                        poster_path                     backdrop_path  \\\n",
       "0  /4m1Au3YkjqsxF8iwQy0fPYSxE0h.jpg  /qlxy8yo5bcgUw2KAmmojUKp4rHd.jpg   \n",
       "1  /9JBEPLTPSm0d1mbEcLxULjJq9Eh.jpg  /hiHGRbyTcbZoLsYYkO4QiCLYe34.jpg   \n",
       "2  /gPbM0MK8CP8A174rmUwGsADNYKD.jpg  /woJbg7ZqidhpvqFGGMRhWQNoxwa.jpg   \n",
       "3  /qnqGbB22YJ7dSs4o6M7exTpNxPz.jpg  /m8JTwHFwX7I7JY5fPe4SjqejWag.jpg   \n",
       "4  /cvsXj3I9Q2iyyIo95AecSd1tad7.jpg  /5i6SjyDbDWqyun8klUuCxrlFbyw.jpg   \n",
       "\n",
       "                                     recommendations  \n",
       "0  1006462-298618-569094-1061181-346698-1076487-6...  \n",
       "1  713704-296271-502356-1076605-1084225-1008005-9...  \n",
       "2  496450-569094-298618-385687-877100-598331-4628...  \n",
       "3  823999-676841-868759-734048-267805-965839-1033...  \n",
       "4  965839-267805-943822-842942-1035806-823999-107...  "
      ]
     },
     "execution_count": 42,
     "metadata": {},
     "output_type": "execute_result"
    }
   ],
   "source": [
    "df.head()"
   ]
  },
  {
   "cell_type": "code",
   "execution_count": 43,
   "metadata": {},
   "outputs": [
    {
     "data": {
      "text/html": [
       "<div>\n",
       "<style scoped>\n",
       "    .dataframe tbody tr th:only-of-type {\n",
       "        vertical-align: middle;\n",
       "    }\n",
       "\n",
       "    .dataframe tbody tr th {\n",
       "        vertical-align: top;\n",
       "    }\n",
       "\n",
       "    .dataframe thead th {\n",
       "        text-align: right;\n",
       "    }\n",
       "</style>\n",
       "<table border=\"1\" class=\"dataframe\">\n",
       "  <thead>\n",
       "    <tr style=\"text-align: right;\">\n",
       "      <th></th>\n",
       "      <th>id</th>\n",
       "      <th>title</th>\n",
       "      <th>genres</th>\n",
       "      <th>original_language</th>\n",
       "      <th>overview</th>\n",
       "      <th>popularity</th>\n",
       "      <th>production_companies</th>\n",
       "      <th>release_date</th>\n",
       "      <th>budget</th>\n",
       "      <th>revenue</th>\n",
       "      <th>runtime</th>\n",
       "      <th>status</th>\n",
       "      <th>tagline</th>\n",
       "      <th>vote_average</th>\n",
       "      <th>vote_count</th>\n",
       "      <th>credits</th>\n",
       "      <th>keywords</th>\n",
       "      <th>poster_path</th>\n",
       "      <th>backdrop_path</th>\n",
       "      <th>recommendations</th>\n",
       "    </tr>\n",
       "  </thead>\n",
       "  <tbody>\n",
       "    <tr>\n",
       "      <th>17</th>\n",
       "      <td>965839</td>\n",
       "      <td>Lord of the Streets</td>\n",
       "      <td>Action</td>\n",
       "      <td>en</td>\n",
       "      <td>When Jason Dyson refuses to make his prized fi...</td>\n",
       "      <td>1691.825</td>\n",
       "      <td>Mutiny Films</td>\n",
       "      <td>2022-04-22</td>\n",
       "      <td>1000000.0</td>\n",
       "      <td>0.0</td>\n",
       "      <td>85.0</td>\n",
       "      <td>Released</td>\n",
       "      <td>NaN</td>\n",
       "      <td>4.9</td>\n",
       "      <td>29.0</td>\n",
       "      <td>Treach-Quinton Jackson-Khalil Rountree Jr.-And...</td>\n",
       "      <td>NaN</td>\n",
       "      <td>/n9YWVQRc0zw0nwrFcOkOpffZxjc.jpg</td>\n",
       "      <td>/g8Yytnby0hIPft5l56mgJtZyR1k.jpg</td>\n",
       "      <td>982467</td>\n",
       "    </tr>\n",
       "  </tbody>\n",
       "</table>\n",
       "</div>"
      ],
      "text/plain": [
       "        id                title  genres original_language  \\\n",
       "17  965839  Lord of the Streets  Action                en   \n",
       "\n",
       "                                             overview  popularity  \\\n",
       "17  When Jason Dyson refuses to make his prized fi...    1691.825   \n",
       "\n",
       "   production_companies release_date     budget  revenue  runtime    status  \\\n",
       "17         Mutiny Films   2022-04-22  1000000.0      0.0     85.0  Released   \n",
       "\n",
       "   tagline  vote_average  vote_count  \\\n",
       "17     NaN           4.9        29.0   \n",
       "\n",
       "                                              credits keywords  \\\n",
       "17  Treach-Quinton Jackson-Khalil Rountree Jr.-And...      NaN   \n",
       "\n",
       "                         poster_path                     backdrop_path  \\\n",
       "17  /n9YWVQRc0zw0nwrFcOkOpffZxjc.jpg  /g8Yytnby0hIPft5l56mgJtZyR1k.jpg   \n",
       "\n",
       "   recommendations  \n",
       "17          982467  "
      ]
     },
     "execution_count": 43,
     "metadata": {},
     "output_type": "execute_result"
    }
   ],
   "source": [
    "df[df['id']==965839]"
   ]
  },
  {
   "cell_type": "code",
   "execution_count": 44,
   "metadata": {},
   "outputs": [
    {
     "data": {
      "text/plain": [
       "'An exploratory dive into the deepest depths of the ocean of a daring research team spirals into chaos when a malevolent mining operation threatens their mission and forces them into a high-stakes battle for survival.'"
      ]
     },
     "execution_count": 44,
     "metadata": {},
     "output_type": "execute_result"
    }
   ],
   "source": [
    "df['overview'][0]"
   ]
  },
  {
   "cell_type": "code",
   "execution_count": 45,
   "metadata": {},
   "outputs": [
    {
     "data": {
      "text/plain": [
       "id                           0\n",
       "title                        4\n",
       "genres                  210525\n",
       "original_language            0\n",
       "overview                118372\n",
       "popularity                   0\n",
       "production_companies    385252\n",
       "release_date             51915\n",
       "budget                       0\n",
       "revenue                      0\n",
       "runtime                  34374\n",
       "status                       0\n",
       "tagline                 614183\n",
       "vote_average                 0\n",
       "vote_count                   0\n",
       "credits                 224892\n",
       "keywords                512049\n",
       "poster_path             184786\n",
       "backdrop_path           499622\n",
       "recommendations         687652\n",
       "dtype: int64"
      ]
     },
     "execution_count": 45,
     "metadata": {},
     "output_type": "execute_result"
    }
   ],
   "source": [
    "df.isnull().sum()"
   ]
  },
  {
   "cell_type": "code",
   "execution_count": 46,
   "metadata": {},
   "outputs": [],
   "source": [
    "df = df.dropna(subset=['genres'])"
   ]
  },
  {
   "cell_type": "code",
   "execution_count": 47,
   "metadata": {},
   "outputs": [],
   "source": [
    "def custom_function(value):\n",
    "    # Implement your custom logic here\n",
    "    # For example, let's say you want to concatenate 'ABC' to each non-null value\n",
    "    if pd.notna(value):\n",
    "        value_list = value.split('-')\n",
    "        return ' '.join(value_list)\n",
    "    else:\n",
    "        return value\n",
    "\n",
    "# Apply the custom function to the 'production_companies' column\n",
    "df['production_companies'] = df['production_companies'].apply(custom_function)"
   ]
  },
  {
   "cell_type": "code",
   "execution_count": 48,
   "metadata": {},
   "outputs": [
    {
     "data": {
      "text/plain": [
       "0         Apelles Entertainment Warner Bros. Pictures di...\n",
       "1         Screen Gems 2.0 Entertainment Jesus & Mary Wor...\n",
       "2         Skydance Paramount di Bonaventura Pictures Bay...\n",
       "3                    Marvel Studios Kevin Feige Productions\n",
       "4         Metro Goldwyn Mayer Proximity Media Balboa Pro...\n",
       "                                ...                        \n",
       "722486                                                  NaN\n",
       "722487                                                  NaN\n",
       "722488                                           MetraFilms\n",
       "722490                                     Primodio Studios\n",
       "722491                                                  NaN\n",
       "Name: production_companies, Length: 511968, dtype: object"
      ]
     },
     "execution_count": 48,
     "metadata": {},
     "output_type": "execute_result"
    }
   ],
   "source": [
    "df['production_companies']"
   ]
  },
  {
   "cell_type": "code",
   "execution_count": 49,
   "metadata": {},
   "outputs": [
    {
     "data": {
      "text/plain": [
       "Index(['id', 'title', 'genres', 'original_language', 'overview', 'popularity',\n",
       "       'production_companies', 'release_date', 'budget', 'revenue', 'runtime',\n",
       "       'status', 'tagline', 'vote_average', 'vote_count', 'credits',\n",
       "       'keywords', 'poster_path', 'backdrop_path', 'recommendations'],\n",
       "      dtype='object')"
      ]
     },
     "execution_count": 49,
     "metadata": {},
     "output_type": "execute_result"
    }
   ],
   "source": [
    "df.columns"
   ]
  },
  {
   "cell_type": "code",
   "execution_count": 50,
   "metadata": {},
   "outputs": [],
   "source": [
    "df['text']=df['overview']+df['keywords']+df['production_companies']"
   ]
  },
  {
   "cell_type": "code",
   "execution_count": 59,
   "metadata": {},
   "outputs": [
    {
     "data": {
      "text/plain": [
       "722491                                                  NaN\n",
       "722490    This is a biographical documentary about a rea...\n",
       "722488                                                  NaN\n",
       "722487                                                  NaN\n",
       "722486                                                  NaN\n",
       "                                ...                        \n",
       "4         After dominating the boxing world Adonis Creed...\n",
       "3         Super-Hero partners Scott Lang and Hope van Dy...\n",
       "2         When a new threat capable of destroying the en...\n",
       "1         Father Gabriele Amorth Chief Exorcist of the V...\n",
       "0         An exploratory dive into the deepest depths of...\n",
       "Name: text, Length: 511968, dtype: object"
      ]
     },
     "execution_count": 59,
     "metadata": {},
     "output_type": "execute_result"
    }
   ],
   "source": [
    "df['text'][::-1]"
   ]
  },
  {
   "cell_type": "code",
   "execution_count": null,
   "metadata": {},
   "outputs": [],
   "source": []
  },
  {
   "cell_type": "code",
   "execution_count": 52,
   "metadata": {},
   "outputs": [
    {
     "name": "stdout",
     "output_type": "stream",
     "text": [
      "            id                              title  \\\n",
      "0       615656                  Meg 2: The Trench   \n",
      "1       758323                The Pope's Exorcist   \n",
      "2       667538   Transformers: Rise of the Beasts   \n",
      "3       640146  Ant-Man and the Wasp: Quantumania   \n",
      "4       677179                          Creed III   \n",
      "...        ...                                ...   \n",
      "722486  179422    Uriah Heep - Between Two Worlds   \n",
      "722487  681280                             Cuckoo   \n",
      "722488  603360                          An Affair   \n",
      "722490  387890  My Life, My Story, My Tourette's!   \n",
      "722491  184204  Rosamunde Pilcher: Herzen im Wind   \n",
      "\n",
      "                                  genres original_language  \\\n",
      "0          Action-Science Fiction-Horror                en   \n",
      "1                Horror-Mystery-Thriller                en   \n",
      "2       Action-Adventure-Science Fiction                en   \n",
      "3       Action-Adventure-Science Fiction                en   \n",
      "4                           Drama-Action                en   \n",
      "...                                  ...               ...   \n",
      "722486                             Music                en   \n",
      "722487             Horror-Thriller-Drama                en   \n",
      "722488                             Drama                ru   \n",
      "722490                       Documentary                en   \n",
      "722491                             Drama                de   \n",
      "\n",
      "                                                 overview  popularity  \\\n",
      "0       An exploratory dive into the deepest depths of...    8763.998   \n",
      "1       Father Gabriele Amorth Chief Exorcist of the V...    5953.227   \n",
      "2       When a new threat capable of destroying the en...    5409.104   \n",
      "3       Super-Hero partners Scott Lang and Hope van Dy...    4425.387   \n",
      "4       After dominating the boxing world Adonis Creed...    3994.342   \n",
      "...                                                   ...         ...   \n",
      "722486  This is the stunning film of Uriah Heep live o...       0.600   \n",
      "722487  An insecure mother tries to maintain the bond ...       0.600   \n",
      "722488                                   A disaster film.       0.600   \n",
      "722490  This is a biographical documentary about a rea...       0.600   \n",
      "722491  On the way to the church to marry Sophie of Wi...       0.600   \n",
      "\n",
      "                                     production_companies release_date  \\\n",
      "0       Apelles Entertainment Warner Bros. Pictures di...   2023-08-02   \n",
      "1       Screen Gems 2.0 Entertainment Jesus & Mary Wor...   2023-04-05   \n",
      "2       Skydance Paramount di Bonaventura Pictures Bay...   2023-06-06   \n",
      "3                  Marvel Studios Kevin Feige Productions   2023-02-15   \n",
      "4       Metro Goldwyn Mayer Proximity Media Balboa Pro...   2023-03-01   \n",
      "...                                                   ...          ...   \n",
      "722486                                                NaN   2005-05-02   \n",
      "722487                                                NaN   2019-07-16   \n",
      "722488                                         MetraFilms   2013-06-04   \n",
      "722490                                   Primodio Studios          NaN   \n",
      "722491                                                NaN   2008-12-21   \n",
      "\n",
      "             budget      revenue  ...  genre7 genre8 genre9  genre10  genre11  \\\n",
      "0       129000000.0  352056482.0  ...    None   None   None     None     None   \n",
      "1        18000000.0   65675816.0  ...    None   None   None     None     None   \n",
      "2       200000000.0  407045464.0  ...    None   None   None     None     None   \n",
      "3       200000000.0  475766228.0  ...    None   None   None     None     None   \n",
      "4        75000000.0  269000000.0  ...    None   None   None     None     None   \n",
      "...             ...          ...  ...     ...    ...    ...      ...      ...   \n",
      "722486          0.0          0.0  ...    None   None   None     None     None   \n",
      "722487          0.0          0.0  ...    None   None   None     None     None   \n",
      "722488          0.0          0.0  ...    None   None   None     None     None   \n",
      "722490          0.0          0.0  ...    None   None   None     None     None   \n",
      "722491          0.0          0.0  ...    None   None   None     None     None   \n",
      "\n",
      "       genre12 genre13 genre14 genre15 genre16  \n",
      "0         None    None    None    None    None  \n",
      "1         None    None    None    None    None  \n",
      "2         None    None    None    None    None  \n",
      "3         None    None    None    None    None  \n",
      "4         None    None    None    None    None  \n",
      "...        ...     ...     ...     ...     ...  \n",
      "722486    None    None    None    None    None  \n",
      "722487    None    None    None    None    None  \n",
      "722488    None    None    None    None    None  \n",
      "722490    None    None    None    None    None  \n",
      "722491    None    None    None    None    None  \n",
      "\n",
      "[511968 rows x 37 columns]\n"
     ]
    }
   ],
   "source": [
    "genres_split = df['genres'].str.split('-', expand=True)\n",
    "\n",
    "# Determine the maximum number of genres in any row\n",
    "max_genres = genres_split.shape[1]\n",
    "\n",
    "# Create new columns for each genre\n",
    "new_columns = [f'genre{i+1}' for i in range(max_genres)]\n",
    "df[new_columns] = genres_split\n",
    "\n",
    "# Display the DataFrame after splitting\n",
    "print(df)"
   ]
  },
  {
   "cell_type": "code",
   "execution_count": 53,
   "metadata": {},
   "outputs": [
    {
     "data": {
      "text/plain": [
       "Index(['id', 'title', 'genres', 'original_language', 'overview', 'popularity',\n",
       "       'production_companies', 'release_date', 'budget', 'revenue', 'runtime',\n",
       "       'status', 'tagline', 'vote_average', 'vote_count', 'credits',\n",
       "       'keywords', 'poster_path', 'backdrop_path', 'recommendations', 'text',\n",
       "       'genre1', 'genre2', 'genre3', 'genre4', 'genre5', 'genre6', 'genre7',\n",
       "       'genre8', 'genre9', 'genre10', 'genre11', 'genre12', 'genre13',\n",
       "       'genre14', 'genre15', 'genre16'],\n",
       "      dtype='object')"
      ]
     },
     "execution_count": 53,
     "metadata": {},
     "output_type": "execute_result"
    }
   ],
   "source": [
    "df.columns"
   ]
  },
  {
   "cell_type": "code",
   "execution_count": 54,
   "metadata": {},
   "outputs": [],
   "source": [
    "# df.drop(columns=[''])"
   ]
  },
  {
   "cell_type": "code",
   "execution_count": 56,
   "metadata": {},
   "outputs": [
    {
     "data": {
      "text/plain": [
       "0         An exploratory dive into the deepest depths of...\n",
       "1         Father Gabriele Amorth Chief Exorcist of the V...\n",
       "2         When a new threat capable of destroying the en...\n",
       "3         Super-Hero partners Scott Lang and Hope van Dy...\n",
       "4         After dominating the boxing world Adonis Creed...\n",
       "                                ...                        \n",
       "722486                                                  NaN\n",
       "722487                                                  NaN\n",
       "722488                                                  NaN\n",
       "722490    This is a biographical documentary about a rea...\n",
       "722491                                                  NaN\n",
       "Name: text, Length: 511968, dtype: object"
      ]
     },
     "execution_count": 56,
     "metadata": {},
     "output_type": "execute_result"
    }
   ],
   "source": [
    "df['text']"
   ]
  },
  {
   "cell_type": "code",
   "execution_count": 57,
   "metadata": {},
   "outputs": [
    {
     "data": {
      "text/html": [
       "<div>\n",
       "<style scoped>\n",
       "    .dataframe tbody tr th:only-of-type {\n",
       "        vertical-align: middle;\n",
       "    }\n",
       "\n",
       "    .dataframe tbody tr th {\n",
       "        vertical-align: top;\n",
       "    }\n",
       "\n",
       "    .dataframe thead th {\n",
       "        text-align: right;\n",
       "    }\n",
       "</style>\n",
       "<table border=\"1\" class=\"dataframe\">\n",
       "  <thead>\n",
       "    <tr style=\"text-align: right;\">\n",
       "      <th></th>\n",
       "      <th>text</th>\n",
       "      <th>genre1</th>\n",
       "      <th>genre2</th>\n",
       "      <th>genre3</th>\n",
       "    </tr>\n",
       "  </thead>\n",
       "  <tbody>\n",
       "    <tr>\n",
       "      <th>0</th>\n",
       "      <td>An exploratory dive into the deepest depths of...</td>\n",
       "      <td>Action</td>\n",
       "      <td>Science Fiction</td>\n",
       "      <td>Horror</td>\n",
       "    </tr>\n",
       "    <tr>\n",
       "      <th>1</th>\n",
       "      <td>Father Gabriele Amorth Chief Exorcist of the V...</td>\n",
       "      <td>Horror</td>\n",
       "      <td>Mystery</td>\n",
       "      <td>Thriller</td>\n",
       "    </tr>\n",
       "    <tr>\n",
       "      <th>2</th>\n",
       "      <td>When a new threat capable of destroying the en...</td>\n",
       "      <td>Action</td>\n",
       "      <td>Adventure</td>\n",
       "      <td>Science Fiction</td>\n",
       "    </tr>\n",
       "    <tr>\n",
       "      <th>3</th>\n",
       "      <td>Super-Hero partners Scott Lang and Hope van Dy...</td>\n",
       "      <td>Action</td>\n",
       "      <td>Adventure</td>\n",
       "      <td>Science Fiction</td>\n",
       "    </tr>\n",
       "    <tr>\n",
       "      <th>4</th>\n",
       "      <td>After dominating the boxing world Adonis Creed...</td>\n",
       "      <td>Drama</td>\n",
       "      <td>Action</td>\n",
       "      <td>None</td>\n",
       "    </tr>\n",
       "  </tbody>\n",
       "</table>\n",
       "</div>"
      ],
      "text/plain": [
       "                                                text  genre1           genre2  \\\n",
       "0  An exploratory dive into the deepest depths of...  Action  Science Fiction   \n",
       "1  Father Gabriele Amorth Chief Exorcist of the V...  Horror          Mystery   \n",
       "2  When a new threat capable of destroying the en...  Action        Adventure   \n",
       "3  Super-Hero partners Scott Lang and Hope van Dy...  Action        Adventure   \n",
       "4  After dominating the boxing world Adonis Creed...   Drama           Action   \n",
       "\n",
       "            genre3  \n",
       "0           Horror  \n",
       "1         Thriller  \n",
       "2  Science Fiction  \n",
       "3  Science Fiction  \n",
       "4             None  "
      ]
     },
     "execution_count": 57,
     "metadata": {},
     "output_type": "execute_result"
    }
   ],
   "source": [
    "# Select the desired columns\n",
    "selected_columns = ['text', 'genre1', 'genre2', 'genre3']\n",
    "\n",
    "# Create a new DataFrame with the selected columns\n",
    "new_df = df[selected_columns]\n",
    "\n",
    "# Display the new DataFrame\n",
    "new_df.head()"
   ]
  },
  {
   "cell_type": "code",
   "execution_count": 60,
   "metadata": {},
   "outputs": [],
   "source": [
    "# Assuming 'df' is your DataFrame\n",
    "new_df = new_df.dropna(subset=['text'])"
   ]
  },
  {
   "cell_type": "code",
   "execution_count": 61,
   "metadata": {},
   "outputs": [
    {
     "data": {
      "text/plain": [
       "text           0\n",
       "genre1         0\n",
       "genre2     64657\n",
       "genre3    108885\n",
       "dtype: int64"
      ]
     },
     "execution_count": 61,
     "metadata": {},
     "output_type": "execute_result"
    }
   ],
   "source": [
    "new_df.isnull().sum()"
   ]
  },
  {
   "cell_type": "code",
   "execution_count": 62,
   "metadata": {},
   "outputs": [
    {
     "data": {
      "text/plain": [
       "Drama              34120\n",
       "Comedy             22362\n",
       "Documentary        22235\n",
       "Action              9881\n",
       "Horror              8300\n",
       "Animation           8043\n",
       "Music               5109\n",
       "Crime               4545\n",
       "Thriller            4499\n",
       "Romance             3984\n",
       "Adventure           3416\n",
       "Western             2806\n",
       "Science Fiction     2457\n",
       "Family              2346\n",
       "Fantasy             1875\n",
       "Mystery             1586\n",
       "TV Movie            1463\n",
       "War                 1114\n",
       "History             1082\n",
       "Name: genre1, dtype: int64"
      ]
     },
     "execution_count": 62,
     "metadata": {},
     "output_type": "execute_result"
    }
   ],
   "source": [
    "new_df['genre1'].value_counts()"
   ]
  },
  {
   "cell_type": "code",
   "execution_count": 63,
   "metadata": {},
   "outputs": [
    {
     "data": {
      "text/plain": [
       "(14122, 4)"
      ]
     },
     "execution_count": 63,
     "metadata": {},
     "output_type": "execute_result"
    }
   ],
   "source": [
    "sample_df=new_df.sample(frac=0.1, random_state=42)\n",
    "\n",
    "sample_df.shape"
   ]
  },
  {
   "cell_type": "code",
   "execution_count": 64,
   "metadata": {},
   "outputs": [],
   "source": [
    "train_data, test_data, train_labels, test_labels = train_test_split(\n",
    "    new_df['text'], new_df['genre1'], test_size=0.2, random_state=42\n",
    ")"
   ]
  },
  {
   "cell_type": "code",
   "execution_count": 68,
   "metadata": {},
   "outputs": [],
   "source": [
    "\n",
    "from tensorflow.keras import layers, models\n",
    "\n",
    "from sklearn.feature_extraction.text import TfidfVectorizer\n",
    "# Use TF-IDF for text representation\n",
    "tfidf_vectorizer = TfidfVectorizer(max_features=1000)\n",
    "train_text_tfidf = tfidf_vectorizer.fit_transform(train_data)\n",
    "test_text_tfidf = tfidf_vectorizer.transform(test_data)\n",
    "\n",
    "# Convert labels to numerical representation\n",
    "label_encoder = LabelEncoder()\n",
    "train_labels_encoded = label_encoder.fit_transform(train_labels)\n",
    "test_labels_encoded = label_encoder.transform(test_labels)\n",
    "\n",
    "import numpy as np\n",
    "\n",
    "# ...\n",
    "\n",
    "# Convert sparse matrix to numpy array\n",
    "train_text_array = train_text_tfidf.toarray()\n",
    "\n",
    "# Convert labels to numpy array\n",
    "train_labels_array = np.array(train_labels_encoded)\n",
    "\n",
    "# Build a neural network model for multi-class classification\n",
    "model = models.Sequential()\n",
    "model.add(layers.Dense(256, activation='relu', input_shape=(train_text_tfidf.shape[1],)))\n",
    "model.add(layers.Dropout(0.5))  # Adding dropout for regularization\n",
    "model.add(layers.Dense(128, activation='relu'))\n",
    "model.add(layers.Dropout(0.5))\n",
    "model.add(layers.Dense(len(label_encoder.classes_), activation='softmax'))\n",
    "\n",
    "# Compile the model\n",
    "model.compile(optimizer='adam', loss='sparse_categorical_crossentropy', metrics=['accuracy'])"
   ]
  },
  {
   "cell_type": "code",
   "execution_count": 69,
   "metadata": {},
   "outputs": [
    {
     "name": "stdout",
     "output_type": "stream",
     "text": [
      "Epoch 1/20\n",
      "56489/56489 [==============================] - 164s 3ms/step - loss: 1.8205 - accuracy: 0.4601\n",
      "Epoch 2/20\n",
      "56489/56489 [==============================] - 172s 3ms/step - loss: 1.7393 - accuracy: 0.4821\n",
      "Epoch 3/20\n",
      "56489/56489 [==============================] - 187s 3ms/step - loss: 1.7321 - accuracy: 0.4879\n",
      "Epoch 4/20\n",
      "56489/56489 [==============================] - 185s 3ms/step - loss: 1.7213 - accuracy: 0.4936\n",
      "Epoch 5/20\n",
      "56489/56489 [==============================] - 185s 3ms/step - loss: 1.7123 - accuracy: 0.4972\n",
      "Epoch 6/20\n",
      "56489/56489 [==============================] - 183s 3ms/step - loss: 1.7047 - accuracy: 0.5030\n",
      "Epoch 7/20\n",
      "56489/56489 [==============================] - 184s 3ms/step - loss: 1.6966 - accuracy: 0.5068\n",
      "Epoch 8/20\n",
      "56489/56489 [==============================] - 190s 3ms/step - loss: 1.6875 - accuracy: 0.5092\n",
      "Epoch 9/20\n",
      "56489/56489 [==============================] - 166s 3ms/step - loss: 1.6782 - accuracy: 0.5130\n",
      "Epoch 10/20\n",
      "56489/56489 [==============================] - 191s 3ms/step - loss: 1.6746 - accuracy: 0.5141\n",
      "Epoch 11/20\n",
      "56489/56489 [==============================] - 181s 3ms/step - loss: 1.6701 - accuracy: 0.5153\n",
      "Epoch 12/20\n",
      "56489/56489 [==============================] - 178s 3ms/step - loss: 1.6712 - accuracy: 0.5179\n",
      "Epoch 13/20\n",
      "56489/56489 [==============================] - 179s 3ms/step - loss: 1.6612 - accuracy: 0.5189\n",
      "Epoch 14/20\n",
      "56489/56489 [==============================] - 179s 3ms/step - loss: 1.6636 - accuracy: 0.5206\n",
      "Epoch 15/20\n",
      "56489/56489 [==============================] - 184s 3ms/step - loss: 1.6598 - accuracy: 0.5218\n",
      "Epoch 16/20\n",
      "56489/56489 [==============================] - 181s 3ms/step - loss: 1.6601 - accuracy: 0.5224\n",
      "Epoch 17/20\n",
      "56489/56489 [==============================] - 187s 3ms/step - loss: 1.6698 - accuracy: 0.5230\n",
      "Epoch 18/20\n",
      "56489/56489 [==============================] - 187s 3ms/step - loss: 1.6526 - accuracy: 0.5242\n",
      "Epoch 19/20\n",
      "56489/56489 [==============================] - 180s 3ms/step - loss: 1.6539 - accuracy: 0.5258\n",
      "Epoch 20/20\n",
      "56489/56489 [==============================] - 188s 3ms/step - loss: 1.6527 - accuracy: 0.5255\n"
     ]
    },
    {
     "data": {
      "text/plain": [
       "<keras.src.callbacks.History at 0x1d0030a2450>"
      ]
     },
     "execution_count": 69,
     "metadata": {},
     "output_type": "execute_result"
    }
   ],
   "source": [
    "# Train the model\n",
    "model.fit(train_text_array, train_labels_array, epochs=20, batch_size=2, verbose=1)"
   ]
  },
  {
   "cell_type": "code",
   "execution_count": 35,
   "metadata": {},
   "outputs": [
    {
     "data": {
      "text/html": [
       "<div>\n",
       "<style scoped>\n",
       "    .dataframe tbody tr th:only-of-type {\n",
       "        vertical-align: middle;\n",
       "    }\n",
       "\n",
       "    .dataframe tbody tr th {\n",
       "        vertical-align: top;\n",
       "    }\n",
       "\n",
       "    .dataframe thead th {\n",
       "        text-align: right;\n",
       "    }\n",
       "</style>\n",
       "<table border=\"1\" class=\"dataframe\">\n",
       "  <thead>\n",
       "    <tr style=\"text-align: right;\">\n",
       "      <th></th>\n",
       "      <th>overview</th>\n",
       "      <th>genre1</th>\n",
       "      <th>genre2</th>\n",
       "      <th>genre3</th>\n",
       "    </tr>\n",
       "  </thead>\n",
       "  <tbody>\n",
       "    <tr>\n",
       "      <th>0</th>\n",
       "      <td>An exploratory dive into the deepest depths of...</td>\n",
       "      <td>Action</td>\n",
       "      <td>Science Fiction</td>\n",
       "      <td>Horror</td>\n",
       "    </tr>\n",
       "    <tr>\n",
       "      <th>1</th>\n",
       "      <td>Father Gabriele Amorth Chief Exorcist of the V...</td>\n",
       "      <td>Horror</td>\n",
       "      <td>Mystery</td>\n",
       "      <td>Thriller</td>\n",
       "    </tr>\n",
       "    <tr>\n",
       "      <th>2</th>\n",
       "      <td>When a new threat capable of destroying the en...</td>\n",
       "      <td>Action</td>\n",
       "      <td>Adventure</td>\n",
       "      <td>Science Fiction</td>\n",
       "    </tr>\n",
       "    <tr>\n",
       "      <th>3</th>\n",
       "      <td>Super-Hero partners Scott Lang and Hope van Dy...</td>\n",
       "      <td>Action</td>\n",
       "      <td>Adventure</td>\n",
       "      <td>Science Fiction</td>\n",
       "    </tr>\n",
       "    <tr>\n",
       "      <th>4</th>\n",
       "      <td>After dominating the boxing world Adonis Creed...</td>\n",
       "      <td>Drama</td>\n",
       "      <td>Action</td>\n",
       "      <td>None</td>\n",
       "    </tr>\n",
       "  </tbody>\n",
       "</table>\n",
       "</div>"
      ],
      "text/plain": [
       "                                            overview  genre1           genre2  \\\n",
       "0  An exploratory dive into the deepest depths of...  Action  Science Fiction   \n",
       "1  Father Gabriele Amorth Chief Exorcist of the V...  Horror          Mystery   \n",
       "2  When a new threat capable of destroying the en...  Action        Adventure   \n",
       "3  Super-Hero partners Scott Lang and Hope van Dy...  Action        Adventure   \n",
       "4  After dominating the boxing world Adonis Creed...   Drama           Action   \n",
       "\n",
       "            genre3  \n",
       "0           Horror  \n",
       "1         Thriller  \n",
       "2  Science Fiction  \n",
       "3  Science Fiction  \n",
       "4             None  "
      ]
     },
     "execution_count": 35,
     "metadata": {},
     "output_type": "execute_result"
    }
   ],
   "source": [
    "new_df.head()"
   ]
  },
  {
   "cell_type": "code",
   "execution_count": 92,
   "metadata": {},
   "outputs": [
    {
     "name": "stdout",
     "output_type": "stream",
     "text": [
      "Crime\n"
     ]
    }
   ],
   "source": [
    "text=new_df['text'][12334]\n",
    "print(new_df['genre1'][12334])"
   ]
  },
  {
   "cell_type": "code",
   "execution_count": 93,
   "metadata": {},
   "outputs": [
    {
     "name": "stdout",
     "output_type": "stream",
     "text": [
      "1/1 [==============================] - 0s 122ms/step\n",
      "Predicted genre for the new text: Drama\n"
     ]
    }
   ],
   "source": [
    "# text=\"The story of J. Robert Oppenheimer's role in the development of the atomic bomb during World War II.husband wife relationship-based on novel or book-politics-atomic bomb-professor-patriotism-new mexico-world war ii-hallucination-atomic bomb test-surrealism-physics-biography-berkeley-based on true story-physicist-jewish american-interrogation-guilt-nonlinear timeline-historical event-nuclear weapons-communism-red scare-prometheus-mccarthyism-top secret project-moral dilemma-usa politics-1940s-ethics-quantum physics-antisemitism-apocalyptic vision-clinical-new mexico desert-male protagonist-20th century-manhattan project-affair-los alamos-hiroshima and nagasaki bombings-cliché-defiant-demeaningSyncopy Universal Pictures Atlas Entertainment\"\n",
    "\n",
    "\n",
    "new_text = [text]\n",
    "new_text_tfidf = tfidf_vectorizer.transform(new_text)\n",
    "new_text_tfidf =  new_text_tfidf.toarray()\n",
    "new_predictions_encoded = model.predict(new_text_tfidf)\n",
    "\n",
    "predicted_label_index = new_predictions_encoded.argmax(axis=1)\n",
    "predicted_genre = label_encoder.classes_[predicted_label_index[0]]\n",
    "print('Predicted genre for the new text:', predicted_genre)"
   ]
  },
  {
   "cell_type": "code",
   "execution_count": 82,
   "metadata": {},
   "outputs": [],
   "source": [
    "new_df.to_csv('./../Datasets/newData.csv')"
   ]
  },
  {
   "cell_type": "code",
   "execution_count": null,
   "metadata": {},
   "outputs": [],
   "source": []
  }
 ],
 "metadata": {
  "kernelspec": {
   "display_name": "Python 3",
   "language": "python",
   "name": "python3"
  },
  "language_info": {
   "codemirror_mode": {
    "name": "ipython",
    "version": 3
   },
   "file_extension": ".py",
   "mimetype": "text/x-python",
   "name": "python",
   "nbconvert_exporter": "python",
   "pygments_lexer": "ipython3",
   "version": "3.11.3"
  }
 },
 "nbformat": 4,
 "nbformat_minor": 2
}
