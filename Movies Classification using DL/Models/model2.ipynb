{
 "cells": [
  {
   "cell_type": "code",
   "execution_count": 1,
   "metadata": {},
   "outputs": [],
   "source": [
    "import pandas as pd\n",
    "from sklearn.model_selection import train_test_split\n",
    "from sklearn.preprocessing import LabelEncoder\n",
    "from sklearn.metrics import accuracy_score\n",
    "from tensorflow import keras\n",
    "from tensorflow.keras import layers\n",
    "from tensorflow.keras.preprocessing.text import Tokenizer\n",
    "from tensorflow.keras.preprocessing.sequence import pad_sequences"
   ]
  },
  {
   "cell_type": "code",
   "execution_count": 2,
   "metadata": {},
   "outputs": [
    {
     "data": {
      "text/html": [
       "<div>\n",
       "<style scoped>\n",
       "    .dataframe tbody tr th:only-of-type {\n",
       "        vertical-align: middle;\n",
       "    }\n",
       "\n",
       "    .dataframe tbody tr th {\n",
       "        vertical-align: top;\n",
       "    }\n",
       "\n",
       "    .dataframe thead th {\n",
       "        text-align: right;\n",
       "    }\n",
       "</style>\n",
       "<table border=\"1\" class=\"dataframe\">\n",
       "  <thead>\n",
       "    <tr style=\"text-align: right;\">\n",
       "      <th></th>\n",
       "      <th>Unnamed: 0</th>\n",
       "      <th>text</th>\n",
       "      <th>genre1</th>\n",
       "      <th>genre2</th>\n",
       "      <th>genre3</th>\n",
       "    </tr>\n",
       "  </thead>\n",
       "  <tbody>\n",
       "    <tr>\n",
       "      <th>0</th>\n",
       "      <td>0</td>\n",
       "      <td>An exploratory dive into the deepest depths of...</td>\n",
       "      <td>Action</td>\n",
       "      <td>Science Fiction</td>\n",
       "      <td>Horror</td>\n",
       "    </tr>\n",
       "    <tr>\n",
       "      <th>1</th>\n",
       "      <td>1</td>\n",
       "      <td>Father Gabriele Amorth Chief Exorcist of the V...</td>\n",
       "      <td>Horror</td>\n",
       "      <td>Mystery</td>\n",
       "      <td>Thriller</td>\n",
       "    </tr>\n",
       "    <tr>\n",
       "      <th>2</th>\n",
       "      <td>2</td>\n",
       "      <td>When a new threat capable of destroying the en...</td>\n",
       "      <td>Action</td>\n",
       "      <td>Adventure</td>\n",
       "      <td>Science Fiction</td>\n",
       "    </tr>\n",
       "    <tr>\n",
       "      <th>3</th>\n",
       "      <td>3</td>\n",
       "      <td>Super-Hero partners Scott Lang and Hope van Dy...</td>\n",
       "      <td>Action</td>\n",
       "      <td>Adventure</td>\n",
       "      <td>Science Fiction</td>\n",
       "    </tr>\n",
       "    <tr>\n",
       "      <th>4</th>\n",
       "      <td>4</td>\n",
       "      <td>After dominating the boxing world Adonis Creed...</td>\n",
       "      <td>Drama</td>\n",
       "      <td>Action</td>\n",
       "      <td>NaN</td>\n",
       "    </tr>\n",
       "  </tbody>\n",
       "</table>\n",
       "</div>"
      ],
      "text/plain": [
       "   Unnamed: 0                                               text  genre1  \\\n",
       "0           0  An exploratory dive into the deepest depths of...  Action   \n",
       "1           1  Father Gabriele Amorth Chief Exorcist of the V...  Horror   \n",
       "2           2  When a new threat capable of destroying the en...  Action   \n",
       "3           3  Super-Hero partners Scott Lang and Hope van Dy...  Action   \n",
       "4           4  After dominating the boxing world Adonis Creed...   Drama   \n",
       "\n",
       "            genre2           genre3  \n",
       "0  Science Fiction           Horror  \n",
       "1          Mystery         Thriller  \n",
       "2        Adventure  Science Fiction  \n",
       "3        Adventure  Science Fiction  \n",
       "4           Action              NaN  "
      ]
     },
     "execution_count": 2,
     "metadata": {},
     "output_type": "execute_result"
    }
   ],
   "source": [
    "df=pd.read_csv('./../Datasets/newData.csv')\n",
    "df.head()"
   ]
  },
  {
   "cell_type": "code",
   "execution_count": 3,
   "metadata": {},
   "outputs": [
    {
     "data": {
      "text/plain": [
       "Unnamed: 0         0\n",
       "text               0\n",
       "genre1             0\n",
       "genre2         64657\n",
       "genre3        108885\n",
       "dtype: int64"
      ]
     },
     "execution_count": 3,
     "metadata": {},
     "output_type": "execute_result"
    }
   ],
   "source": [
    "df.isnull().sum()"
   ]
  },
  {
   "cell_type": "code",
   "execution_count": 4,
   "metadata": {},
   "outputs": [],
   "source": [
    "train_data, test_data, train_labels, test_labels = train_test_split(\n",
    "    df['text'], df['genre1'], test_size=0.2, random_state=42\n",
    ")"
   ]
  },
  {
   "cell_type": "code",
   "execution_count": 5,
   "metadata": {},
   "outputs": [],
   "source": [
    "from tensorflow.keras import layers, models\n",
    "\n",
    "from sklearn.feature_extraction.text import TfidfVectorizer\n",
    "# Use TF-IDF for text representation\n",
    "tfidf_vectorizer = TfidfVectorizer(max_features=1000)\n",
    "train_text_tfidf = tfidf_vectorizer.fit_transform(train_data)\n",
    "test_text_tfidf = tfidf_vectorizer.transform(test_data)\n",
    "\n",
    "# Convert labels to numerical representation\n",
    "label_encoder = LabelEncoder()\n",
    "train_labels_encoded = label_encoder.fit_transform(train_labels)\n",
    "test_labels_encoded = label_encoder.transform(test_labels)\n",
    "\n",
    "import numpy as np\n",
    "\n",
    "# ...\n",
    "\n",
    "# Convert sparse matrix to numpy array\n",
    "train_text_array = train_text_tfidf.toarray()\n",
    "\n",
    "# Convert labels to numpy array\n",
    "train_labels_array = np.array(train_labels_encoded)\n",
    "\n",
    "# Build a neural network model for multi-class classification"
   ]
  },
  {
   "cell_type": "code",
   "execution_count": 7,
   "metadata": {},
   "outputs": [],
   "source": [
    "model = models.Sequential()\n",
    "model.add(layers.Dense(256, activation='relu', input_shape=(train_text_tfidf.shape[1],)))\n",
    "model.add(layers.Dropout(0.5))\n",
    "model.add(layers.Dense(128, activation='relu'))\n",
    "model.add(layers.Dropout(0.5))\n",
    "model.add(layers.Dense(64, activation='relu'))\n",
    "model.add(layers.Dropout(0.5))\n",
    "model.add(layers.Dense(32, activation='relu'))\n",
    "model.add(layers.Dropout(0.5))\n",
    "model.add(layers.Dense(len(set(train_labels)), activation='softmax'))"
   ]
  },
  {
   "cell_type": "code",
   "execution_count": 8,
   "metadata": {},
   "outputs": [],
   "source": [
    "# Compile the model\n",
    "model.compile(optimizer='adam', loss='sparse_categorical_crossentropy', metrics=['accuracy'])"
   ]
  },
  {
   "cell_type": "code",
   "execution_count": 9,
   "metadata": {},
   "outputs": [
    {
     "name": "stdout",
     "output_type": "stream",
     "text": [
      "Epoch 1/20\n",
      "56489/56489 [==============================] - 91s 2ms/step - loss: 2.1285 - accuracy: 0.3586\n",
      "Epoch 2/20\n",
      "56489/56489 [==============================] - 99s 2ms/step - loss: 2.0110 - accuracy: 0.4091\n",
      "Epoch 3/20\n",
      "56489/56489 [==============================] - 92s 2ms/step - loss: 1.9923 - accuracy: 0.4228\n",
      "Epoch 4/20\n",
      "56489/56489 [==============================] - 94s 2ms/step - loss: 1.9965 - accuracy: 0.4271\n",
      "Epoch 5/20\n",
      "56489/56489 [==============================] - 82s 1ms/step - loss: 1.9848 - accuracy: 0.4327\n",
      "Epoch 6/20\n",
      "56489/56489 [==============================] - 81s 1ms/step - loss: 1.9836 - accuracy: 0.4372\n",
      "Epoch 7/20\n",
      "56489/56489 [==============================] - 81s 1ms/step - loss: 1.9834 - accuracy: 0.4396\n",
      "Epoch 8/20\n",
      "56489/56489 [==============================] - 83s 1ms/step - loss: 1.9766 - accuracy: 0.4410\n",
      "Epoch 9/20\n",
      "56489/56489 [==============================] - 86s 2ms/step - loss: 1.9781 - accuracy: 0.4427\n",
      "Epoch 10/20\n",
      "56489/56489 [==============================] - 133s 2ms/step - loss: 1.9929 - accuracy: 0.4450\n",
      "Epoch 11/20\n",
      "56489/56489 [==============================] - 85s 2ms/step - loss: 1.9824 - accuracy: 0.4458\n",
      "Epoch 12/20\n",
      "56489/56489 [==============================] - 82s 1ms/step - loss: 1.9853 - accuracy: 0.4475\n",
      "Epoch 13/20\n",
      "56489/56489 [==============================] - 108s 2ms/step - loss: 1.9890 - accuracy: 0.4482\n",
      "Epoch 14/20\n",
      "56489/56489 [==============================] - 103s 2ms/step - loss: 1.9872 - accuracy: 0.4499\n",
      "Epoch 15/20\n",
      "56489/56489 [==============================] - 83s 1ms/step - loss: 1.9979 - accuracy: 0.4498\n",
      "Epoch 16/20\n",
      "56489/56489 [==============================] - 82s 1ms/step - loss: 2.0102 - accuracy: 0.4470\n",
      "Epoch 17/20\n",
      "56489/56489 [==============================] - 84s 1ms/step - loss: 2.0013 - accuracy: 0.4513\n",
      "Epoch 18/20\n",
      "56489/56489 [==============================] - 93s 2ms/step - loss: 2.0117 - accuracy: 0.4523\n",
      "Epoch 19/20\n",
      "56489/56489 [==============================] - 89s 2ms/step - loss: 1.9947 - accuracy: 0.4522\n",
      "Epoch 20/20\n",
      "56489/56489 [==============================] - 100s 2ms/step - loss: 1.9987 - accuracy: 0.4506\n"
     ]
    },
    {
     "data": {
      "text/plain": [
       "<keras.src.callbacks.History at 0x17871c72890>"
      ]
     },
     "execution_count": 9,
     "metadata": {},
     "output_type": "execute_result"
    }
   ],
   "source": [
    "# Train the model\n",
    "model.fit(train_text_array, train_labels_array, epochs=20, batch_size=2, verbose=1)"
   ]
  },
  {
   "cell_type": "code",
   "execution_count": 22,
   "metadata": {},
   "outputs": [
    {
     "name": "stdout",
     "output_type": "stream",
     "text": [
      "Comedy\n"
     ]
    }
   ],
   "source": [
    "text=df['text'][102]\n",
    "print(df['genre1'][102])"
   ]
  },
  {
   "cell_type": "code",
   "execution_count": 23,
   "metadata": {},
   "outputs": [
    {
     "name": "stdout",
     "output_type": "stream",
     "text": [
      "1/1 [==============================] - 0s 14ms/step\n",
      "Predicted genre for the new text: Comedy\n"
     ]
    }
   ],
   "source": [
    "new_text = [text]\n",
    "new_text_tfidf = tfidf_vectorizer.transform(new_text)\n",
    "new_text_tfidf =  new_text_tfidf.toarray()\n",
    "new_predictions_encoded = model.predict(new_text_tfidf)\n",
    "\n",
    "predicted_label_index = new_predictions_encoded.argmax(axis=1)\n",
    "predicted_genre = label_encoder.classes_[predicted_label_index[0]]\n",
    "print('Predicted genre for the new text:', predicted_genre)"
   ]
  },
  {
   "cell_type": "code",
   "execution_count": null,
   "metadata": {},
   "outputs": [],
   "source": [
    "\n"
   ]
  },
  {
   "cell_type": "code",
   "execution_count": null,
   "metadata": {},
   "outputs": [],
   "source": []
  }
 ],
 "metadata": {
  "kernelspec": {
   "display_name": "Python 3",
   "language": "python",
   "name": "python3"
  },
  "language_info": {
   "codemirror_mode": {
    "name": "ipython",
    "version": 3
   },
   "file_extension": ".py",
   "mimetype": "text/x-python",
   "name": "python",
   "nbconvert_exporter": "python",
   "pygments_lexer": "ipython3",
   "version": "3.11.3"
  }
 },
 "nbformat": 4,
 "nbformat_minor": 2
}
