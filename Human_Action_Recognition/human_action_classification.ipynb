{
 "cells": [
  {
   "cell_type": "markdown",
   "metadata": {
    "id": "ngnLYRCIBokG"
   },
   "source": [
    "**Checkout the code**"
   ]
  },
  {
   "cell_type": "code",
   "execution_count": 10,
   "metadata": {
    "id": "LMKtLhhDJbxM"
   },
   "outputs": [
    {
     "name": "stderr",
     "output_type": "stream",
     "text": [
      "Cloning into 'learnopencv'...\n",
      "Updating files:   0% (40/10638)\n",
      "Updating files:   1% (107/10638)\n",
      "Updating files:   1% (205/10638)\n",
      "Updating files:   2% (213/10638)\n",
      "Updating files:   2% (251/10638)\n",
      "Updating files:   2% (253/10638)\n",
      "Updating files:   2% (284/10638)\n",
      "Updating files:   2% (306/10638)\n",
      "Updating files:   2% (307/10638)\n",
      "Updating files:   2% (313/10638)\n",
      "Updating files:   2% (318/10638)\n",
      "Updating files:   3% (320/10638)\n",
      "Updating files:   3% (322/10638)\n",
      "Updating files:   3% (325/10638)\n",
      "Updating files:   3% (327/10638)\n",
      "Updating files:   3% (328/10638)\n",
      "Updating files:   3% (338/10638)\n",
      "Updating files:   3% (341/10638)\n",
      "Updating files:   3% (345/10638)\n",
      "Updating files:   3% (349/10638)\n",
      "Updating files:   3% (352/10638)\n",
      "Updating files:   3% (363/10638)\n",
      "Updating files:   3% (372/10638)\n",
      "Updating files:   3% (373/10638)\n",
      "Updating files:   3% (377/10638)\n",
      "Updating files:   3% (395/10638)\n",
      "Updating files:   3% (396/10638)\n",
      "Updating files:   4% (426/10638)\n",
      "Updating files:   4% (439/10638)\n",
      "Updating files:   4% (487/10638)\n",
      "Updating files:   5% (532/10638)\n",
      "Updating files:   5% (546/10638)\n",
      "Updating files:   5% (576/10638)\n",
      "Updating files:   5% (579/10638)\n",
      "Updating files:   5% (610/10638)\n",
      "Updating files:   5% (612/10638)\n",
      "Updating files:   5% (636/10638)\n",
      "Updating files:   5% (637/10638)\n",
      "Updating files:   6% (639/10638)\n",
      "Updating files:   6% (640/10638)\n",
      "Updating files:   6% (651/10638)\n",
      "Updating files:   6% (664/10638)\n",
      "fatal: cannot create directory at 'DNN-OpenCV-Classification-Android/img_classification_android/OpenCVLib430/build/generated/aidl_source_output_dir/debug/out/org/opencv/engine': Filename too long\n",
      "warning: Clone succeeded, but checkout failed.\n",
      "You can inspect what was checked out with 'git status'\n",
      "and retry with 'git restore --source=HEAD :/'\n",
      "\n"
     ]
    }
   ],
   "source": [
    "!git clone https://github.com/spmallick/learnopencv.git"
   ]
  },
  {
   "cell_type": "code",
   "execution_count": 5,
   "metadata": {
    "id": "ZxvbIompKS9r"
   },
   "outputs": [
    {
     "name": "stdout",
     "output_type": "stream",
     "text": [
      "[WinError 3] The system cannot find the path specified: 'learnopencv/Human-Action-Recognition-Using-Detectron2-And-Lstm'\n",
      "D:\\python\\Human_Action_Recognition\\learnopencv\\Human-Action-Recognition-Using-Detectron2-And-Lstm\n"
     ]
    }
   ],
   "source": [
    "%cd learnopencv/Human-Action-Recognition-Using-Detectron2-And-Lstm"
   ]
  },
  {
   "cell_type": "markdown",
   "metadata": {
    "id": "Z2uLPe4lBva0"
   },
   "source": [
    "**Install dependencies**"
   ]
  },
  {
   "cell_type": "code",
   "execution_count": 7,
   "metadata": {
    "id": "HSmL-mcBNwVy"
   },
   "outputs": [
    {
     "name": "stdout",
     "output_type": "stream",
     "text": [
      "Collecting Flask==1.1.2\n",
      "  Downloading Flask-1.1.2-py2.py3-none-any.whl (94 kB)\n",
      "     -------------------------------------- 94.6/94.6 kB 602.4 kB/s eta 0:00:00\n",
      "Collecting Flask-Bootstrap==3.3.7.1\n",
      "  Downloading Flask-Bootstrap-3.3.7.1.tar.gz (456 kB)\n",
      "     ------------------------------------ 456.4/456.4 kB 621.3 kB/s eta 0:00:00\n",
      "  Preparing metadata (setup.py): started\n",
      "  Preparing metadata (setup.py): finished with status 'done'\n",
      "Collecting Flask-Uploads==0.2.1\n",
      "  Downloading Flask-Uploads-0.2.1.tar.gz (7.6 kB)\n",
      "  Preparing metadata (setup.py): started\n",
      "  Preparing metadata (setup.py): finished with status 'done'\n",
      "Collecting numpy==1.19.5\n"
     ]
    },
    {
     "name": "stderr",
     "output_type": "stream",
     "text": [
      "ERROR: Could not find a version that satisfies the requirement opencv-python==4.1.2.30 (from versions: 3.4.0.14, 3.4.10.37, 3.4.11.39, 3.4.11.41, 3.4.11.43, 3.4.11.45, 3.4.13.47, 3.4.14.51, 3.4.14.53, 3.4.15.55, 3.4.16.57, 3.4.16.59, 3.4.17.61, 3.4.17.63, 3.4.18.65, 4.3.0.38, 4.4.0.40, 4.4.0.42, 4.4.0.44, 4.4.0.46, 4.5.1.48, 4.5.2.52, 4.5.2.54, 4.5.3.56, 4.5.4.58, 4.5.4.60, 4.5.5.62, 4.5.5.64, 4.6.0.66)\n",
      "ERROR: No matching distribution found for opencv-python==4.1.2.30\n"
     ]
    },
    {
     "name": "stdout",
     "output_type": "stream",
     "text": [
      "  Downloading numpy-1.19.5-cp39-cp39-win_amd64.whl (13.3 MB)\n",
      "     ---------------------------------------- 13.3/13.3 MB 3.3 MB/s eta 0:00:00\n"
     ]
    }
   ],
   "source": [
    "!pip install -r requirements.txt"
   ]
  },
  {
   "cell_type": "markdown",
   "metadata": {
    "id": "7UZwJol0BjEd"
   },
   "source": [
    "**Install Detectron2**"
   ]
  },
  {
   "cell_type": "code",
   "execution_count": 9,
   "metadata": {
    "id": "b8-t47lVLSFl"
   },
   "outputs": [
    {
     "ename": "ModuleNotFoundError",
     "evalue": "No module named 'torch'",
     "output_type": "error",
     "traceback": [
      "\u001b[1;31m---------------------------------------------------------------------------\u001b[0m",
      "\u001b[1;31mModuleNotFoundError\u001b[0m                       Traceback (most recent call last)",
      "\u001b[1;32m~\\AppData\\Local\\Temp/ipykernel_12032/15564452.py\u001b[0m in \u001b[0;36m<module>\u001b[1;34m\u001b[0m\n\u001b[1;32m----> 1\u001b[1;33m \u001b[1;32mimport\u001b[0m \u001b[0mtorch\u001b[0m\u001b[1;33m\u001b[0m\u001b[1;33m\u001b[0m\u001b[0m\n\u001b[0m\u001b[0;32m      2\u001b[0m \u001b[1;32massert\u001b[0m \u001b[0mtorch\u001b[0m\u001b[1;33m.\u001b[0m\u001b[0m__version__\u001b[0m\u001b[1;33m.\u001b[0m\u001b[0mstartswith\u001b[0m\u001b[1;33m(\u001b[0m\u001b[1;34m\"1.8\"\u001b[0m\u001b[1;33m)\u001b[0m   \u001b[1;31m# need to manually install torch 1.8 if Colab changes its default version\u001b[0m\u001b[1;33m\u001b[0m\u001b[1;33m\u001b[0m\u001b[0m\n\u001b[0;32m      3\u001b[0m \u001b[0mget_ipython\u001b[0m\u001b[1;33m(\u001b[0m\u001b[1;33m)\u001b[0m\u001b[1;33m.\u001b[0m\u001b[0msystem\u001b[0m\u001b[1;33m(\u001b[0m\u001b[1;34m'pip install detectron2 -f https://dl.fbaipublicfiles.com/detectron2/wheels/cu101/torch1.8/index.html'\u001b[0m\u001b[1;33m)\u001b[0m\u001b[1;33m\u001b[0m\u001b[1;33m\u001b[0m\u001b[0m\n",
      "\u001b[1;31mModuleNotFoundError\u001b[0m: No module named 'torch'"
     ]
    }
   ],
   "source": [
    "import torch\n",
    "assert torch.__version__.startswith(\"1.8\")   # need to manually install torch 1.8 if Colab changes its default version\n",
    "!pip install detectron2 -f https://dl.fbaipublicfiles.com/detectron2/wheels/cu101/torch1.8/index.html"
   ]
  },
  {
   "cell_type": "markdown",
   "metadata": {
    "id": "RoSs4KvnRT4F"
   },
   "source": [
    "**Install ngrok for tunneling to the web application we are about to run on colab**"
   ]
  },
  {
   "cell_type": "code",
   "execution_count": null,
   "metadata": {
    "id": "TyVT0SqKLgso"
   },
   "outputs": [],
   "source": [
    "# Download ngrok for tunneling.\n",
    "!if [ ! -f ./ngrok ]; then \\\n",
    " wget https://bin.equinox.io/c/4VmDzA7iaHb/ngrok-stable-linux-amd64.zip; \\\n",
    " unzip -o ngrok-stable-linux-amd64.zip; \\\n",
    " fi"
   ]
  },
  {
   "cell_type": "code",
   "execution_count": null,
   "metadata": {
    "id": "hMxzllRCLkoz"
   },
   "outputs": [],
   "source": [
    "# Then start a mini web server.\n",
    "port = 5000\n",
    "!pkill ngrok\n",
    "!kill $(ps x | grep -v grep | grep http.server | awk '{print $1}') 2>/dev/null\n",
    "\n",
    "get_ipython().system_raw(\n",
    "    'python app.py && python3 -m http.server {} &'\n",
    "    .format(port)\n",
    ")\n",
    "\n",
    "# And, forward the port using ngrok.\n",
    "get_ipython().system_raw('./ngrok http {} &'.format(port))"
   ]
  },
  {
   "cell_type": "markdown",
   "metadata": {
    "id": "qWbee0wJRjSH"
   },
   "source": [
    "**Copy the app url generated from the below step**"
   ]
  },
  {
   "cell_type": "code",
   "execution_count": null,
   "metadata": {
    "id": "QK-kQbr6LohX"
   },
   "outputs": [],
   "source": [
    "# Get the public address from localhost:4040 (ngrok's web interface).\n",
    "import time, urllib, json\n",
    "import urllib.request\n",
    "time.sleep(1)  # Give ngrok time to startup.\n",
    "ngrok_data = json.load(\n",
    "    urllib.request.urlopen('http://localhost:4040/api/tunnels'))\n",
    "ngrok_data['tunnels'][0]['public_url']"
   ]
  },
  {
   "cell_type": "markdown",
   "metadata": {
    "id": "SoTjyCB0SJi_"
   },
   "source": [
    "**Run the application**"
   ]
  },
  {
   "cell_type": "code",
   "execution_count": null,
   "metadata": {
    "id": "QfsEeQCOLteG"
   },
   "outputs": [],
   "source": [
    "!python app.py"
   ]
  },
  {
   "cell_type": "markdown",
   "metadata": {
    "id": "VW34PmwYSN5J"
   },
   "source": [
    "**Open the app url on browser to access the app**"
   ]
  }
 ],
 "metadata": {
  "accelerator": "GPU",
  "colab": {
   "name": "human_action_classification.ipynb",
   "provenance": []
  },
  "kernelspec": {
   "display_name": "Python 3 (ipykernel)",
   "language": "python",
   "name": "python3"
  },
  "language_info": {
   "codemirror_mode": {
    "name": "ipython",
    "version": 3
   },
   "file_extension": ".py",
   "mimetype": "text/x-python",
   "name": "python",
   "nbconvert_exporter": "python",
   "pygments_lexer": "ipython3",
   "version": "3.9.7"
  }
 },
 "nbformat": 4,
 "nbformat_minor": 1
}
