{
 "cells": [
  {
   "cell_type": "code",
   "execution_count": 1,
   "id": "019e68cf-94d0-4d0f-92be-17856397e9f3",
   "metadata": {},
   "outputs": [
    {
     "name": "stdout",
     "output_type": "stream",
     "text": [
      "Requirement already satisfied: nltk in c:\\users\\asus\\appdata\\local\\programs\\python\\python310\\lib\\site-packages (3.9.1)\n",
      "Requirement already satisfied: youtube-transcript-api in c:\\users\\asus\\appdata\\local\\programs\\python\\python310\\lib\\site-packages (0.6.3)\n",
      "Requirement already satisfied: transformers in c:\\users\\asus\\appdata\\local\\programs\\python\\python310\\lib\\site-packages (4.49.0)\n",
      "Requirement already satisfied: torch in c:\\users\\asus\\appdata\\local\\programs\\python\\python310\\lib\\site-packages (2.6.0)\n",
      "Requirement already satisfied: click in c:\\users\\asus\\appdata\\local\\programs\\python\\python310\\lib\\site-packages (from nltk) (8.1.5)\n",
      "Requirement already satisfied: joblib in c:\\users\\asus\\appdata\\local\\programs\\python\\python310\\lib\\site-packages (from nltk) (1.4.2)\n",
      "Requirement already satisfied: regex>=2021.8.3 in c:\\users\\asus\\appdata\\local\\programs\\python\\python310\\lib\\site-packages (from nltk) (2024.11.6)\n",
      "Requirement already satisfied: tqdm in c:\\users\\asus\\appdata\\local\\programs\\python\\python310\\lib\\site-packages (from nltk) (4.67.0)\n",
      "Requirement already satisfied: defusedxml<0.8.0,>=0.7.1 in c:\\users\\asus\\appdata\\local\\programs\\python\\python310\\lib\\site-packages (from youtube-transcript-api) (0.7.1)\n",
      "Requirement already satisfied: requests in c:\\users\\asus\\appdata\\local\\programs\\python\\python310\\lib\\site-packages (from youtube-transcript-api) (2.32.3)\n",
      "Requirement already satisfied: filelock in c:\\users\\asus\\appdata\\local\\programs\\python\\python310\\lib\\site-packages (from transformers) (3.12.2)\n",
      "Requirement already satisfied: huggingface-hub<1.0,>=0.26.0 in c:\\users\\asus\\appdata\\local\\programs\\python\\python310\\lib\\site-packages (from transformers) (0.28.1)\n",
      "Requirement already satisfied: numpy>=1.17 in c:\\users\\asus\\appdata\\local\\programs\\python\\python310\\lib\\site-packages (from transformers) (1.26.4)\n",
      "Requirement already satisfied: packaging>=20.0 in c:\\users\\asus\\appdata\\local\\programs\\python\\python310\\lib\\site-packages (from transformers) (24.1)\n",
      "Requirement already satisfied: pyyaml>=5.1 in c:\\users\\asus\\appdata\\local\\programs\\python\\python310\\lib\\site-packages (from transformers) (6.0.2)\n",
      "Requirement already satisfied: tokenizers<0.22,>=0.21 in c:\\users\\asus\\appdata\\local\\programs\\python\\python310\\lib\\site-packages (from transformers) (0.21.0)\n",
      "Requirement already satisfied: safetensors>=0.4.1 in c:\\users\\asus\\appdata\\local\\programs\\python\\python310\\lib\\site-packages (from transformers) (0.5.2)\n",
      "Requirement already satisfied: typing-extensions>=4.10.0 in c:\\users\\asus\\appdata\\local\\programs\\python\\python310\\lib\\site-packages (from torch) (4.12.2)\n",
      "Requirement already satisfied: networkx in c:\\users\\asus\\appdata\\local\\programs\\python\\python310\\lib\\site-packages (from torch) (3.4.2)\n",
      "Requirement already satisfied: jinja2 in c:\\users\\asus\\appdata\\local\\programs\\python\\python310\\lib\\site-packages (from torch) (3.1.2)\n",
      "Requirement already satisfied: fsspec in c:\\users\\asus\\appdata\\local\\programs\\python\\python310\\lib\\site-packages (from torch) (2024.12.0)\n",
      "Requirement already satisfied: sympy==1.13.1 in c:\\users\\asus\\appdata\\local\\programs\\python\\python310\\lib\\site-packages (from torch) (1.13.1)\n",
      "Requirement already satisfied: mpmath<1.4,>=1.1.0 in c:\\users\\asus\\appdata\\local\\programs\\python\\python310\\lib\\site-packages (from sympy==1.13.1->torch) (1.3.0)\n",
      "Requirement already satisfied: colorama in c:\\users\\asus\\appdata\\local\\programs\\python\\python310\\lib\\site-packages (from tqdm->nltk) (0.4.6)\n",
      "Requirement already satisfied: MarkupSafe>=2.0 in c:\\users\\asus\\appdata\\local\\programs\\python\\python310\\lib\\site-packages (from jinja2->torch) (2.1.3)\n",
      "Requirement already satisfied: charset-normalizer<4,>=2 in c:\\users\\asus\\appdata\\local\\programs\\python\\python310\\lib\\site-packages (from requests->youtube-transcript-api) (3.3.2)\n",
      "Requirement already satisfied: idna<4,>=2.5 in c:\\users\\asus\\appdata\\local\\programs\\python\\python310\\lib\\site-packages (from requests->youtube-transcript-api) (3.6)\n",
      "Requirement already satisfied: urllib3<3,>=1.21.1 in c:\\users\\asus\\appdata\\local\\programs\\python\\python310\\lib\\site-packages (from requests->youtube-transcript-api) (2.1.0)\n",
      "Requirement already satisfied: certifi>=2017.4.17 in c:\\users\\asus\\appdata\\local\\programs\\python\\python310\\lib\\site-packages (from requests->youtube-transcript-api) (2023.11.17)\n",
      "Note: you may need to restart the kernel to use updated packages.\n"
     ]
    },
    {
     "name": "stderr",
     "output_type": "stream",
     "text": [
      "\n",
      "[notice] A new release of pip is available: 25.0 -> 25.0.1\n",
      "[notice] To update, run: python.exe -m pip install --upgrade pip\n"
     ]
    }
   ],
   "source": [
    "pip install nltk youtube-transcript-api transformers torch"
   ]
  },
  {
   "cell_type": "code",
   "execution_count": 2,
   "id": "dd2d0b59-b7b7-4231-8dc2-ac91d5da7061",
   "metadata": {},
   "outputs": [],
   "source": [
    "import re\n",
    "import heapq\n",
    "import nltk\n",
    "import torch\n",
    "from collections import defaultdict\n",
    "from nltk.tokenize import sent_tokenize, word_tokenize\n",
    "from nltk.corpus import stopwords\n",
    "from youtube_transcript_api import YouTubeTranscriptApi\n",
    "from transformers import AutoTokenizer, AutoModelForSeq2SeqLM, T5Tokenizer, T5ForConditionalGeneration"
   ]
  },
  {
   "cell_type": "code",
   "execution_count": 3,
   "id": "b49fc5a2-e2ba-4f50-93c3-6166f04848d0",
   "metadata": {},
   "outputs": [
    {
     "name": "stderr",
     "output_type": "stream",
     "text": [
      "[nltk_data] Downloading package punkt to\n",
      "[nltk_data]     C:\\Users\\Asus\\AppData\\Roaming\\nltk_data...\n",
      "[nltk_data]   Package punkt is already up-to-date!\n",
      "[nltk_data] Downloading package stopwords to\n",
      "[nltk_data]     C:\\Users\\Asus\\AppData\\Roaming\\nltk_data...\n",
      "[nltk_data]   Package stopwords is already up-to-date!\n"
     ]
    },
    {
     "data": {
      "text/plain": [
       "True"
      ]
     },
     "execution_count": 3,
     "metadata": {},
     "output_type": "execute_result"
    }
   ],
   "source": [
    "nltk.download('punkt')\n",
    "nltk.download('stopwords')"
   ]
  },
  {
   "cell_type": "code",
   "execution_count": 4,
   "id": "5e59dedb-7c79-412e-a22d-e4da65b3ff43",
   "metadata": {},
   "outputs": [],
   "source": [
    "def extract_video_id(youtube_url):\n",
    "    match = re.search(r\"(?:v=|\\/)([0-9A-Za-z_-]{11}).*\", youtube_url)\n",
    "    return match.group(1) if match else None\n",
    "\n",
    "# Fetch transcript from YouTube video\n",
    "def get_youtube_transcript(youtube_url):\n",
    "    video_id = extract_video_id(youtube_url)\n",
    "    if not video_id:\n",
    "        return \"Invalid YouTube URL\"\n",
    "    try:\n",
    "        transcript = YouTubeTranscriptApi.get_transcript(video_id)\n",
    "        return \" \".join([t['text'] for t in transcript])\n",
    "    except Exception as e:\n",
    "        return f\"Error: {e}\""
   ]
  },
  {
   "cell_type": "code",
   "execution_count": 5,
   "id": "d0112f09-cc0c-4028-8056-9699d48b4615",
   "metadata": {},
   "outputs": [],
   "source": [
    "def textrank_summarize(text, summary_length=1):\n",
    "    sentences = sent_tokenize(text)\n",
    "    stop_words = set(stopwords.words(\"english\"))\n",
    "    word_frequencies = defaultdict(int)\n",
    "    \n",
    "    for sentence in sentences:\n",
    "        for word in word_tokenize(sentence.lower()):\n",
    "            if word not in stop_words and word.isalnum():\n",
    "                word_frequencies[word] += 1\n",
    "    \n",
    "    max_freq = max(word_frequencies.values(), default=1)\n",
    "    for word in word_frequencies:\n",
    "        word_frequencies[word] /= max_freq\n",
    "    \n",
    "    sentence_scores = defaultdict(int)\n",
    "    for sentence in sentences:\n",
    "        for word in word_tokenize(sentence.lower()):\n",
    "            if word in word_frequencies:\n",
    "                sentence_scores[sentence] += word_frequencies[word]\n",
    "    \n",
    "    summary_sentences = heapq.nlargest(summary_length, sentence_scores, key=sentence_scores.get)\n",
    "    return \" \".join(summary_sentences)\n"
   ]
  },
  {
   "cell_type": "code",
   "execution_count": 6,
   "id": "b464879a-1642-465b-ace7-70c4e74182d0",
   "metadata": {},
   "outputs": [],
   "source": [
    "def summarize_text(tokenizer, model, text):\n",
    "    inputs = tokenizer(text, max_length=1024, truncation=True, return_tensors=\"pt\")\n",
    "    summary_ids = model.generate(inputs[\"input_ids\"], num_beams=4, early_stopping=True)\n",
    "    return tokenizer.decode(summary_ids[0], skip_special_tokens=True)"
   ]
  },
  {
   "cell_type": "code",
   "execution_count": 7,
   "id": "bc719218-8474-4a6a-ad88-3d807bcad1aa",
   "metadata": {},
   "outputs": [
    {
     "name": "stderr",
     "output_type": "stream",
     "text": [
      "Some weights of PegasusForConditionalGeneration were not initialized from the model checkpoint at google/pegasus-large and are newly initialized: ['model.decoder.embed_positions.weight', 'model.encoder.embed_positions.weight']\n",
      "You should probably TRAIN this model on a down-stream task to be able to use it for predictions and inference.\n"
     ]
    }
   ],
   "source": [
    "pegasus_checkpoint = \"google/pegasus-large\"\n",
    "bart_checkpoint = \"sshleifer/distilbart-cnn-12-6\"\n",
    "pegasus_tokenizer = AutoTokenizer.from_pretrained(pegasus_checkpoint)\n",
    "pegasus_model = AutoModelForSeq2SeqLM.from_pretrained(pegasus_checkpoint)\n",
    "bart_tokenizer = AutoTokenizer.from_pretrained(bart_checkpoint)\n",
    "bart_model = AutoModelForSeq2SeqLM.from_pretrained(bart_checkpoint)"
   ]
  },
  {
   "cell_type": "code",
   "execution_count": 8,
   "id": "09d4630a-2ff3-4428-9a2d-8ae92d948939",
   "metadata": {},
   "outputs": [],
   "source": [
    "def chunk_text(text, max_tokens=450):\n",
    "    words = text.split()\n",
    "    chunks, current_chunk = [], []\n",
    "    \n",
    "    for word in words:\n",
    "        current_chunk.append(word)\n",
    "        if len(T5Tokenizer.from_pretrained(\"t5-small\").encode(\" \".join(current_chunk), add_special_tokens=False)) > max_tokens:\n",
    "            current_chunk.pop()\n",
    "            chunks.append(\" \".join(current_chunk))\n",
    "            current_chunk = [word]\n",
    "    \n",
    "    if current_chunk:\n",
    "        chunks.append(\" \".join(current_chunk))\n",
    "    return chunks\n"
   ]
  },
  {
   "cell_type": "code",
   "execution_count": 9,
   "id": "9427b901-6c16-48a6-80d0-cb3e856b2714",
   "metadata": {},
   "outputs": [],
   "source": [
    "def t5_summarize(text, max_length=100):\n",
    "    tokenizer = T5Tokenizer.from_pretrained(\"t5-small\")\n",
    "    model = T5ForConditionalGeneration.from_pretrained(\"t5-small\").to(\"cuda\" if torch.cuda.is_available() else \"cpu\")\n",
    "    \n",
    "    chunks = chunk_text(text, max_tokens=450)\n",
    "    summaries = []\n",
    "    \n",
    "    for chunk in chunks:\n",
    "        input_text = \"summarize: \" + chunk\n",
    "        input_ids = tokenizer.encode(input_text, return_tensors=\"pt\", truncation=True, legacy= False).to(model.device)\n",
    "        summary_ids = model.generate(input_ids, max_length=max_length, num_beams=4, early_stopping=True)\n",
    "        summaries.append(tokenizer.decode(summary_ids[0], skip_special_tokens=True))\n",
    "    \n",
    "    return \" \".join(summaries)"
   ]
  },
  {
   "cell_type": "code",
   "execution_count": 10,
   "id": "59014e39-613a-48c9-ad4a-8cef18a0b22c",
   "metadata": {},
   "outputs": [
    {
     "name": "stdout",
     "output_type": "stream",
     "text": [
      "\n",
      "🔹 NLTK TextRank Summary:\n",
      "mossdale cave incident it was June 24th 1967 and 10 cavers were about to enter mossdale Cavern to help clear some of the deeper passages and map them out the two leaders of the group had already explored this cave before which reassured everyone else this particular Cavern was known for its tight spaces and the very few areas where a person could fully stand after a few hours inside four of the cavers realized how difficult the cave actually was and decided to return to the surface they noticed a cloudy sky but nothing seemed out of the ordinary the remaining cavers continued their descent until they reached the Far Marathon passage which measured only 18 in x 12 in with a small stream of water flowing along the bottom everything seemed to be going well and the group on the surface soon noticed that it had started raining so they took cover initially the rain did not seem concerning but the cavers inside began to notice Rising water levels when the water became alarmingly high they decided to end the day's work and head back even though they were still 3 hours from the entrance meanwhile the surface group spotted something terrifying a lake of water had formed around the cave C entrance the cavers inside had no idea how much water was about to flood the Cave the surface group ran to get help while the cavers frantically tried to reach higher Chambers however the water continued to rise pressing toward their faces Rescuers and hundreds of volunteers worked tirelessly pumping water out of the cave and pumping oxygen inside hoping that the cavers had found a safe chamber unfortunately every one of the cavers drowned shaft sinkhole tragedy it was May 28th 1973 and a group of nine diving experts had planned a dive at at Mount gambier's shaft sinkhole this sinkhole had a unique feature there was only a tiny opening leading to a cave with a lake 20 ft below from this opening a beam of light went down into the cave and onto the lake which was extremely helpful for the diver's orientation this beam was visible throughout most of the cave unless divers ventured too deep into one of the two side branches everyone initially agreed that they would stay within a 200t maximum depth range so they could remain in the main chamber and still see The Guiding Light this was their only plan on the second day however four divers pled to go to the Western section of the cave aiming for a depth of 250 ft which would have been a new record this was deeper than initially intended and posed a significant risk because in 1973 divers were still using regular air cylinders rather than mixed gas tanks for this reason they had to be more cautious as they went downwards because nitrogen Narcosis might have settled in as they went down the increasing pressure would have pushed the nitrogen into the bloodstream producing a state of consciousness that is similar to when people are drunk keep in mind that these divers were not very experienced in C diving they were more accustomed to standard Open Water scuba diving this added even more risk to their plan they started going downwards into the Western section of the cave and one experienced diver noticed that nitrogen Narcosis was kicking in so he immediately went back out several of them followed him and went back to the surface as well but four of them kept going determined to set the record and get a quick look before resurfacing after a minute or so the group at the surface became concerned realizing the four divers would soon exhaust their Air Supply a few returned to the cave to find them and they discovered a flashlight and a camera on the bottom but no trace of the divers there was a problem that we haven't yet mentioned silt the movements of the four divers stirred up the long settled silt into a sand Cloud that would take a lot of time to settle back this reduced visibility to less than an arms length removing any hope for orientation for the underwater divers without being able to see anything oxygen running dangerously low and nitrogen Narcosis kicking in the four divers drowned Jacob's Well tragedy it's November 23rd 1983 and two students from Texas State University named Richard and Clark are about to enter Jacob's Well an underwater hole that leads to an underwater cave this hole seems relatively shallow around 25 ft and many people try to touch the bottom and then come up however this is just a deceiving appearance because it actually leads to another underwater cave with three chambers the first two are relatively open and easy to get through but the third one has a really small squeeze to get into it if you manage to squeeze through you'll enter a room that is 10 ft tall and you'll see a really small hole at the farthest Edge too small to pass through this small tunnel was just 2 ft in diam and 2 years prior two people died in it because after they managed to get through a rock slide filled with gravel blocked them inside now getting back to our two students they were fairly experienced in normal diving but not in cave diving and they were trying to get their instructor certification in open water diving their instructor Don was an incredibly skilled and experienced diver and he was the one who removed the two bodies we just talked about he used to constantly warn everybody to stay away from Jacob's Well since it's deadly and he even tried to cover up the small hole that leads to the fourth chamber with some cement but other divers reopened it and left a message that said you can't keep us out Don himself almost died in Jacob's Well when he tried to enter the fourth chamber a gravel slide trapped him in the tunnel he almost resigned himself to death his tank was empty and he had swallowed some water when his survival Instinct kicked in and he started rapidly moving until he cleared enough gravel to escape when he did he saw his diving colleague extending a regulator for him to breathe as he started resurfacing the air inside his body expanded until he reached almost four times his normal body size by the time he broke the surface he was screaming in pain his belly was huge because his stomach had completely ruptured these stories caught the attention of Richard and Clark who wanted to take a look for themselves even though they didn't really know much about cave diving on November 23rd 1983 they went into Jacob's Well and reached the third chamber where the small hole was located Richard removed his tank to get through the hole and started going in while holding his tank when Clark removed his own oxygen tank and tried to get in he saw Richard's face and noticed Richard didn't have the tank with him anymore and was suffocating Clark quickly reached for the regulator and gave it to him letting him breathe again they started passing the regulator back and forth as they made their way out and somehow they managed to get through the tight squeeze of the third chamber they then began making their way toward the exit until a terrifying sound caught their attention a Clank from their oxygen tank not only did this mean they'd hit a wall with the tank so they were going the wrong direction but it also meant the tank was almost empty they realized they'd run into the false chimney in the first chamber a tunnel that looks like it leads to the surface but is actually a dead end Clark managed to swim back to the surface and gas asped for air after covering an incredible 75 ft in a single breath unfortunately the same can't be said for Richard who remained behind and drowned when Clark called the police for assistance Dawn the instructor himself showed up and was stunned to see his students there gollum's cave it's August 18th 2005 and a group of five friends decided to venture into the gollum cave also called the cave of death because of how dangerous it was they reached the entrance at 3:00 a.m. and one of the friends decided to wait for the others outside they encountered their first problem when actually trying to get in as they had to crawl through a small pool of water after that there was a fork going left and right and they chose left which led them to another small pool of water this seemingly innocent pool however actually led to another section of the cave through an underwater tunnel the tunnel itself was really small just 3 to 4 ft in diameter and to get through it you had to be completely submerged this meant only one person at a time could go in and they had to swim about 15 ft one by one they started plunging into the pool of water to reach the other side of the cave and once they made it they discovered a section with about 3 ft of airspace from the perspective of the friend who stayed outside there was no sound or light coming from inside the cave and after a while he started to get worried he went into the cave himself but heard no noises and saw no lights not sure what to do he first called some friends who had experience with caving and then called the police he couldn't have imagined what was happening inside the four friends who went in probably realized that the 3 ft of airspace they had reached had bad air which is a term cavers used for air that doesn't have the normal balance of gases meaning there's more carbon dioxide and less oxygen this reduces your ability to think move and breathe properly making the return swim through that narrow tunnel super risky they tried to get back out one at a time but the first person who went underwater was unable to find the exit hole before running out of breath that happened because the increased carbon dioxide messed with her ability to hold her breath and think clearly after 30 to 60 seconds the second person went in and found the first one and so on until all of them got stuck in the tunnel the police arrived and tried to pump in oxygen and pump out water while family and friends waited anxiously outside the cave unfortunately it was all in vain the bodies were later recovered and the cave was eventually closed off with cement if you want to discuss this video or suggest an idea for the next one join my Discord Link in the description\n",
      "\n",
      "🔹 Pegasus Summary:\n",
      "mossdale cave incident it was June 24th 1967 and 10 cavers were about to enter mossdale Cavern to help clear some of the deeper passages and map them out the two leaders of the group had already explored this cave before which reassured everyone else this particular Cavern was known for its tight spaces and the very few areas where a person could fully stand after a few hours inside four of the cavers realized how difficult the cave actually was and decided to return to the surface they noticed a cloudy haze but nothing seemed out of the ordinary the remaining cavers continued their descent until they reached the Far Marathon passage which measured only 18 in x 12 in with a small stream of water flowing along the bottom everything seemed to be going well and the group on the surface soon noticed that it had started raining so they took cover initially the rain did not seem concerning but the cavers inside began to notice Rising water levels when the water became alarmingly high they decided to end the day's work and head back even though they were still 3 hours from the entrance meanwhile the surface group spotted something terrifying a lake of water had formed around the cave C entrance the cavers inside had no idea how much water was about to flood the Cave the surface group ran to get help while the cavers frantically tried to\n",
      "\n",
      "🔹 BART Summary:\n",
      " 10 cavers were about to enter mossdale Cavern to help clear some of the deeper passages and map them out . Every one of the cavers drowned shaft sinkhole tragedy it was May 28th 1973 and a group of nine diving experts had planned a dive at at Mount gambier's sinkhole . Four divers pled to go to the Western section of the cave aiming for a depth of 250 ft which would have been a new record . The four divers were not very experienced in C diving they were more accustomed to standard Open Water scuba diving .\n",
      "\n",
      "🔹 T5 Summary:\n"
     ]
    },
    {
     "name": "stderr",
     "output_type": "stream",
     "text": [
      "You are using the default legacy behaviour of the <class 'transformers.models.t5.tokenization_t5.T5Tokenizer'>. This is expected, and simply means that the `legacy` (previous) behavior will be used so nothing changes for you. If you want to use the new behaviour, set `legacy=False`. This should only be set if you understand what it means, and thoroughly read the reason why this was added as explained in https://github.com/huggingface/transformers/pull/24565\n",
      "Keyword arguments {'legacy': False} not recognized.\n",
      "Keyword arguments {'legacy': False} not recognized.\n",
      "Keyword arguments {'legacy': False} not recognized.\n",
      "Keyword arguments {'legacy': False} not recognized.\n",
      "Keyword arguments {'legacy': False} not recognized.\n"
     ]
    },
    {
     "name": "stdout",
     "output_type": "stream",
     "text": [
      "10 cavers were about to enter mossdale Cavern to help clear some of the deeper passages and map them out. the cave was known for its tight spaces and the very few areas where a person could fully stand after a few hours inside four of the cavers realized how difficult the cave actually was. the surface group noticed that it had started raining so they decided to end the day's work and head back even though they were still 3 hours four divers pled to go to the western section of the cave aiming for a depth of 250 ft which would have been a new record. in 1973 divers were still using regular air cylinders rather than mixed gas tanks for this reason they had to be more cautious as they went downwards because nitrogen Narcosis might have settled in as they went down the pressure would have pushed the nitrogen into the bloodstream producing a state of consciousness. cave diving was just 2 ft in diam and 2 years prior two people died in it because they managed to get through a rock slide filled with gravel blocked them inside. he even tried to cover up the small hole that leads to the fourth chamber with some cement but other divers reopened it and left a message that said you can't keep us out Don himself almost died in Jacob's Well. the small hole was located Richard removed his tank to get through the hole and started going in while holding his tank. he noticed Richard didn't have the tank with him anymore and was suffocating Clark quickly reached for the regulator and gave it to him letting him breathe again. they started passing the regulator back and forth as they made their way out and somehow they managed to get through the tight squeeze of the third chamber. they realized they'd run four friends went in and found a section with about 3 ft of airspace. they found no sound or light coming from inside the cave. police tried to pump in oxygen and pump out water while family and friends waited anxiously outside the cave. the cave was eventually closed off with cement.\n"
     ]
    }
   ],
   "source": [
    "youtube_url = \"https://www.youtube.com/watch?v=_T73DugW_D8\"\n",
    "transcript = get_youtube_transcript(youtube_url)\n",
    "\n",
    "if not transcript.startswith(\"Error\"):\n",
    "    print(\"\\n🔹 NLTK TextRank Summary:\")\n",
    "    print(textrank_summarize(transcript))\n",
    "    \n",
    "    print(\"\\n🔹 Pegasus Summary:\")\n",
    "    print(summarize_text(pegasus_tokenizer, pegasus_model, transcript))\n",
    "    \n",
    "    print(\"\\n🔹 BART Summary:\")\n",
    "    print(summarize_text(bart_tokenizer, bart_model, transcript))\n",
    "    \n",
    "    print(\"\\n🔹 T5 Summary:\")\n",
    "    print(t5_summarize(transcript))\n",
    "else:\n",
    "    print(transcript)\n"
   ]
  }
 ],
 "metadata": {
  "kernelspec": {
   "display_name": "Python 3 (ipykernel)",
   "language": "python",
   "name": "python3"
  },
  "language_info": {
   "codemirror_mode": {
    "name": "ipython",
    "version": 3
   },
   "file_extension": ".py",
   "mimetype": "text/x-python",
   "name": "python",
   "nbconvert_exporter": "python",
   "pygments_lexer": "ipython3",
   "version": "3.10.7"
  }
 },
 "nbformat": 4,
 "nbformat_minor": 5
}
