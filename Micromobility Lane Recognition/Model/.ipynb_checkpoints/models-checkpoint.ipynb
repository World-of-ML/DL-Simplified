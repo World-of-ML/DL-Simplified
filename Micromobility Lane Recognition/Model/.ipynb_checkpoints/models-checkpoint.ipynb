{
 "cells": [
  {
   "cell_type": "code",
   "execution_count": 1,
   "metadata": {
    "_cell_guid": "b1076dfc-b9ad-4769-8c92-a6c4dae69d19",
    "_uuid": "8f2839f25d086af736a60e9eeb907d3b93b6e0e5",
    "execution": {
     "iopub.execute_input": "2024-06-18T13:26:03.053703Z",
     "iopub.status.busy": "2024-06-18T13:26:03.053301Z",
     "iopub.status.idle": "2024-06-18T13:26:11.109279Z",
     "shell.execute_reply": "2024-06-18T13:26:11.108088Z",
     "shell.execute_reply.started": "2024-06-18T13:26:03.053674Z"
    }
   },
   "outputs": [],
   "source": [
    "import pandas as pd                    \n",
    "from PIL import Image\n",
    "import numpy as np\n",
    "import matplotlib.pyplot as plt\n",
    "import torch\n",
    "from torch.utils.data import Dataset, DataLoader\n",
    "from sklearn.model_selection import train_test_split\n",
    "\n",
    "import torch.nn as nn\n",
    "import torch.optim as optim\n",
    "import torch.nn.functional as F\n",
    "from torchvision import transforms\n",
    "\n",
    "import torchvision.models as models\n",
    "\n",
    "from sklearn.linear_model import LogisticRegression\n",
    "from sklearn.utils import shuffle\n",
    "import cv2\n",
    "import os\n",
    "\n",
    "import pickle\n",
    "\n",
    "from sklearn.metrics import accuracy_score, precision_score, recall_score, f1_score"
   ]
  },
  {
   "cell_type": "code",
   "execution_count": 2,
   "metadata": {
    "execution": {
     "iopub.execute_input": "2024-06-18T13:39:05.522351Z",
     "iopub.status.busy": "2024-06-18T13:39:05.520337Z",
     "iopub.status.idle": "2024-06-18T13:39:05.567549Z",
     "shell.execute_reply": "2024-06-18T13:39:05.566444Z",
     "shell.execute_reply.started": "2024-06-18T13:39:05.522302Z"
    }
   },
   "outputs": [
    {
     "name": "stdout",
     "output_type": "stream",
     "text": [
      "We have 18 Features\n",
      "frame Type: int64\n",
      "road Type: int64\n",
      "sidewalk Type: int64\n",
      "bikelane Type: int64\n",
      "asphalt Type: int64\n",
      "concrete Type: int64\n",
      "cobblestone Type: int64\n",
      "dirt Type: int64\n",
      "grass Type: int64\n",
      "day Type: int64\n",
      "night Type: int64\n",
      "indoor Type: int64\n",
      "sunny Type: int64\n",
      "cloudy Type: int64\n",
      "raining Type: int64\n",
      "on Type: float64\n",
      "off Type: float64\n",
      "Unnamed: 17 Type: float64\n"
     ]
    }
   ],
   "source": [
    "df_DC = pd.read_csv('/kaggle/input/micromobility-lane-recognition-dataset/MLRD/labels/WashingtonDC/washingtonDC-01.csv')\n",
    "\n",
    "print(f'We have {len(df_DC.columns)} Features')\n",
    "_ = [print(col, 'Type:', df_DC[col].dtype) for col in df_DC.columns]"
   ]
  },
  {
   "cell_type": "code",
   "execution_count": 3,
   "metadata": {
    "execution": {
     "iopub.execute_input": "2024-06-18T13:39:06.918969Z",
     "iopub.status.busy": "2024-06-18T13:39:06.918562Z",
     "iopub.status.idle": "2024-06-18T13:39:06.947838Z",
     "shell.execute_reply": "2024-06-18T13:39:06.946800Z",
     "shell.execute_reply.started": "2024-06-18T13:39:06.918929Z"
    }
   },
   "outputs": [
    {
     "data": {
      "text/html": [
       "<div>\n",
       "<style scoped>\n",
       "    .dataframe tbody tr th:only-of-type {\n",
       "        vertical-align: middle;\n",
       "    }\n",
       "\n",
       "    .dataframe tbody tr th {\n",
       "        vertical-align: top;\n",
       "    }\n",
       "\n",
       "    .dataframe thead th {\n",
       "        text-align: right;\n",
       "    }\n",
       "</style>\n",
       "<table border=\"1\" class=\"dataframe\">\n",
       "  <thead>\n",
       "    <tr style=\"text-align: right;\">\n",
       "      <th></th>\n",
       "      <th>frame</th>\n",
       "      <th>road</th>\n",
       "      <th>sidewalk</th>\n",
       "      <th>bikelane</th>\n",
       "      <th>asphalt</th>\n",
       "      <th>concrete</th>\n",
       "      <th>cobblestone</th>\n",
       "      <th>dirt</th>\n",
       "      <th>grass</th>\n",
       "      <th>day</th>\n",
       "      <th>night</th>\n",
       "      <th>indoor</th>\n",
       "      <th>sunny</th>\n",
       "      <th>cloudy</th>\n",
       "      <th>raining</th>\n",
       "      <th>on</th>\n",
       "      <th>off</th>\n",
       "      <th>Unnamed: 17</th>\n",
       "    </tr>\n",
       "  </thead>\n",
       "  <tbody>\n",
       "    <tr>\n",
       "      <th>0</th>\n",
       "      <td>7</td>\n",
       "      <td>1</td>\n",
       "      <td>0</td>\n",
       "      <td>0</td>\n",
       "      <td>1</td>\n",
       "      <td>0</td>\n",
       "      <td>0</td>\n",
       "      <td>0</td>\n",
       "      <td>0</td>\n",
       "      <td>1</td>\n",
       "      <td>0</td>\n",
       "      <td>0</td>\n",
       "      <td>0</td>\n",
       "      <td>1</td>\n",
       "      <td>0</td>\n",
       "      <td>NaN</td>\n",
       "      <td>NaN</td>\n",
       "      <td>NaN</td>\n",
       "    </tr>\n",
       "    <tr>\n",
       "      <th>1</th>\n",
       "      <td>8</td>\n",
       "      <td>1</td>\n",
       "      <td>0</td>\n",
       "      <td>0</td>\n",
       "      <td>1</td>\n",
       "      <td>0</td>\n",
       "      <td>0</td>\n",
       "      <td>0</td>\n",
       "      <td>0</td>\n",
       "      <td>1</td>\n",
       "      <td>0</td>\n",
       "      <td>0</td>\n",
       "      <td>0</td>\n",
       "      <td>1</td>\n",
       "      <td>0</td>\n",
       "      <td>NaN</td>\n",
       "      <td>NaN</td>\n",
       "      <td>NaN</td>\n",
       "    </tr>\n",
       "    <tr>\n",
       "      <th>2</th>\n",
       "      <td>9</td>\n",
       "      <td>1</td>\n",
       "      <td>0</td>\n",
       "      <td>0</td>\n",
       "      <td>1</td>\n",
       "      <td>0</td>\n",
       "      <td>0</td>\n",
       "      <td>0</td>\n",
       "      <td>0</td>\n",
       "      <td>1</td>\n",
       "      <td>0</td>\n",
       "      <td>0</td>\n",
       "      <td>0</td>\n",
       "      <td>1</td>\n",
       "      <td>0</td>\n",
       "      <td>NaN</td>\n",
       "      <td>NaN</td>\n",
       "      <td>NaN</td>\n",
       "    </tr>\n",
       "    <tr>\n",
       "      <th>3</th>\n",
       "      <td>10</td>\n",
       "      <td>1</td>\n",
       "      <td>0</td>\n",
       "      <td>0</td>\n",
       "      <td>1</td>\n",
       "      <td>0</td>\n",
       "      <td>0</td>\n",
       "      <td>0</td>\n",
       "      <td>0</td>\n",
       "      <td>1</td>\n",
       "      <td>0</td>\n",
       "      <td>0</td>\n",
       "      <td>0</td>\n",
       "      <td>1</td>\n",
       "      <td>0</td>\n",
       "      <td>NaN</td>\n",
       "      <td>NaN</td>\n",
       "      <td>NaN</td>\n",
       "    </tr>\n",
       "    <tr>\n",
       "      <th>4</th>\n",
       "      <td>11</td>\n",
       "      <td>1</td>\n",
       "      <td>0</td>\n",
       "      <td>0</td>\n",
       "      <td>1</td>\n",
       "      <td>0</td>\n",
       "      <td>0</td>\n",
       "      <td>0</td>\n",
       "      <td>0</td>\n",
       "      <td>1</td>\n",
       "      <td>0</td>\n",
       "      <td>0</td>\n",
       "      <td>0</td>\n",
       "      <td>1</td>\n",
       "      <td>0</td>\n",
       "      <td>NaN</td>\n",
       "      <td>NaN</td>\n",
       "      <td>NaN</td>\n",
       "    </tr>\n",
       "  </tbody>\n",
       "</table>\n",
       "</div>"
      ],
      "text/plain": [
       "   frame  road  sidewalk  bikelane  asphalt  concrete  cobblestone  dirt  \\\n",
       "0      7     1         0         0        1         0            0     0   \n",
       "1      8     1         0         0        1         0            0     0   \n",
       "2      9     1         0         0        1         0            0     0   \n",
       "3     10     1         0         0        1         0            0     0   \n",
       "4     11     1         0         0        1         0            0     0   \n",
       "\n",
       "   grass  day  night  indoor  sunny  cloudy  raining  on  off  Unnamed: 17  \n",
       "0      0    1      0       0      0       1        0 NaN  NaN          NaN  \n",
       "1      0    1      0       0      0       1        0 NaN  NaN          NaN  \n",
       "2      0    1      0       0      0       1        0 NaN  NaN          NaN  \n",
       "3      0    1      0       0      0       1        0 NaN  NaN          NaN  \n",
       "4      0    1      0       0      0       1        0 NaN  NaN          NaN  "
      ]
     },
     "execution_count": 3,
     "metadata": {},
     "output_type": "execute_result"
    }
   ],
   "source": [
    "df_DC.head()"
   ]
  },
  {
   "cell_type": "code",
   "execution_count": 4,
   "metadata": {
    "execution": {
     "iopub.execute_input": "2024-06-18T13:39:07.741654Z",
     "iopub.status.busy": "2024-06-18T13:39:07.741233Z",
     "iopub.status.idle": "2024-06-18T13:39:07.747955Z",
     "shell.execute_reply": "2024-06-18T13:39:07.746767Z",
     "shell.execute_reply.started": "2024-06-18T13:39:07.741622Z"
    }
   },
   "outputs": [
    {
     "name": "stdout",
     "output_type": "stream",
     "text": [
      "Columns: ['frame', 'road', 'sidewalk', 'bikelane', 'asphalt', 'concrete', 'cobblestone', 'dirt', 'grass', 'day', 'night', 'indoor', 'sunny', 'cloudy', 'raining', 'on', 'off', 'Unnamed: 17']\n"
     ]
    }
   ],
   "source": [
    "columns = df_DC.columns.tolist()\n",
    "print('Columns:', columns)"
   ]
  },
  {
   "cell_type": "markdown",
   "metadata": {},
   "source": [
    "## Organize the Dataset into One CSV File"
   ]
  },
  {
   "cell_type": "markdown",
   "metadata": {},
   "source": [
    "The Dataset is so messy, that we have to extract all image paths and put them into one new organized csv file"
   ]
  },
  {
   "cell_type": "markdown",
   "metadata": {},
   "source": [
    "### Extract all Image Directories Paths"
   ]
  },
  {
   "cell_type": "code",
   "execution_count": 5,
   "metadata": {
    "execution": {
     "iopub.execute_input": "2024-06-18T13:39:10.015376Z",
     "iopub.status.busy": "2024-06-18T13:39:10.014966Z",
     "iopub.status.idle": "2024-06-18T13:39:10.118330Z",
     "shell.execute_reply": "2024-06-18T13:39:10.117191Z",
     "shell.execute_reply.started": "2024-06-18T13:39:10.015346Z"
    }
   },
   "outputs": [],
   "source": [
    "# You Can Edit this to get the frames directory in the dataset directory                                                                                \n",
    "frames_path = '/kaggle/input/micromobility-lane-recognition-dataset/MLRD/frames'\n",
    "# You Can Edit this to get the labels directory in the dataset directory\n",
    "labels_path = '/kaggle/input/micromobility-lane-recognition-dataset/MLRD/labels'\n",
    "\n",
    "\n",
    "# Dublin01\n",
    "dublin_dirs = []\n",
    "curr_dir = 'Dublin01'\n",
    "input_image_path = os.path.join(frames_path, curr_dir)\n",
    "input_label_path = os.path.join(labels_path, curr_dir)\n",
    "dublin_dirs = [os.path.join(input_image_path, d) for d in os.listdir(input_image_path) if d != 'journeys']\n",
    "\n",
    "curr_dir = 'journeys'\n",
    "journey_dirs = []\n",
    "input_image_path = os.path.join(input_image_path, curr_dir)\n",
    "for d1 in os.listdir(input_image_path):\n",
    "    d1_path = os.path.join(input_image_path, d1)\n",
    "    for d2 in os.listdir(d1_path):\n",
    "        d2_path = os.path.join(d1_path, d2)\n",
    "        for d3 in os.listdir(d2_path):\n",
    "            d3_path = os.path.join(d2_path, d3)\n",
    "            journey_dirs.append(d3_path)\n",
    "\n",
    "dublin_dirs.extend(journey_dirs)\n",
    "\n",
    "\n",
    "#Northampton02\n",
    "northampton_dirs = []\n",
    "northampton_dirs.append(os.path.join(frames_path, 'Northampton02/Northampton02-vid-14-15-17'))\n",
    "\n",
    "#Northampton04\n",
    "curr_dir = os.path.join(frames_path, 'Northampton04')\n",
    "for d in os.listdir(curr_dir):\n",
    "    d_path = os.path.join(curr_dir, d)\n",
    "    northampton_dirs.append(d_path)\n",
    "\n",
    "#Paris\n",
    "curr_dir = os.path.join(frames_path, 'Paris')\n",
    "paris_dirs = []\n",
    "paris_dirs.append(os.path.join(curr_dir, 'Paris_Dott02'))\n",
    "paris_dirs.append(os.path.join(curr_dir, 'Paris_Dott03'))\n",
    "\n",
    "#Singapore\n",
    "curr_dir = os.path.join(frames_path, 'Singapore/Singapore')\n",
    "singapore_dir = []\n",
    "singapore_dir.append(curr_dir)\n",
    "\n",
    "#Stockholm\n",
    "curr_dir = os.path.join(frames_path, 'Stockholm')\n",
    "stockholm_dirs = [os.path.join(curr_dir, d) for d in os.listdir(curr_dir)]\n",
    "\n",
    "#WashingtonDC\n",
    "curr_dir = os.path.join(frames_path, 'WashingtonDC/washingtonDC-01')\n",
    "DC_dir = []\n",
    "DC_dir.append(curr_dir)\n",
    "\n",
    "\n",
    "all_dir_paths = []\n",
    "all_dir_paths.extend(dublin_dirs)\n",
    "all_dir_paths.extend(northampton_dirs)\n",
    "all_dir_paths.extend(paris_dirs)\n",
    "all_dir_paths.extend(singapore_dir)\n",
    "all_dir_paths.extend(stockholm_dirs)\n",
    "all_dir_paths.extend(DC_dir)"
   ]
  },
  {
   "cell_type": "markdown",
   "metadata": {},
   "source": [
    "### Create a New Directory for the Organzied Dataset"
   ]
  },
  {
   "cell_type": "code",
   "execution_count": 6,
   "metadata": {
    "execution": {
     "iopub.execute_input": "2024-06-18T13:39:11.061438Z",
     "iopub.status.busy": "2024-06-18T13:39:11.061038Z",
     "iopub.status.idle": "2024-06-18T13:39:11.067439Z",
     "shell.execute_reply": "2024-06-18T13:39:11.066247Z",
     "shell.execute_reply.started": "2024-06-18T13:39:11.061409Z"
    }
   },
   "outputs": [],
   "source": [
    "root_dir = os.getcwd()\n",
    "os.makedirs(os.path.join(root_dir, 'Dataset'), exist_ok=True)"
   ]
  },
  {
   "cell_type": "markdown",
   "metadata": {},
   "source": [
    "### Extract Image Paths"
   ]
  },
  {
   "cell_type": "code",
   "execution_count": 7,
   "metadata": {
    "execution": {
     "iopub.execute_input": "2024-06-18T13:39:12.524218Z",
     "iopub.status.busy": "2024-06-18T13:39:12.523748Z",
     "iopub.status.idle": "2024-06-18T13:39:12.530257Z",
     "shell.execute_reply": "2024-06-18T13:39:12.529040Z",
     "shell.execute_reply.started": "2024-06-18T13:39:12.524183Z"
    }
   },
   "outputs": [],
   "source": [
    "def extract_images(dir_path):\n",
    "    images = [f for f in os.listdir(dir_path) if f.endswith('png')]\n",
    "    return images"
   ]
  },
  {
   "cell_type": "markdown",
   "metadata": {},
   "source": [
    "### Drop NaN Columns + Extract Labels                                        \n",
    "  \n",
    "  "
   ]
  },
  {
   "cell_type": "code",
   "execution_count": 8,
   "metadata": {
    "execution": {
     "iopub.execute_input": "2024-06-18T13:39:13.082214Z",
     "iopub.status.busy": "2024-06-18T13:39:13.081768Z",
     "iopub.status.idle": "2024-06-18T13:39:13.090265Z",
     "shell.execute_reply": "2024-06-18T13:39:13.088898Z",
     "shell.execute_reply.started": "2024-06-18T13:39:13.082169Z"
    }
   },
   "outputs": [],
   "source": [
    "def extract_labels(d_path):\n",
    "    csv_file_path = d_path.replace('frames', 'labels') + '.csv'\n",
    "    df_labels = pd.read_csv(csv_file_path)\n",
    "\n",
    "    if 'frame' in df_labels.columns:\n",
    "        df_labels.set_index('frame', inplace=True)\n",
    "        # Reset index to start from 1\n",
    "        df_labels.index = range(1, len(df_labels) + 1)\n",
    "\n",
    "    # Drop 'frame' column if it exists\n",
    "    if 'frame' in df_labels.columns:\n",
    "        df_labels.drop('frame', axis=1, inplace=True)\n",
    "\n",
    "    # Drop columns with NaN values\n",
    "    df_labels.dropna(axis=1, inplace=True)\n",
    "\n",
    "    # Convert each row of DataFrame into a list of labels\n",
    "    all_labels = df_labels.values.tolist()\n",
    "\n",
    "    return all_labels"
   ]
  },
  {
   "cell_type": "code",
   "execution_count": 9,
   "metadata": {
    "execution": {
     "iopub.execute_input": "2024-06-18T13:39:14.166247Z",
     "iopub.status.busy": "2024-06-18T13:39:14.165815Z",
     "iopub.status.idle": "2024-06-18T13:39:14.172410Z",
     "shell.execute_reply": "2024-06-18T13:39:14.170970Z",
     "shell.execute_reply.started": "2024-06-18T13:39:14.166216Z"
    }
   },
   "outputs": [],
   "source": [
    "def combine_path_and_labels(image_paths, label_lists):\n",
    "    combined_data = []\n",
    "\n",
    "    for path, labels in zip(image_paths, label_lists):\n",
    "        combined_data.append([path] + labels)\n",
    "\n",
    "    return combined_data"
   ]
  },
  {
   "cell_type": "code",
   "execution_count": 10,
   "metadata": {
    "execution": {
     "iopub.execute_input": "2024-06-18T13:39:14.445929Z",
     "iopub.status.busy": "2024-06-18T13:39:14.445515Z",
     "iopub.status.idle": "2024-06-18T13:39:22.155658Z",
     "shell.execute_reply": "2024-06-18T13:39:22.154272Z",
     "shell.execute_reply.started": "2024-06-18T13:39:14.445883Z"
    }
   },
   "outputs": [
    {
     "name": "stdout",
     "output_type": "stream",
     "text": [
      "Processing complete for directory 1 / 65\n",
      "Processing complete for directory 2 / 65\n",
      "Processing complete for directory 3 / 65\n",
      "Processing complete for directory 4 / 65\n",
      "Processing complete for directory 5 / 65\n",
      "Processing complete for directory 6 / 65\n",
      "Processing complete for directory 7 / 65\n",
      "Processing complete for directory 8 / 65\n",
      "Processing complete for directory 9 / 65\n",
      "Processing complete for directory 10 / 65\n",
      "Processing complete for directory 11 / 65\n",
      "Processing complete for directory 12 / 65\n",
      "Processing complete for directory 13 / 65\n",
      "Processing complete for directory 14 / 65\n",
      "Processing complete for directory 15 / 65\n",
      "Processing complete for directory 16 / 65\n",
      "Processing complete for directory 17 / 65\n",
      "Processing complete for directory 18 / 65\n",
      "Processing complete for directory 19 / 65\n",
      "Processing complete for directory 20 / 65\n",
      "Processing complete for directory 21 / 65\n",
      "Processing complete for directory 22 / 65\n",
      "Processing complete for directory 23 / 65\n",
      "Processing complete for directory 24 / 65\n",
      "Processing complete for directory 25 / 65\n",
      "Processing complete for directory 26 / 65\n",
      "Processing complete for directory 27 / 65\n",
      "Processing complete for directory 28 / 65\n",
      "Processing complete for directory 29 / 65\n",
      "Processing complete for directory 30 / 65\n",
      "Processing complete for directory 31 / 65\n",
      "Processing complete for directory 32 / 65\n",
      "Processing complete for directory 33 / 65\n",
      "Processing complete for directory 34 / 65\n",
      "Processing complete for directory 35 / 65\n",
      "Processing complete for directory 36 / 65\n",
      "Processing complete for directory 37 / 65\n",
      "Processing complete for directory 38 / 65\n",
      "Processing complete for directory 39 / 65\n",
      "Processing complete for directory 40 / 65\n",
      "Processing complete for directory 41 / 65\n",
      "Processing complete for directory 42 / 65\n",
      "Processing complete for directory 43 / 65\n",
      "Processing complete for directory 44 / 65\n",
      "Processing complete for directory 45 / 65\n",
      "Processing complete for directory 46 / 65\n",
      "Processing complete for directory 47 / 65\n",
      "Processing complete for directory 48 / 65\n",
      "Processing complete for directory 49 / 65\n",
      "Processing complete for directory 50 / 65\n",
      "Processing complete for directory 51 / 65\n",
      "Processing complete for directory 52 / 65\n",
      "Processing complete for directory 53 / 65\n",
      "Processing complete for directory 54 / 65\n",
      "Processing complete for directory 55 / 65\n",
      "Processing complete for directory 56 / 65\n",
      "Processing complete for directory 57 / 65\n",
      "Processing complete for directory 58 / 65\n",
      "Processing complete for directory 59 / 65\n",
      "Processing complete for directory 60 / 65\n",
      "Processing complete for directory 61 / 65\n",
      "Processing complete for directory 62 / 65\n",
      "Processing complete for directory 63 / 65\n",
      "Processing complete for directory 64 / 65\n",
      "Processing complete for directory 65 / 65\n"
     ]
    }
   ],
   "source": [
    "output_rows = []\n",
    "# city_image_counts = {city: 0 for city in cities}\n",
    "\n",
    "for d_num, d_path in enumerate(all_dir_paths, start=1):\n",
    "\n",
    "    # Extract images\n",
    "    images_names = extract_images(d_path)\n",
    "    images_paths = [os.path.join(d_path, image_name) for image_name in images_names]\n",
    "\n",
    "    # Extract labels\n",
    "    all_labels = extract_labels(d_path)\n",
    "\n",
    "    # Combine each image path + labels\n",
    "    output_rows_per_path = combine_path_and_labels(images_paths, all_labels)\n",
    "\n",
    "    # Append to output_rows\n",
    "    output_rows.extend(output_rows_per_path)\n",
    "\n",
    "    print(f\"Processing complete for directory {d_num} / {len(all_dir_paths)}\")"
   ]
  },
  {
   "cell_type": "markdown",
   "metadata": {},
   "source": [
    "### Create a New CSV File"
   ]
  },
  {
   "cell_type": "code",
   "execution_count": 11,
   "metadata": {
    "execution": {
     "iopub.execute_input": "2024-06-18T13:39:22.157746Z",
     "iopub.status.busy": "2024-06-18T13:39:22.157411Z",
     "iopub.status.idle": "2024-06-18T13:39:22.163087Z",
     "shell.execute_reply": "2024-06-18T13:39:22.161721Z",
     "shell.execute_reply.started": "2024-06-18T13:39:22.157718Z"
    }
   },
   "outputs": [],
   "source": [
    "# Load and preprocess data\n",
    "organized_dataset_csv = os.path.join(root_dir, 'Dataset/Organized_dataset.csv')"
   ]
  },
  {
   "cell_type": "markdown",
   "metadata": {},
   "source": [
    "### Define the New Columns"
   ]
  },
  {
   "cell_type": "code",
   "execution_count": 14,
   "metadata": {
    "execution": {
     "iopub.execute_input": "2024-06-18T13:41:33.993090Z",
     "iopub.status.busy": "2024-06-18T13:41:33.992605Z",
     "iopub.status.idle": "2024-06-18T13:41:33.998449Z",
     "shell.execute_reply": "2024-06-18T13:41:33.997384Z",
     "shell.execute_reply.started": "2024-06-18T13:41:33.993055Z"
    }
   },
   "outputs": [],
   "source": [
    "new_labels= columns[1:-3]\n",
    "new_columns = ['image_path'] + new_labels"
   ]
  },
  {
   "cell_type": "markdown",
   "metadata": {},
   "source": [
    "### Write the Dataset into the New CSV File"
   ]
  },
  {
   "cell_type": "code",
   "execution_count": 15,
   "metadata": {
    "execution": {
     "iopub.execute_input": "2024-06-18T13:41:34.354929Z",
     "iopub.status.busy": "2024-06-18T13:41:34.354538Z",
     "iopub.status.idle": "2024-06-18T13:41:34.863591Z",
     "shell.execute_reply": "2024-06-18T13:41:34.862381Z",
     "shell.execute_reply.started": "2024-06-18T13:41:34.354885Z"
    }
   },
   "outputs": [],
   "source": [
    "output_df = pd.DataFrame(output_rows, columns=new_columns)\n",
    "output_df.to_csv(organized_dataset_csv, index=False)"
   ]
  },
  {
   "cell_type": "markdown",
   "metadata": {},
   "source": [
    "### Read the New CSV File"
   ]
  },
  {
   "cell_type": "code",
   "execution_count": 16,
   "metadata": {
    "execution": {
     "iopub.execute_input": "2024-06-18T13:41:36.703674Z",
     "iopub.status.busy": "2024-06-18T13:41:36.703301Z",
     "iopub.status.idle": "2024-06-18T13:41:36.806002Z",
     "shell.execute_reply": "2024-06-18T13:41:36.805026Z",
     "shell.execute_reply.started": "2024-06-18T13:41:36.703646Z"
    }
   },
   "outputs": [],
   "source": [
    "df = pd.read_csv(organized_dataset_csv)"
   ]
  },
  {
   "cell_type": "markdown",
   "metadata": {},
   "source": [
    "### Show the new Dataset"
   ]
  },
  {
   "cell_type": "code",
   "execution_count": 17,
   "metadata": {
    "execution": {
     "iopub.execute_input": "2024-06-18T13:41:38.735836Z",
     "iopub.status.busy": "2024-06-18T13:41:38.734652Z",
     "iopub.status.idle": "2024-06-18T13:41:38.751366Z",
     "shell.execute_reply": "2024-06-18T13:41:38.750202Z",
     "shell.execute_reply.started": "2024-06-18T13:41:38.735797Z"
    }
   },
   "outputs": [
    {
     "data": {
      "text/html": [
       "<div>\n",
       "<style scoped>\n",
       "    .dataframe tbody tr th:only-of-type {\n",
       "        vertical-align: middle;\n",
       "    }\n",
       "\n",
       "    .dataframe tbody tr th {\n",
       "        vertical-align: top;\n",
       "    }\n",
       "\n",
       "    .dataframe thead th {\n",
       "        text-align: right;\n",
       "    }\n",
       "</style>\n",
       "<table border=\"1\" class=\"dataframe\">\n",
       "  <thead>\n",
       "    <tr style=\"text-align: right;\">\n",
       "      <th></th>\n",
       "      <th>image_path</th>\n",
       "      <th>road</th>\n",
       "      <th>sidewalk</th>\n",
       "      <th>bikelane</th>\n",
       "      <th>asphalt</th>\n",
       "      <th>concrete</th>\n",
       "      <th>cobblestone</th>\n",
       "      <th>dirt</th>\n",
       "      <th>grass</th>\n",
       "      <th>day</th>\n",
       "      <th>night</th>\n",
       "      <th>indoor</th>\n",
       "      <th>sunny</th>\n",
       "      <th>cloudy</th>\n",
       "      <th>raining</th>\n",
       "    </tr>\n",
       "  </thead>\n",
       "  <tbody>\n",
       "    <tr>\n",
       "      <th>0</th>\n",
       "      <td>/kaggle/input/micromobility-lane-recognition-d...</td>\n",
       "      <td>1</td>\n",
       "      <td>0</td>\n",
       "      <td>0</td>\n",
       "      <td>1</td>\n",
       "      <td>0</td>\n",
       "      <td>0</td>\n",
       "      <td>0</td>\n",
       "      <td>0</td>\n",
       "      <td>1</td>\n",
       "      <td>0</td>\n",
       "      <td>0</td>\n",
       "      <td>1</td>\n",
       "      <td>0</td>\n",
       "      <td>0</td>\n",
       "    </tr>\n",
       "    <tr>\n",
       "      <th>1</th>\n",
       "      <td>/kaggle/input/micromobility-lane-recognition-d...</td>\n",
       "      <td>1</td>\n",
       "      <td>0</td>\n",
       "      <td>0</td>\n",
       "      <td>1</td>\n",
       "      <td>0</td>\n",
       "      <td>0</td>\n",
       "      <td>0</td>\n",
       "      <td>0</td>\n",
       "      <td>1</td>\n",
       "      <td>0</td>\n",
       "      <td>0</td>\n",
       "      <td>1</td>\n",
       "      <td>0</td>\n",
       "      <td>0</td>\n",
       "    </tr>\n",
       "    <tr>\n",
       "      <th>2</th>\n",
       "      <td>/kaggle/input/micromobility-lane-recognition-d...</td>\n",
       "      <td>1</td>\n",
       "      <td>0</td>\n",
       "      <td>0</td>\n",
       "      <td>1</td>\n",
       "      <td>0</td>\n",
       "      <td>0</td>\n",
       "      <td>0</td>\n",
       "      <td>0</td>\n",
       "      <td>1</td>\n",
       "      <td>0</td>\n",
       "      <td>0</td>\n",
       "      <td>1</td>\n",
       "      <td>0</td>\n",
       "      <td>0</td>\n",
       "    </tr>\n",
       "    <tr>\n",
       "      <th>3</th>\n",
       "      <td>/kaggle/input/micromobility-lane-recognition-d...</td>\n",
       "      <td>1</td>\n",
       "      <td>0</td>\n",
       "      <td>0</td>\n",
       "      <td>1</td>\n",
       "      <td>0</td>\n",
       "      <td>0</td>\n",
       "      <td>0</td>\n",
       "      <td>0</td>\n",
       "      <td>1</td>\n",
       "      <td>0</td>\n",
       "      <td>0</td>\n",
       "      <td>1</td>\n",
       "      <td>0</td>\n",
       "      <td>0</td>\n",
       "    </tr>\n",
       "    <tr>\n",
       "      <th>4</th>\n",
       "      <td>/kaggle/input/micromobility-lane-recognition-d...</td>\n",
       "      <td>1</td>\n",
       "      <td>0</td>\n",
       "      <td>0</td>\n",
       "      <td>1</td>\n",
       "      <td>0</td>\n",
       "      <td>0</td>\n",
       "      <td>0</td>\n",
       "      <td>0</td>\n",
       "      <td>1</td>\n",
       "      <td>0</td>\n",
       "      <td>0</td>\n",
       "      <td>1</td>\n",
       "      <td>0</td>\n",
       "      <td>0</td>\n",
       "    </tr>\n",
       "  </tbody>\n",
       "</table>\n",
       "</div>"
      ],
      "text/plain": [
       "                                          image_path  road  sidewalk  \\\n",
       "0  /kaggle/input/micromobility-lane-recognition-d...     1         0   \n",
       "1  /kaggle/input/micromobility-lane-recognition-d...     1         0   \n",
       "2  /kaggle/input/micromobility-lane-recognition-d...     1         0   \n",
       "3  /kaggle/input/micromobility-lane-recognition-d...     1         0   \n",
       "4  /kaggle/input/micromobility-lane-recognition-d...     1         0   \n",
       "\n",
       "   bikelane  asphalt  concrete  cobblestone  dirt  grass  day  night  indoor  \\\n",
       "0         0        1         0            0     0      0    1      0       0   \n",
       "1         0        1         0            0     0      0    1      0       0   \n",
       "2         0        1         0            0     0      0    1      0       0   \n",
       "3         0        1         0            0     0      0    1      0       0   \n",
       "4         0        1         0            0     0      0    1      0       0   \n",
       "\n",
       "   sunny  cloudy  raining  \n",
       "0      1       0        0  \n",
       "1      1       0        0  \n",
       "2      1       0        0  \n",
       "3      1       0        0  \n",
       "4      1       0        0  "
      ]
     },
     "execution_count": 17,
     "metadata": {},
     "output_type": "execute_result"
    }
   ],
   "source": [
    "df.head()"
   ]
  },
  {
   "cell_type": "markdown",
   "metadata": {},
   "source": [
    "## Get to Know the Dataset - EDA"
   ]
  },
  {
   "cell_type": "code",
   "execution_count": 24,
   "metadata": {
    "execution": {
     "iopub.execute_input": "2024-06-18T13:44:35.383656Z",
     "iopub.status.busy": "2024-06-18T13:44:35.383202Z",
     "iopub.status.idle": "2024-06-18T13:44:35.806189Z",
     "shell.execute_reply": "2024-06-18T13:44:35.804933Z",
     "shell.execute_reply.started": "2024-06-18T13:44:35.383626Z"
    }
   },
   "outputs": [
    {
     "data": {
      "image/png": "[encoded data removed]",
      "text/plain": [
       "<Figure size 1000x600 with 1 Axes>"
      ]
     },
     "metadata": {},
     "output_type": "display_data"
    }
   ],
   "source": [
    "# Bar Chart for Label Distribution                    \n",
    "label_columns = new_labels\n",
    "label_counts = df[label_columns].sum()\n",
    "\n",
    "plt.figure(figsize=(10, 6))\n",
    "label_counts.plot(kind='bar')\n",
    "plt.title('Label Distribution')\n",
    "plt.xlabel('Labels')\n",
    "plt.ylabel('Frequency')\n",
    "plt.show()\n"
   ]
  },
  {
   "cell_type": "code",
   "execution_count": 25,
   "metadata": {
    "execution": {
     "iopub.execute_input": "2024-06-18T13:46:49.088953Z",
     "iopub.status.busy": "2024-06-18T13:46:49.088453Z",
     "iopub.status.idle": "2024-06-18T13:46:49.547106Z",
     "shell.execute_reply": "2024-06-18T13:46:49.545961Z",
     "shell.execute_reply.started": "2024-06-18T13:46:49.088898Z"
    }
   },
   "outputs": [
    {
     "data": {
      "image/png": "[encoded data removed]",
      "text/plain": [
       "<Figure size 1200x800 with 1 Axes>"
      ]
     },
     "metadata": {},
     "output_type": "display_data"
    }
   ],
   "source": [
    "# Grouped Bar Chart for Time of Day\n",
    "\n",
    "day_night_counts = df.groupby('day')[label_columns].sum().T\n",
    "night_counts = df.groupby('night')[label_columns].sum().T\n",
    "\n",
    "day_night_counts.plot(kind='bar', figsize=(12, 8))\n",
    "plt.title('Label Distribution by Time of Day')\n",
    "plt.xlabel('Labels')\n",
    "plt.ylabel('Frequency')\n",
    "plt.legend(['Day', 'Night'])\n",
    "plt.show()"
   ]
  },
  {
   "cell_type": "code",
   "execution_count": 27,
   "metadata": {
    "execution": {
     "iopub.execute_input": "2024-06-18T13:47:23.091671Z",
     "iopub.status.busy": "2024-06-18T13:47:23.091277Z",
     "iopub.status.idle": "2024-06-18T13:47:23.759664Z",
     "shell.execute_reply": "2024-06-18T13:47:23.758584Z",
     "shell.execute_reply.started": "2024-06-18T13:47:23.091640Z"
    }
   },
   "outputs": [
    {
     "data": {
      "image/png": "[encoded data removed]",
      "text/plain": [
       "<Figure size 1200x800 with 1 Axes>"
      ]
     },
     "metadata": {},
     "output_type": "display_data"
    }
   ],
   "source": [
    "# Grouped Bar Chart for Weather Condition\n",
    "\n",
    "weather_conditions = ['sunny', 'cloudy', 'raining']\n",
    "weather_counts = {condition: df[df[condition] == 1][label_columns].sum() for condition in weather_conditions}\n",
    "\n",
    "weather_df = pd.DataFrame(weather_counts)\n",
    "weather_df.plot(kind='bar', figsize=(12, 8))\n",
    "plt.title('Label Distribution by Weather Condition')\n",
    "plt.xlabel('Labels')\n",
    "plt.ylabel('Frequency')\n",
    "plt.legend(weather_conditions)\n",
    "plt.show()"
   ]
  },
  {
   "cell_type": "code",
   "execution_count": 28,
   "metadata": {
    "execution": {
     "iopub.execute_input": "2024-06-18T13:48:44.928985Z",
     "iopub.status.busy": "2024-06-18T13:48:44.928484Z",
     "iopub.status.idle": "2024-06-18T13:48:45.164967Z",
     "shell.execute_reply": "2024-06-18T13:48:45.163439Z",
     "shell.execute_reply.started": "2024-06-18T13:48:44.928896Z"
    }
   },
   "outputs": [
    {
     "data": {
      "image/png": "[encoded data removed]",
      "text/plain": [
       "<Figure size 800x800 with 1 Axes>"
      ]
     },
     "metadata": {},
     "output_type": "display_data"
    }
   ],
   "source": [
    "# Pie Chart for Sufrace Type Distribution\n",
    "\n",
    "surface_labels = ['asphalt', 'concrete', 'cobblestone', 'dirt', 'grass']\n",
    "surface_counts = df[surface_labels].sum()\n",
    "\n",
    "plt.figure(figsize=(8, 8))\n",
    "surface_counts.plot(kind='pie', autopct='%1.1f%%')\n",
    "plt.title('Surface Type Distribution')\n",
    "plt.ylabel('')\n",
    "plt.show()"
   ]
  },
  {
   "cell_type": "markdown",
   "metadata": {},
   "source": [
    "## Prepare the Data before Passing it to the Models"
   ]
  },
  {
   "cell_type": "markdown",
   "metadata": {},
   "source": [
    "### For CNN and ResNet Models"
   ]
  },
  {
   "cell_type": "code",
   "execution_count": 18,
   "metadata": {
    "execution": {
     "iopub.execute_input": "2024-06-18T13:41:41.435739Z",
     "iopub.status.busy": "2024-06-18T13:41:41.435348Z",
     "iopub.status.idle": "2024-06-18T13:41:41.444477Z",
     "shell.execute_reply": "2024-06-18T13:41:41.443105Z",
     "shell.execute_reply.started": "2024-06-18T13:41:41.435710Z"
    }
   },
   "outputs": [],
   "source": [
    "# Custom dataset class\n",
    "class ImageDataset(Dataset):\n",
    "    def __init__(self, dataframe, transform=None):\n",
    "        self.dataframe = dataframe\n",
    "        self.transform = transform\n",
    "        \n",
    "    def __len__(self):\n",
    "        return len(self.dataframe)\n",
    "    \n",
    "    def __getitem__(self, idx):\n",
    "        img_name = self.dataframe.iloc[idx, 0]\n",
    "        image = Image.open(img_name).convert('RGB')\n",
    "        labels = self.dataframe.iloc[idx, 1:].values.astype('float32')\n",
    "        \n",
    "        if self.transform:\n",
    "            image = self.transform(image)                    \n",
    "  \n",
    "        \n",
    "        return {'image': image, 'labels': torch.tensor(labels)}"
   ]
  },
  {
   "cell_type": "markdown",
   "metadata": {},
   "source": [
    "### Split the dataset into 80% Training and 20% Testing"
   ]
  },
  {
   "cell_type": "code",
   "execution_count": 19,
   "metadata": {
    "execution": {
     "iopub.execute_input": "2024-06-18T13:41:45.483018Z",
     "iopub.status.busy": "2024-06-18T13:41:45.482561Z",
     "iopub.status.idle": "2024-06-18T13:41:45.506669Z",
     "shell.execute_reply": "2024-06-18T13:41:45.503258Z",
     "shell.execute_reply.started": "2024-06-18T13:41:45.482982Z"
    }
   },
   "outputs": [],
   "source": [
    "train_df, test_df = train_test_split(df, test_size=0.2, random_state=42)"
   ]
  },
  {
   "cell_type": "code",
   "execution_count": 20,
   "metadata": {
    "execution": {
     "iopub.execute_input": "2024-06-18T13:41:47.336940Z",
     "iopub.status.busy": "2024-06-18T13:41:47.336502Z",
     "iopub.status.idle": "2024-06-18T13:41:47.343369Z",
     "shell.execute_reply": "2024-06-18T13:41:47.342100Z",
     "shell.execute_reply.started": "2024-06-18T13:41:47.336894Z"
    }
   },
   "outputs": [],
   "source": [
    "transform = transforms.Compose([\n",
    "    transforms.Resize((128, 128)),\n",
    "    transforms.ToTensor(),\n",
    "    transforms.Normalize((0.5,), (0.5,))\n",
    "])"
   ]
  },
  {
   "cell_type": "markdown",
   "metadata": {},
   "source": [
    "### Transform the Dataset"
   ]
  },
  {
   "cell_type": "code",
   "execution_count": 21,
   "metadata": {
    "execution": {
     "iopub.execute_input": "2024-06-18T13:41:48.582690Z",
     "iopub.status.busy": "2024-06-18T13:41:48.582285Z",
     "iopub.status.idle": "2024-06-18T13:41:48.587670Z",
     "shell.execute_reply": "2024-06-18T13:41:48.586546Z",
     "shell.execute_reply.started": "2024-06-18T13:41:48.582658Z"
    }
   },
   "outputs": [],
   "source": [
    "train_dataset = ImageDataset(train_df, transform=transform)\n",
    "test_dataset = ImageDataset(test_df, transform=transform)"
   ]
  },
  {
   "cell_type": "markdown",
   "metadata": {},
   "source": [
    "### Define some hyperparameters"
   ]
  },
  {
   "cell_type": "code",
   "execution_count": 22,
   "metadata": {
    "execution": {
     "iopub.execute_input": "2024-06-18T13:43:00.160798Z",
     "iopub.status.busy": "2024-06-18T13:43:00.160337Z",
     "iopub.status.idle": "2024-06-18T13:43:00.165953Z",
     "shell.execute_reply": "2024-06-18T13:43:00.164793Z",
     "shell.execute_reply.started": "2024-06-18T13:43:00.160765Z"
    }
   },
   "outputs": [],
   "source": [
    "batch_size = 32\n",
    "img_size = (224, 224)\n",
    "epochs = 10"
   ]
  },
  {
   "cell_type": "markdown",
   "metadata": {},
   "source": [
    "### Load the Transformed Dataset"
   ]
  },
  {
   "cell_type": "code",
   "execution_count": 23,
   "metadata": {
    "execution": {
     "iopub.execute_input": "2024-06-18T13:43:07.332674Z",
     "iopub.status.busy": "2024-06-18T13:43:07.332297Z",
     "iopub.status.idle": "2024-06-18T13:43:07.339106Z",
     "shell.execute_reply": "2024-06-18T13:43:07.337751Z",
     "shell.execute_reply.started": "2024-06-18T13:43:07.332647Z"
    }
   },
   "outputs": [],
   "source": [
    "train_loader = DataLoader(train_dataset, batch_size=batch_size, shuffle=True, num_workers=4)\n",
    "test_loader = DataLoader(test_dataset, batch_size=batch_size, shuffle=False, num_workers=4)"
   ]
  },
  {
   "cell_type": "markdown",
   "metadata": {},
   "source": [
    "## Declare the Models"
   ]
  },
  {
   "cell_type": "markdown",
   "metadata": {},
   "source": [
    "## Model 1: CNN"
   ]
  },
  {
   "cell_type": "code",
   "execution_count": 21,
   "metadata": {
    "execution": {
     "iopub.execute_input": "2024-06-12T11:53:19.536299Z",
     "iopub.status.busy": "2024-06-12T11:53:19.535305Z",
     "iopub.status.idle": "2024-06-12T11:53:19.546671Z",
     "shell.execute_reply": "2024-06-12T11:53:19.545283Z",
     "shell.execute_reply.started": "2024-06-12T11:53:19.536261Z"
    }
   },
   "outputs": [],
   "source": [
    "class SimpleCNN(nn.Module):\n",
    "    def __init__(self):\n",
    "        super(SimpleCNN, self).__init__()\n",
    "        self.conv1 = nn.Conv2d(3, 32, 3, padding=1)\n",
    "        self.pool = nn.MaxPool2d(2, 2)\n",
    "        self.conv2 = nn.Conv2d(32, 64, 3, padding=1)\n",
    "        self.fc1 = nn.Linear(64 * 32 * 32, 128)\n",
    "        self.fc2 = nn.Linear(128, 14)\n",
    "        self.sigmoid = nn.Sigmoid()\n",
    "    \n",
    "    def forward(self, x):\n",
    "        x = self.pool(F.relu(self.conv1(x)))\n",
    "        x = self.pool(F.relu(self.conv2(x)))\n",
    "        x = x.view(-1, 64 * 32 * 32)\n",
    "        x = F.relu(self.fc1(x))\n",
    "        x = self.sigmoid(self.fc2(x))\n",
    "        return x"
   ]
  },
  {
   "cell_type": "code",
   "execution_count": 22,
   "metadata": {
    "execution": {
     "iopub.execute_input": "2024-06-12T11:53:19.704571Z",
     "iopub.status.busy": "2024-06-12T11:53:19.704112Z",
     "iopub.status.idle": "2024-06-12T11:53:19.814940Z",
     "shell.execute_reply": "2024-06-12T11:53:19.813732Z",
     "shell.execute_reply.started": "2024-06-12T11:53:19.704535Z"
    }
   },
   "outputs": [],
   "source": [
    "cnn_model = SimpleCNN()\n",
    "criterion = nn.BCELoss()"
   ]
  },
  {
   "cell_type": "markdown",
   "metadata": {},
   "source": [
    "## Model 2: ResNet"
   ]
  },
  {
   "cell_type": "code",
   "execution_count": 23,
   "metadata": {
    "execution": {
     "iopub.execute_input": "2024-06-12T11:53:20.748540Z",
     "iopub.status.busy": "2024-06-12T11:53:20.748091Z",
     "iopub.status.idle": "2024-06-12T11:53:21.732992Z",
     "shell.execute_reply": "2024-06-12T11:53:21.731712Z",
     "shell.execute_reply.started": "2024-06-12T11:53:20.748506Z"
    }
   },
   "outputs": [
    {
     "name": "stderr",
     "output_type": "stream",
     "text": [
      "/opt/conda/lib/python3.10/site-packages/torchvision/models/_utils.py:208: UserWarning: The parameter 'pretrained' is deprecated since 0.13 and may be removed in the future, please use 'weights' instead.\n",
      "  warnings.warn(\n",
      "/opt/conda/lib/python3.10/site-packages/torchvision/models/_utils.py:223: UserWarning: Arguments other than a weight enum or `None` for 'weights' are deprecated since 0.13 and may be removed in the future. The current behavior is equivalent to passing `weights=ResNet50_Weights.IMAGENET1K_V1`. You can also use `weights=ResNet50_Weights.DEFAULT` to get the most up-to-date weights.\n",
      "  warnings.warn(msg)\n"
     ]
    }
   ],
   "source": [
    "resnet_model = models.resnet50(pretrained=True)\n",
    "num_ftrs = resnet_model.fc.in_features\n",
    "resnet_model.fc = nn.Sequential(\n",
    "    nn.Linear(num_ftrs, 14),\n",
    "    nn.Sigmoid()\n",
    ")"
   ]
  },
  {
   "cell_type": "markdown",
   "metadata": {},
   "source": [
    "## Model 3: VGG16"
   ]
  },
  {
   "cell_type": "code",
   "execution_count": 24,
   "metadata": {
    "execution": {
     "iopub.execute_input": "2024-06-12T11:53:23.563340Z",
     "iopub.status.busy": "2024-06-12T11:53:23.562861Z",
     "iopub.status.idle": "2024-06-12T11:53:31.875275Z",
     "shell.execute_reply": "2024-06-12T11:53:31.874077Z",
     "shell.execute_reply.started": "2024-06-12T11:53:23.563304Z"
    }
   },
   "outputs": [
    {
     "name": "stderr",
     "output_type": "stream",
     "text": [
      "/opt/conda/lib/python3.10/site-packages/torchvision/models/_utils.py:223: UserWarning: Arguments other than a weight enum or `None` for 'weights' are deprecated since 0.13 and may be removed in the future. The current behavior is equivalent to passing `weights=VGG16_Weights.IMAGENET1K_V1`. You can also use `weights=VGG16_Weights.DEFAULT` to get the most up-to-date weights.\n",
      "  warnings.warn(msg)\n"
     ]
    }
   ],
   "source": [
    "vgg16_model = models.vgg16(pretrained=True)\n",
    "num_ftrs = vgg16_model.classifier[6].in_features\n",
    "vgg16_model.classifier[6] = nn.Sequential(\n",
    "    nn.Linear(num_ftrs, 14),\n",
    "    nn.Sigmoid()\n",
    ")"
   ]
  },
  {
   "cell_type": "markdown",
   "metadata": {},
   "source": [
    "### Declare the Optimizers"
   ]
  },
  {
   "cell_type": "code",
   "execution_count": 25,
   "metadata": {
    "execution": {
     "iopub.execute_input": "2024-06-12T11:53:31.877956Z",
     "iopub.status.busy": "2024-06-12T11:53:31.877551Z",
     "iopub.status.idle": "2024-06-12T11:53:31.886363Z",
     "shell.execute_reply": "2024-06-12T11:53:31.885198Z",
     "shell.execute_reply.started": "2024-06-12T11:53:31.877924Z"
    }
   },
   "outputs": [],
   "source": [
    "cnn_optimizer = optim.Adam(cnn_model.parameters(), lr=0.001)\n",
    "resnet_optimizer = optim.Adam(resnet_model.parameters(), lr=0.001)\n",
    "vgg16_optimizer = optim.Adam(vgg16_model.parameters(), lr=0.001)"
   ]
  },
  {
   "cell_type": "markdown",
   "metadata": {},
   "source": [
    "### Define Early Stopping Class - To Prevent Overfitting"
   ]
  },
  {
   "cell_type": "code",
   "execution_count": 26,
   "metadata": {
    "execution": {
     "iopub.execute_input": "2024-06-12T11:53:31.888383Z",
     "iopub.status.busy": "2024-06-12T11:53:31.887958Z",
     "iopub.status.idle": "2024-06-12T11:53:31.904451Z",
     "shell.execute_reply": "2024-06-12T11:53:31.903175Z",
     "shell.execute_reply.started": "2024-06-12T11:53:31.888341Z"
    }
   },
   "outputs": [],
   "source": [
    "class EarlyStopping:\n",
    "    def __init__(self, patience=3, verbose=False):\n",
    "        self.patience = patience\n",
    "        self.verbose = verbose\n",
    "        self.counter = 0\n",
    "        self.best_score = None\n",
    "        self.early_stop = False\n",
    "        self.val_loss_min = float('inf')\n",
    "\n",
    "    def __call__(self, val_loss, model):\n",
    "        score = -val_loss\n",
    "\n",
    "        if self.best_score is None:\n",
    "            self.best_score = score\n",
    "            self.save_checkpoint(val_loss, model)\n",
    "        elif score < self.best_score:\n",
    "            self.counter += 1\n",
    "            if self.verbose:\n",
    "                print(f'EarlyStopping counter: {self.counter} out of {self.patience}')\n",
    "            if self.counter >= self.patience:\n",
    "                self.early_stop = True\n",
    "        else:\n",
    "            self.best_score = score\n",
    "            self.save_checkpoint(val_loss, model)\n",
    "            self.counter = 0\n",
    "\n",
    "    def save_checkpoint(self, val_loss, model):\n",
    "        if self.verbose:\n",
    "            print(f'Validation loss decreased ({self.val_loss_min:.6f} --> {val_loss:.6f}).  Saving model ...')\n",
    "        torch.save(model.state_dict(), 'checkpoint.pt')\n",
    "        self.val_loss_min = val_loss\n"
   ]
  },
  {
   "cell_type": "markdown",
   "metadata": {},
   "source": [
    "## Train the Models"
   ]
  },
  {
   "cell_type": "code",
   "execution_count": 27,
   "metadata": {
    "execution": {
     "iopub.execute_input": "2024-06-12T11:53:31.907627Z",
     "iopub.status.busy": "2024-06-12T11:53:31.907203Z",
     "iopub.status.idle": "2024-06-12T11:53:31.926296Z",
     "shell.execute_reply": "2024-06-12T11:53:31.925067Z",
     "shell.execute_reply.started": "2024-06-12T11:53:31.907580Z"
    }
   },
   "outputs": [],
   "source": [
    "def train_model(model, dataloader, criterion, optimizer, num_epochs=10, threshold=0.5, patience=3):\n",
    "    train_losses = []\n",
    "    val_losses = []\n",
    "    train_accuracies = []\n",
    "    val_accuracies = []\n",
    "\n",
    "    early_stopping = EarlyStopping(patience=patience, verbose=True)\n",
    "    \n",
    "    for epoch in range(num_epochs):\n",
    "        # Training phase\n",
    "        model.train()\n",
    "        running_loss = 0.0\n",
    "        correct_predictions = 0\n",
    "        total_predictions = 0\n",
    "        \n",
    "        for batch in dataloader['train']:\n",
    "            images = batch['image']\n",
    "            labels = batch['labels'].float()  # Ensure labels are float32\n",
    "            \n",
    "            optimizer.zero_grad()\n",
    "            outputs = model(images)\n",
    "            loss = criterion(outputs, labels)\n",
    "            loss.backward()\n",
    "            optimizer.step()\n",
    "            \n",
    "            running_loss += loss.item()\n",
    "            \n",
    "            # Calculate training accuracy\n",
    "            preds = outputs > threshold\n",
    "            correct_predictions += (preds == labels).sum().item()\n",
    "            total_predictions += labels.numel()\n",
    "        \n",
    "        train_loss = running_loss / len(dataloader['train'])\n",
    "        train_losses.append(train_loss)\n",
    "        train_accuracy = correct_predictions / total_predictions\n",
    "        train_accuracies.append(train_accuracy)\n",
    "        \n",
    "        # Validation phase\n",
    "        model.eval()\n",
    "        val_loss = 0.0\n",
    "        correct_predictions = 0\n",
    "        total_predictions = 0\n",
    "        \n",
    "        with torch.no_grad():\n",
    "            for batch in dataloader['val']:\n",
    "                images = batch['image']\n",
    "                labels = batch['labels'].float()  # Ensure labels are float32\n",
    "                outputs = model(images)\n",
    "                loss = criterion(outputs, labels)\n",
    "                val_loss += loss.item()\n",
    "                \n",
    "                # Calculate validation accuracy\n",
    "                preds = outputs > threshold\n",
    "                correct_predictions += (preds == labels).sum().item()\n",
    "                total_predictions += labels.numel()\n",
    "        \n",
    "        val_loss = val_loss / len(dataloader['val'])\n",
    "        val_losses.append(val_loss)\n",
    "        val_accuracy = correct_predictions / total_predictions\n",
    "        val_accuracies.append(val_accuracy)\n",
    "        \n",
    "        print(f'Epoch {epoch+1}, Train Loss: {train_loss}, Train Accuracy: {train_accuracy}, Val Loss: {val_loss}, Val Accuracy: {val_accuracy}')\n",
    "        \n",
    "        early_stopping(val_loss, model)\n",
    "        \n",
    "        if early_stopping.early_stop:\n",
    "            print(\"Early stopping triggered\")\n",
    "            break\n",
    "    \n",
    "    model.load_state_dict(torch.load('checkpoint.pt'))\n",
    "    return train_losses, val_losses, train_accuracies, val_accuracies"
   ]
  },
  {
   "cell_type": "code",
   "execution_count": 28,
   "metadata": {
    "execution": {
     "iopub.execute_input": "2024-06-12T11:53:31.927980Z",
     "iopub.status.busy": "2024-06-12T11:53:31.927630Z",
     "iopub.status.idle": "2024-06-12T11:53:31.944102Z",
     "shell.execute_reply": "2024-06-12T11:53:31.942826Z",
     "shell.execute_reply.started": "2024-06-12T11:53:31.927942Z"
    }
   },
   "outputs": [],
   "source": [
    "dataloader = {'train': train_loader, 'val': test_loader}"
   ]
  },
  {
   "cell_type": "markdown",
   "metadata": {},
   "source": [
    "### Train Model 1 - CNN"
   ]
  },
  {
   "cell_type": "code",
   "execution_count": null,
   "metadata": {},
   "outputs": [],
   "source": [
    "cnn_train_losses, cnn_val_losses, cnn_train_accuracies, cnn_val_accuracies = train_model(cnn_model, dataloader, criterion, cnn_optimizer)"
   ]
  },
  {
   "cell_type": "markdown",
   "metadata": {},
   "source": [
    "### Train Model 2 - ResNet"
   ]
  },
  {
   "cell_type": "code",
   "execution_count": null,
   "metadata": {},
   "outputs": [],
   "source": [
    "resnet_train_losses, resnet_val_losses, resnet_train_accuracies, resnet_val_accuracies = train_model(resnet_model, dataloader, criterion, resnet_optimizer)"
   ]
  },
  {
   "cell_type": "markdown",
   "metadata": {},
   "source": [
    "### Train Model 3 - VGG16"
   ]
  },
  {
   "cell_type": "code",
   "execution_count": null,
   "metadata": {
    "execution": {
     "iopub.execute_input": "2024-06-12T11:53:36.248472Z",
     "iopub.status.busy": "2024-06-12T11:53:36.248036Z"
    }
   },
   "outputs": [
    {
     "name": "stderr",
     "output_type": "stream",
     "text": [
      "/opt/conda/lib/python3.10/multiprocessing/popen_fork.py:66: RuntimeWarning: os.fork() was called. os.fork() is incompatible with multithreaded code, and JAX is multithreaded, so this will likely lead to a deadlock.\n",
      "  self.pid = os.fork()\n"
     ]
    }
   ],
   "source": [
    "vgg16_train_losses, vgg16_val_losses, vgg16_train_accuracies, vgg16_val_accuracies = train_model(vgg16_model, dataloader, criterion, vgg16_optimizer)"
   ]
  },
  {
   "cell_type": "markdown",
   "metadata": {},
   "source": [
    "# Plot the Training and Validation Accuracies"
   ]
  },
  {
   "cell_type": "code",
   "execution_count": 4,
   "metadata": {},
   "outputs": [
    {
     "data": {
      "image/png": "[encoded data removed]",
      "text/plain": [
       "<Figure size 1000x500 with 2 Axes>"
      ]
     },
     "metadata": {},
     "output_type": "display_data"
    }
   ],
   "source": [
    "# Plot CNN accuracies                                                                                                                                                                                                                                                                    \n",
    "plt.figure(figsize=(10, 5))                                          \n",
    "plt.subplot(1, 2, 1)\n",
    "plt.plot(cnn_train_accuracies, label='CNN Train Accuracy')                                                        \n",
    "plt.plot(cnn_val_accuracies, label='CNN Val Accuracy')\n",
    "plt.xlabel('Epoch')\n",
    "plt.ylabel('Accuracy')\n",
    "plt.title('CNN Training and Validation Accuracy')\n",
    "plt.legend()\n",
    "\n",
    "# Plot ResNet accuracies\n",
    "plt.subplot(1, 2, 2)\n",
    "plt.plot(resnet_train_accuracies, label='ResNet Train Accuracy')\n",
    "plt.plot(resnet_val_accuracies, label='ResNet Val Accuracy')\n",
    "plt.xlabel('Epoch')\n",
    "plt.ylabel('Accuracy')\n",
    "plt.title('ResNet Training and Validation Accuracy')\n",
    "plt.legend() \n",
    "\n",
    "plt.tight_layout()\n",
    "plt.show()"
   ]
  },
  {
   "cell_type": "code",
   "execution_count": null,
   "metadata": {},
   "outputs": [],
   "source": [
    "# Plot VGG16 accuracies\n",
    "plt.figure(figsize=(10, 5))\n",
    "plt.plot(vgg16_train_accuracies, label='Train Accuracy')\n",
    "plt.plot(vgg16_val_accuracies, label='Validation Accuracy')\n",
    "plt.xlabel('Epoch')\n",
    "plt.ylabel('Accuracy')\n",
    "plt.title('Training and Validation Accuracy per Epoch')\n",
    "plt.legend()\n",
    "plt.show()                    "
   ]
  },
  {
   "cell_type": "markdown",
   "metadata": {},
   "source": [
    "______________________________________________________________________________"
   ]
  },
  {
   "cell_type": "markdown",
   "metadata": {},
   "source": [
    "## Try an approach other than DL approaches and see the difference - Logistic Regression"
   ]
  },
  {
   "cell_type": "markdown",
   "metadata": {},
   "source": [
    "#### Prepare the Data for it"
   ]
  },
  {
   "cell_type": "code",
   "execution_count": null,
   "metadata": {
    "_kg_hide-input": false,
    "_kg_hide-output": true
   },
   "outputs": [],
   "source": [
    "def extract_features(image_path):\n",
    "    image = cv2.imread(image_path)\n",
    "    image = cv2.resize(image, (128, 128))  # Resize image\n",
    "    return image.flatten()\n",
    "\n",
    "features = np.array([extract_features(path) for path in df['image_path']])\n",
    "labels = df.iloc[:, 1:].values\n",
    "\n",
    "X_train, X_test, y_train, y_test = train_test_split(features, labels, test_size=0.2, random_state=42)\n",
    "\n",
    "# Convert multi-labels to a single multi-label binary vector\n",
    "y_train_binary = np.array([np.argmax(labels) for labels in y_train])"
   ]
  },
  {
   "cell_type": "markdown",
   "metadata": {},
   "source": [
    "### Fit Dataset Batches to the Model"
   ]
  },
  {
   "cell_type": "code",
   "execution_count": null,
   "metadata": {},
   "outputs": [],
   "source": [
    "batch_size = 1000\n",
    "\n",
    "# Shuffle the data\n",
    "X_train_shuffled, y_train_shuffled = shuffle(X_train, y_train_binary, random_state=42)\n",
    "\n",
    "# Determine the number of batches\n",
    "num_batches = len(X_train) // batch_size\n",
    "\n",
    "# Train the model on each batch\n",
    "for i in range(num_batches):\n",
    "    start_idx = i * batch_size\n",
    "    end_idx = (i + 1) * batch_size\n",
    "    X_batch = X_train_shuffled[start_idx:end_idx]\n",
    "    y_batch = y_train_shuffled[start_idx:end_idx]\n",
    "    \n",
    "    print(f\"Fitting batch {i+1}...\")\n",
    "    logreg.fit(X_batch, y_batch)\n",
    "    print(f\"Batch {i+1} fitted successfully.\")\n",
    "\n",
    "# Train the model on the remaining data (if any)\n",
    "if len(X_train) % batch_size != 0:\n",
    "    print(f\"Fitting batch {num_batches+1} (remaining data)...\")\n",
    "    logreg.fit(X_train_shuffled[num_batches * batch_size:], y_train_shuffled[num_batches * batch_size:])\n",
    "    print(f\"Batch {num_batches+1} fitted successfully.\")"
   ]
  },
  {
   "cell_type": "markdown",
   "metadata": {},
   "source": [
    "### Evaluate the Model - Logistic Regression"
   ]
  },
  {
   "cell_type": "code",
   "execution_count": null,
   "metadata": {},
   "outputs": [],
   "source": [
    "# Define batch size for testing\n",
    "test_batch_size = 1000\n",
    "y_test_binary = np.array([np.argmax(labels) for labels in y_test])\n",
    "\n",
    "# Shuffle the test data\n",
    "X_test_shuffled, y_test_shuffled = shuffle(X_test, y_test_binary, random_state=42)\n",
    "\n",
    "# Determine the number of batches for testing\n",
    "num_test_batches = len(X_test) // test_batch_size\n",
    "\n",
    "# Initialize empty array for predicted labels\n",
    "y_pred_test = np.array([])\n",
    "\n",
    "# Predict on each batch of test data\n",
    "for i in range(num_test_batches):\n",
    "    start_idx = i * test_batch_size\n",
    "    end_idx = (i + 1) * test_batch_size\n",
    "    X_test_batch = X_test_shuffled[start_idx:end_idx]\n",
    "    y_pred_test_batch = logreg.predict(X_test_batch)\n",
    "    y_pred_test = np.concatenate((y_pred_test, y_pred_test_batch))\n",
    "\n",
    "# Predict on the remaining test data (if any)\n",
    "if len(X_test) % test_batch_size != 0:\n",
    "    remaining_test_data = X_test_shuffled[num_test_batches * test_batch_size:]\n",
    "    y_pred_test_remaining = logreg.predict(remaining_test_data)\n",
    "    y_pred_test = np.concatenate((y_pred_test, y_pred_test_remaining))\n",
    "\n",
    "# Calculate evaluation metrics for the test set\n",
    "# Calculate evaluation metrics for the test set\n",
    "precision_test = precision_score(y_test_binary, y_pred_test, average='micro')\n",
    "recall_test = recall_score(y_test_binary, y_pred_test, average='micro')\n",
    "f1_test = f1_score(y_test_binary, y_pred_test, average='micro')\n",
    "\n",
    "print(f\"Test Set Precision (Micro Average): {precision_test}\")\n",
    "print(f\"Test Set Recall (Micro Average): {recall_test}\")\n",
    "print(f\"Test Set F1 Score (Micro Average): {f1_test}\")"
   ]
  },
  {
   "cell_type": "markdown",
   "metadata": {},
   "source": [
    "-------------------------------------------------------------------------------------------------"
   ]
  },
  {
   "cell_type": "markdown",
   "metadata": {},
   "source": [
    "## **Model               -    Train Accuracy    -    Testing Accuracy**\n",
    "* ##  CNN                          98%                       88%\n",
    "* ##  ResNet                       94%                       90%\n",
    "* ##  VGG16                         -                         -\n",
    "* ##  Linear Regression            58%                       10%"
   ]
  },
  {
   "cell_type": "markdown",
   "metadata": {},
   "source": [
    "# The Best Model would Be **ResNet** with accuracy 90%"
   ]
  }
 ],
 "metadata": {
  "kaggle": {
   "accelerator": "none",
   "dataSources": [
    {
     "datasetId": 4908132,
     "sourceId": 8267571,
     "sourceType": "datasetVersion"
    }
   ],
   "dockerImageVersionId": 30698,
   "isGpuEnabled": false,
   "isInternetEnabled": true,
   "language": "python",
   "sourceType": "notebook"
  },
  "kernelspec": {
   "display_name": "Python 3 (ipykernel)",
   "language": "python",
   "name": "python3"
  },
  "language_info": {
   "codemirror_mode": {
    "name": "ipython",
    "version": 3
   },
   "file_extension": ".py",
   "mimetype": "text/x-python",
   "name": "python",
   "nbconvert_exporter": "python",
   "pygments_lexer": "ipython3",
   "version": "3.11.7"
  }
 },
 "nbformat": 4,
 "nbformat_minor": 4
}
