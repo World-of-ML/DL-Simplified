{
 "cells": [
  {
   "cell_type": "code",
   "execution_count": 1,
   "metadata": {},
   "outputs": [],
   "source": [
    "import pandas as pd\n",
    "import numpy as np\n",
    "import tensorflow as tf\n",
    "import keras\n",
    "import matplotlib.pyplot as plt\n",
    "from sklearn.model_selection import train_test_split\n",
    "from sklearn.preprocessing import LabelEncoder\n",
    "from keras.models import Sequential\n",
    "from keras.layers import Dense\n"
   ]
  },
  {
   "cell_type": "code",
   "execution_count": 2,
   "metadata": {},
   "outputs": [
    {
     "data": {
      "text/plain": [
       "0          A15 Bionic   \n",
       "1          A15 Bionic   \n",
       "2          A15 Bionic   \n",
       "3                 M1    \n",
       "4                 M1    \n",
       "             ...        \n",
       "183       Exynos 8890   \n",
       "184    Snapdragon 810   \n",
       "185    Snapdragon 808   \n",
       "186    Snapdragon 835   \n",
       "187        Exynos 850   \n",
       "Name: cpuName, Length: 188, dtype: object"
      ]
     },
     "execution_count": 2,
     "metadata": {},
     "output_type": "execute_result"
    }
   ],
   "source": [
    "df = pd.read_csv('ML_ALL_benchmarks.csv')\n",
    "df.dropna(inplace=True)\n",
    "df.head()\n",
    "column = ['clock','cpuScore','gpuScore','npuScore']\n",
    "classes = df['cpuName']\n",
    "classes\n",
    "# df[:5]"
   ]
  },
  {
   "cell_type": "code",
   "execution_count": 3,
   "metadata": {},
   "outputs": [
    {
     "data": {
      "text/html": [
       "<div>\n",
       "<style scoped>\n",
       "    .dataframe tbody tr th:only-of-type {\n",
       "        vertical-align: middle;\n",
       "    }\n",
       "\n",
       "    .dataframe tbody tr th {\n",
       "        vertical-align: top;\n",
       "    }\n",
       "\n",
       "    .dataframe thead th {\n",
       "        text-align: right;\n",
       "    }\n",
       "</style>\n",
       "<table border=\"1\" class=\"dataframe\">\n",
       "  <thead>\n",
       "    <tr style=\"text-align: right;\">\n",
       "      <th></th>\n",
       "      <th>cpuName</th>\n",
       "      <th>clock</th>\n",
       "      <th>cpuScore</th>\n",
       "      <th>gpuScore</th>\n",
       "      <th>npuScore</th>\n",
       "    </tr>\n",
       "  </thead>\n",
       "  <tbody>\n",
       "    <tr>\n",
       "      <th>0</th>\n",
       "      <td>A15 Bionic</td>\n",
       "      <td>3230</td>\n",
       "      <td>935</td>\n",
       "      <td>2273</td>\n",
       "      <td>2676</td>\n",
       "    </tr>\n",
       "    <tr>\n",
       "      <th>1</th>\n",
       "      <td>A15 Bionic</td>\n",
       "      <td>3230</td>\n",
       "      <td>931</td>\n",
       "      <td>2261</td>\n",
       "      <td>2665</td>\n",
       "    </tr>\n",
       "    <tr>\n",
       "      <th>2</th>\n",
       "      <td>A15 Bionic</td>\n",
       "      <td>3230</td>\n",
       "      <td>924</td>\n",
       "      <td>1852</td>\n",
       "      <td>2660</td>\n",
       "    </tr>\n",
       "    <tr>\n",
       "      <th>3</th>\n",
       "      <td>M1</td>\n",
       "      <td>3190</td>\n",
       "      <td>1013</td>\n",
       "      <td>2824</td>\n",
       "      <td>2657</td>\n",
       "    </tr>\n",
       "    <tr>\n",
       "      <th>4</th>\n",
       "      <td>M1</td>\n",
       "      <td>3190</td>\n",
       "      <td>1011</td>\n",
       "      <td>2842</td>\n",
       "      <td>2656</td>\n",
       "    </tr>\n",
       "    <tr>\n",
       "      <th>...</th>\n",
       "      <td>...</td>\n",
       "      <td>...</td>\n",
       "      <td>...</td>\n",
       "      <td>...</td>\n",
       "      <td>...</td>\n",
       "    </tr>\n",
       "    <tr>\n",
       "      <th>183</th>\n",
       "      <td>Exynos 8890</td>\n",
       "      <td>1300</td>\n",
       "      <td>133</td>\n",
       "      <td>400</td>\n",
       "      <td>71</td>\n",
       "    </tr>\n",
       "    <tr>\n",
       "      <th>184</th>\n",
       "      <td>Snapdragon 810</td>\n",
       "      <td>1555</td>\n",
       "      <td>85</td>\n",
       "      <td>111</td>\n",
       "      <td>71</td>\n",
       "    </tr>\n",
       "    <tr>\n",
       "      <th>185</th>\n",
       "      <td>Snapdragon 808</td>\n",
       "      <td>1440</td>\n",
       "      <td>78</td>\n",
       "      <td>75</td>\n",
       "      <td>68</td>\n",
       "    </tr>\n",
       "    <tr>\n",
       "      <th>186</th>\n",
       "      <td>Snapdragon 835</td>\n",
       "      <td>1900</td>\n",
       "      <td>146</td>\n",
       "      <td>504</td>\n",
       "      <td>66</td>\n",
       "    </tr>\n",
       "    <tr>\n",
       "      <th>187</th>\n",
       "      <td>Exynos 850</td>\n",
       "      <td>2002</td>\n",
       "      <td>96</td>\n",
       "      <td>177</td>\n",
       "      <td>56</td>\n",
       "    </tr>\n",
       "  </tbody>\n",
       "</table>\n",
       "<p>188 rows × 5 columns</p>\n",
       "</div>"
      ],
      "text/plain": [
       "               cpuName  clock  cpuScore  gpuScore  npuScore\n",
       "0        A15 Bionic      3230       935      2273      2676\n",
       "1        A15 Bionic      3230       931      2261      2665\n",
       "2        A15 Bionic      3230       924      1852      2660\n",
       "3               M1       3190      1013      2824      2657\n",
       "4               M1       3190      1011      2842      2656\n",
       "..                 ...    ...       ...       ...       ...\n",
       "183     Exynos 8890      1300       133       400        71\n",
       "184  Snapdragon 810      1555        85       111        71\n",
       "185  Snapdragon 808      1440        78        75        68\n",
       "186  Snapdragon 835      1900       146       504        66\n",
       "187      Exynos 850      2002        96       177        56\n",
       "\n",
       "[188 rows x 5 columns]"
      ]
     },
     "execution_count": 3,
     "metadata": {},
     "output_type": "execute_result"
    }
   ],
   "source": [
    "df = df.drop(['company','device','cores'],axis=True)\n",
    "df"
   ]
  },
  {
   "cell_type": "code",
   "execution_count": 4,
   "metadata": {},
   "outputs": [
    {
     "data": {
      "text/plain": [
       "0       8\n",
       "1       8\n",
       "2       8\n",
       "3      33\n",
       "4      33\n",
       "       ..\n",
       "183    18\n",
       "184    51\n",
       "185    50\n",
       "186    52\n",
       "187    17\n",
       "Name: cpuName, Length: 188, dtype: int32"
      ]
     },
     "execution_count": 4,
     "metadata": {},
     "output_type": "execute_result"
    }
   ],
   "source": [
    "from sklearn import preprocessing\n",
    "label_encoder = preprocessing.LabelEncoder()\n",
    "  \n",
    "df['cpuName']= label_encoder.fit_transform(df['cpuName'])\n",
    "\n",
    "inp = df.drop(['cpuName'],axis=1)\n",
    "inp\n",
    "out = df['cpuName']\n",
    "out\n"
   ]
  },
  {
   "cell_type": "code",
   "execution_count": 5,
   "metadata": {},
   "outputs": [
    {
     "data": {
      "text/plain": [
       "63"
      ]
     },
     "execution_count": 5,
     "metadata": {},
     "output_type": "execute_result"
    }
   ],
   "source": [
    "integerMapping=dict(zip(out,classes))\n",
    "len(integerMapping)"
   ]
  },
  {
   "cell_type": "code",
   "execution_count": 6,
   "metadata": {},
   "outputs": [],
   "source": [
    "X_train,X_test,Y_train,Y_test = train_test_split(inp,out,random_state=0)"
   ]
  },
  {
   "cell_type": "code",
   "execution_count": 7,
   "metadata": {},
   "outputs": [
    {
     "data": {
      "text/plain": [
       "141"
      ]
     },
     "execution_count": 7,
     "metadata": {},
     "output_type": "execute_result"
    }
   ],
   "source": [
    "from sklearn.preprocessing import StandardScaler\n",
    "sc = StandardScaler()\n",
    "X_train = sc.fit_transform(X_train)\n",
    "X_test = sc.transform(X_test)\n",
    "len(X_train)"
   ]
  },
  {
   "cell_type": "code",
   "execution_count": 8,
   "metadata": {},
   "outputs": [],
   "source": [
    "# Initializing the ANN\n",
    "ann1 = tf.keras.models.Sequential()\n",
    "# Add the input layer and first hidden layer\n",
    "ann1.add(tf.keras.layers.Dense(units=64, activation='relu', input_shape=X_train[0].shape))\n",
    "\n",
    "ann1.add(tf.keras.layers.Dense(units=32, activation='relu'))\n",
    "ann1.add(tf.keras.layers.Dense(units=64, activation='relu'))\n",
    "ann1.add(tf.keras.layers.Dense(units=128, activation='relu'))\n",
    "\n",
    "# Add the output layer\n",
    "\n",
    "ann1.add(tf.keras.layers.Dense(units=63, activation='sigmoid'))"
   ]
  },
  {
   "cell_type": "code",
   "execution_count": 9,
   "metadata": {},
   "outputs": [
    {
     "name": "stdout",
     "output_type": "stream",
     "text": [
      "Epoch 1/100\n",
      "5/5 [==============================] - 1s 3ms/step - loss: 4.1415 - accuracy: 0.0071\n",
      "Epoch 2/100\n",
      "5/5 [==============================] - 0s 2ms/step - loss: 4.0689 - accuracy: 0.1348\n",
      "Epoch 3/100\n",
      "5/5 [==============================] - 0s 2ms/step - loss: 4.0086 - accuracy: 0.2128\n",
      "Epoch 4/100\n",
      "5/5 [==============================] - 0s 2ms/step - loss: 3.9313 - accuracy: 0.1915\n",
      "Epoch 5/100\n",
      "5/5 [==============================] - 0s 2ms/step - loss: 3.8391 - accuracy: 0.1418\n",
      "Epoch 6/100\n",
      "5/5 [==============================] - 0s 2ms/step - loss: 3.7313 - accuracy: 0.1418\n",
      "Epoch 7/100\n",
      "5/5 [==============================] - 0s 2ms/step - loss: 3.6000 - accuracy: 0.1418\n",
      "Epoch 8/100\n",
      "5/5 [==============================] - 0s 2ms/step - loss: 3.4592 - accuracy: 0.1418\n",
      "Epoch 9/100\n",
      "5/5 [==============================] - 0s 2ms/step - loss: 3.3210 - accuracy: 0.1560\n",
      "Epoch 10/100\n",
      "5/5 [==============================] - 0s 2ms/step - loss: 3.1990 - accuracy: 0.1986\n",
      "Epoch 11/100\n",
      "5/5 [==============================] - 0s 2ms/step - loss: 3.0855 - accuracy: 0.1844\n",
      "Epoch 12/100\n",
      "5/5 [==============================] - 0s 2ms/step - loss: 2.9821 - accuracy: 0.2057\n",
      "Epoch 13/100\n",
      "5/5 [==============================] - 0s 2ms/step - loss: 2.8697 - accuracy: 0.2766\n",
      "Epoch 14/100\n",
      "5/5 [==============================] - 0s 2ms/step - loss: 2.7778 - accuracy: 0.3262\n",
      "Epoch 15/100\n",
      "5/5 [==============================] - 0s 2ms/step - loss: 2.7012 - accuracy: 0.3475\n",
      "Epoch 16/100\n",
      "5/5 [==============================] - 0s 2ms/step - loss: 2.6236 - accuracy: 0.3830\n",
      "Epoch 17/100\n",
      "5/5 [==============================] - 0s 2ms/step - loss: 2.5477 - accuracy: 0.3688\n",
      "Epoch 18/100\n",
      "5/5 [==============================] - 0s 2ms/step - loss: 2.4699 - accuracy: 0.3191\n",
      "Epoch 19/100\n",
      "5/5 [==============================] - 0s 2ms/step - loss: 2.3957 - accuracy: 0.3546\n",
      "Epoch 20/100\n",
      "5/5 [==============================] - 0s 8ms/step - loss: 2.3241 - accuracy: 0.3617\n",
      "Epoch 21/100\n",
      "5/5 [==============================] - 0s 3ms/step - loss: 2.2590 - accuracy: 0.3617\n",
      "Epoch 22/100\n",
      "5/5 [==============================] - 0s 2ms/step - loss: 2.1849 - accuracy: 0.4255\n",
      "Epoch 23/100\n",
      "5/5 [==============================] - 0s 2ms/step - loss: 2.1410 - accuracy: 0.3830\n",
      "Epoch 24/100\n",
      "5/5 [==============================] - 0s 2ms/step - loss: 2.0606 - accuracy: 0.4326\n",
      "Epoch 25/100\n",
      "5/5 [==============================] - 0s 2ms/step - loss: 2.0200 - accuracy: 0.3546\n",
      "Epoch 26/100\n",
      "5/5 [==============================] - 0s 2ms/step - loss: 1.9535 - accuracy: 0.3830\n",
      "Epoch 27/100\n",
      "5/5 [==============================] - 0s 2ms/step - loss: 1.8824 - accuracy: 0.4823\n",
      "Epoch 28/100\n",
      "5/5 [==============================] - 0s 2ms/step - loss: 1.8406 - accuracy: 0.4255\n",
      "Epoch 29/100\n",
      "5/5 [==============================] - 0s 2ms/step - loss: 1.7788 - accuracy: 0.4539\n",
      "Epoch 30/100\n",
      "5/5 [==============================] - 0s 2ms/step - loss: 1.7229 - accuracy: 0.4965\n",
      "Epoch 31/100\n",
      "5/5 [==============================] - 0s 2ms/step - loss: 1.6871 - accuracy: 0.5177\n",
      "Epoch 32/100\n",
      "5/5 [==============================] - 0s 2ms/step - loss: 1.6299 - accuracy: 0.5035\n",
      "Epoch 33/100\n",
      "5/5 [==============================] - 0s 2ms/step - loss: 1.5747 - accuracy: 0.5390\n",
      "Epoch 34/100\n",
      "5/5 [==============================] - 0s 2ms/step - loss: 1.5281 - accuracy: 0.5319\n",
      "Epoch 35/100\n",
      "5/5 [==============================] - 0s 2ms/step - loss: 1.4776 - accuracy: 0.5957\n",
      "Epoch 36/100\n",
      "5/5 [==============================] - 0s 2ms/step - loss: 1.4186 - accuracy: 0.5603\n",
      "Epoch 37/100\n",
      "5/5 [==============================] - 0s 2ms/step - loss: 1.4028 - accuracy: 0.5603\n",
      "Epoch 38/100\n",
      "5/5 [==============================] - 0s 2ms/step - loss: 1.3607 - accuracy: 0.5816\n",
      "Epoch 39/100\n",
      "5/5 [==============================] - 0s 2ms/step - loss: 1.3006 - accuracy: 0.5957\n",
      "Epoch 40/100\n",
      "5/5 [==============================] - 0s 2ms/step - loss: 1.2609 - accuracy: 0.6028\n",
      "Epoch 41/100\n",
      "5/5 [==============================] - 0s 2ms/step - loss: 1.2260 - accuracy: 0.6028\n",
      "Epoch 42/100\n",
      "5/5 [==============================] - 0s 2ms/step - loss: 1.2077 - accuracy: 0.6312\n",
      "Epoch 43/100\n",
      "5/5 [==============================] - 0s 2ms/step - loss: 1.1530 - accuracy: 0.6454\n",
      "Epoch 44/100\n",
      "5/5 [==============================] - 0s 2ms/step - loss: 1.1455 - accuracy: 0.6383\n",
      "Epoch 45/100\n",
      "5/5 [==============================] - 0s 2ms/step - loss: 1.0884 - accuracy: 0.7021\n",
      "Epoch 46/100\n",
      "5/5 [==============================] - 0s 2ms/step - loss: 1.0234 - accuracy: 0.7234\n",
      "Epoch 47/100\n",
      "5/5 [==============================] - 0s 2ms/step - loss: 1.0314 - accuracy: 0.6809\n",
      "Epoch 48/100\n",
      "5/5 [==============================] - 0s 2ms/step - loss: 1.0062 - accuracy: 0.7234\n",
      "Epoch 49/100\n",
      "5/5 [==============================] - 0s 2ms/step - loss: 0.9618 - accuracy: 0.7234\n",
      "Epoch 50/100\n",
      "5/5 [==============================] - 0s 2ms/step - loss: 0.9206 - accuracy: 0.7376\n",
      "Epoch 51/100\n",
      "5/5 [==============================] - 0s 2ms/step - loss: 0.9125 - accuracy: 0.7589\n",
      "Epoch 52/100\n",
      "5/5 [==============================] - 0s 2ms/step - loss: 0.8804 - accuracy: 0.7305\n",
      "Epoch 53/100\n",
      "5/5 [==============================] - 0s 2ms/step - loss: 0.8562 - accuracy: 0.7376\n",
      "Epoch 54/100\n",
      "5/5 [==============================] - 0s 5ms/step - loss: 0.8373 - accuracy: 0.7305\n",
      "Epoch 55/100\n",
      "5/5 [==============================] - 0s 3ms/step - loss: 0.8287 - accuracy: 0.7376\n",
      "Epoch 56/100\n",
      "5/5 [==============================] - 0s 2ms/step - loss: 0.8085 - accuracy: 0.7589\n",
      "Epoch 57/100\n",
      "5/5 [==============================] - 0s 2ms/step - loss: 0.7757 - accuracy: 0.7801\n",
      "Epoch 58/100\n",
      "5/5 [==============================] - 0s 2ms/step - loss: 0.7617 - accuracy: 0.7872\n",
      "Epoch 59/100\n",
      "5/5 [==============================] - 0s 2ms/step - loss: 0.7360 - accuracy: 0.7801\n",
      "Epoch 60/100\n",
      "5/5 [==============================] - 0s 2ms/step - loss: 0.7049 - accuracy: 0.8085\n",
      "Epoch 61/100\n",
      "5/5 [==============================] - 0s 2ms/step - loss: 0.6820 - accuracy: 0.7872\n",
      "Epoch 62/100\n",
      "5/5 [==============================] - 0s 2ms/step - loss: 0.6859 - accuracy: 0.7730\n",
      "Epoch 63/100\n",
      "5/5 [==============================] - 0s 2ms/step - loss: 0.6404 - accuracy: 0.8369\n",
      "Epoch 64/100\n",
      "5/5 [==============================] - 0s 2ms/step - loss: 0.6343 - accuracy: 0.8156\n",
      "Epoch 65/100\n",
      "5/5 [==============================] - 0s 2ms/step - loss: 0.6187 - accuracy: 0.8369\n",
      "Epoch 66/100\n",
      "5/5 [==============================] - 0s 2ms/step - loss: 0.6019 - accuracy: 0.8369\n",
      "Epoch 67/100\n",
      "5/5 [==============================] - 0s 2ms/step - loss: 0.5888 - accuracy: 0.8085\n",
      "Epoch 68/100\n",
      "5/5 [==============================] - 0s 2ms/step - loss: 0.5698 - accuracy: 0.8369\n",
      "Epoch 69/100\n",
      "5/5 [==============================] - 0s 2ms/step - loss: 0.5680 - accuracy: 0.8156\n",
      "Epoch 70/100\n",
      "5/5 [==============================] - 0s 2ms/step - loss: 0.5502 - accuracy: 0.8298\n",
      "Epoch 71/100\n",
      "5/5 [==============================] - 0s 2ms/step - loss: 0.5529 - accuracy: 0.8298\n",
      "Epoch 72/100\n",
      "5/5 [==============================] - 0s 2ms/step - loss: 0.5239 - accuracy: 0.8511\n",
      "Epoch 73/100\n",
      "5/5 [==============================] - 0s 2ms/step - loss: 0.5619 - accuracy: 0.8227\n",
      "Epoch 74/100\n",
      "5/5 [==============================] - 0s 2ms/step - loss: 0.5146 - accuracy: 0.8369\n",
      "Epoch 75/100\n",
      "5/5 [==============================] - 0s 2ms/step - loss: 0.5297 - accuracy: 0.8369\n",
      "Epoch 76/100\n",
      "5/5 [==============================] - 0s 2ms/step - loss: 0.4928 - accuracy: 0.8723\n",
      "Epoch 77/100\n",
      "5/5 [==============================] - 0s 2ms/step - loss: 0.4877 - accuracy: 0.8440\n",
      "Epoch 78/100\n",
      "5/5 [==============================] - 0s 2ms/step - loss: 0.4785 - accuracy: 0.8298\n",
      "Epoch 79/100\n",
      "5/5 [==============================] - 0s 2ms/step - loss: 0.4577 - accuracy: 0.8652\n",
      "Epoch 80/100\n",
      "5/5 [==============================] - 0s 2ms/step - loss: 0.4617 - accuracy: 0.8369\n",
      "Epoch 81/100\n",
      "5/5 [==============================] - 0s 2ms/step - loss: 0.4650 - accuracy: 0.8085\n",
      "Epoch 82/100\n",
      "5/5 [==============================] - 0s 4ms/step - loss: 0.4821 - accuracy: 0.8440\n",
      "Epoch 83/100\n",
      "5/5 [==============================] - 0s 3ms/step - loss: 0.4658 - accuracy: 0.8298\n",
      "Epoch 84/100\n",
      "5/5 [==============================] - 0s 2ms/step - loss: 0.4525 - accuracy: 0.8298\n",
      "Epoch 85/100\n",
      "5/5 [==============================] - 0s 2ms/step - loss: 0.4238 - accuracy: 0.9007\n",
      "Epoch 86/100\n",
      "5/5 [==============================] - 0s 2ms/step - loss: 0.4243 - accuracy: 0.8652\n",
      "Epoch 87/100\n",
      "5/5 [==============================] - 0s 2ms/step - loss: 0.4158 - accuracy: 0.8582\n",
      "Epoch 88/100\n",
      "5/5 [==============================] - 0s 2ms/step - loss: 0.4152 - accuracy: 0.8582\n",
      "Epoch 89/100\n",
      "5/5 [==============================] - 0s 2ms/step - loss: 0.3819 - accuracy: 0.8582\n",
      "Epoch 90/100\n",
      "5/5 [==============================] - 0s 2ms/step - loss: 0.4142 - accuracy: 0.8582\n",
      "Epoch 91/100\n",
      "5/5 [==============================] - 0s 2ms/step - loss: 0.4209 - accuracy: 0.8652\n",
      "Epoch 92/100\n",
      "5/5 [==============================] - 0s 2ms/step - loss: 0.3835 - accuracy: 0.8794\n",
      "Epoch 93/100\n",
      "5/5 [==============================] - 0s 2ms/step - loss: 0.4037 - accuracy: 0.8440\n",
      "Epoch 94/100\n",
      "5/5 [==============================] - 0s 2ms/step - loss: 0.3673 - accuracy: 0.8865\n",
      "Epoch 95/100\n",
      "5/5 [==============================] - 0s 2ms/step - loss: 0.3996 - accuracy: 0.8582\n",
      "Epoch 96/100\n",
      "5/5 [==============================] - 0s 2ms/step - loss: 0.3575 - accuracy: 0.8652\n",
      "Epoch 97/100\n",
      "5/5 [==============================] - 0s 2ms/step - loss: 0.3666 - accuracy: 0.8582\n",
      "Epoch 98/100\n",
      "5/5 [==============================] - 0s 2ms/step - loss: 0.3460 - accuracy: 0.8865\n",
      "Epoch 99/100\n",
      "5/5 [==============================] - 0s 2ms/step - loss: 0.3509 - accuracy: 0.9007\n",
      "Epoch 100/100\n",
      "5/5 [==============================] - 0s 3ms/step - loss: 0.3403 - accuracy: 0.8936\n"
     ]
    },
    {
     "data": {
      "text/plain": [
       "<keras.callbacks.History at 0x20606017df0>"
      ]
     },
     "execution_count": 9,
     "metadata": {},
     "output_type": "execute_result"
    }
   ],
   "source": [
    "ann1.compile(optimizer = 'adam', loss = 'sparse_categorical_crossentropy', metrics = ['accuracy'])\n",
    "ann1.fit(X_train, Y_train, batch_size = 32, epochs = 100)"
   ]
  },
  {
   "cell_type": "code",
   "execution_count": 10,
   "metadata": {},
   "outputs": [
    {
     "name": "stdout",
     "output_type": "stream",
     "text": [
      "2/2 [==============================] - 0s 4ms/step - loss: 11.4866 - accuracy: 0.5532\n"
     ]
    },
    {
     "data": {
      "text/plain": [
       "[11.486621856689453, 0.5531914830207825]"
      ]
     },
     "execution_count": 10,
     "metadata": {},
     "output_type": "execute_result"
    }
   ],
   "source": [
    "ann1.evaluate(X_test,Y_test)"
   ]
  },
  {
   "cell_type": "code",
   "execution_count": 11,
   "metadata": {},
   "outputs": [],
   "source": [
    "# Initializing the ANN\n",
    "ann2 = tf.keras.models.Sequential()\n",
    "# Add the input layer and first hidden layer\n",
    "\n",
    "ann2.add(tf.keras.layers.Dense(units=4, activation='relu', input_shape=X_train[0].shape))\n",
    "# Add the second hidden layer\n",
    "ann2.add(tf.keras.layers.Dense(units=128, activation='relu'))\n",
    "# Add the output layer\n",
    "ann2.add(tf.keras.layers.Dense(units=63, activation='sigmoid'))"
   ]
  },
  {
   "cell_type": "code",
   "execution_count": 12,
   "metadata": {},
   "outputs": [
    {
     "name": "stdout",
     "output_type": "stream",
     "text": [
      "Epoch 1/100\n",
      "5/5 [==============================] - 1s 3ms/step - loss: 4.1332 - accuracy: 0.0071\n",
      "Epoch 2/100\n",
      "5/5 [==============================] - 0s 4ms/step - loss: 4.0985 - accuracy: 0.0355\n",
      "Epoch 3/100\n",
      "5/5 [==============================] - 0s 3ms/step - loss: 4.0664 - accuracy: 0.0993\n",
      "Epoch 4/100\n",
      "5/5 [==============================] - 0s 3ms/step - loss: 4.0342 - accuracy: 0.1135\n",
      "Epoch 5/100\n",
      "5/5 [==============================] - 0s 3ms/step - loss: 4.0007 - accuracy: 0.1135\n",
      "Epoch 6/100\n",
      "5/5 [==============================] - 0s 3ms/step - loss: 3.9640 - accuracy: 0.1135\n",
      "Epoch 7/100\n",
      "5/5 [==============================] - 0s 3ms/step - loss: 3.9251 - accuracy: 0.1135\n",
      "Epoch 8/100\n",
      "5/5 [==============================] - 0s 3ms/step - loss: 3.8816 - accuracy: 0.1277\n",
      "Epoch 9/100\n",
      "5/5 [==============================] - 0s 2ms/step - loss: 3.8362 - accuracy: 0.1348\n",
      "Epoch 10/100\n",
      "5/5 [==============================] - 0s 2ms/step - loss: 3.7840 - accuracy: 0.1418\n",
      "Epoch 11/100\n",
      "5/5 [==============================] - 0s 2ms/step - loss: 3.7319 - accuracy: 0.1560\n",
      "Epoch 12/100\n",
      "5/5 [==============================] - 0s 2ms/step - loss: 3.6744 - accuracy: 0.1560\n",
      "Epoch 13/100\n",
      "5/5 [==============================] - 0s 2ms/step - loss: 3.6135 - accuracy: 0.1631\n",
      "Epoch 14/100\n",
      "5/5 [==============================] - 0s 3ms/step - loss: 3.5529 - accuracy: 0.1631\n",
      "Epoch 15/100\n",
      "5/5 [==============================] - 0s 2ms/step - loss: 3.4896 - accuracy: 0.1631\n",
      "Epoch 16/100\n",
      "5/5 [==============================] - 0s 2ms/step - loss: 3.4269 - accuracy: 0.1631\n",
      "Epoch 17/100\n",
      "5/5 [==============================] - 0s 2ms/step - loss: 3.3653 - accuracy: 0.1702\n",
      "Epoch 18/100\n",
      "5/5 [==============================] - 0s 3ms/step - loss: 3.3069 - accuracy: 0.1773\n",
      "Epoch 19/100\n",
      "5/5 [==============================] - 0s 2ms/step - loss: 3.2494 - accuracy: 0.1915\n",
      "Epoch 20/100\n",
      "5/5 [==============================] - 0s 2ms/step - loss: 3.1942 - accuracy: 0.2199\n",
      "Epoch 21/100\n",
      "5/5 [==============================] - 0s 4ms/step - loss: 3.1395 - accuracy: 0.2411\n",
      "Epoch 22/100\n",
      "5/5 [==============================] - 0s 3ms/step - loss: 3.0900 - accuracy: 0.3262\n",
      "Epoch 23/100\n",
      "5/5 [==============================] - 0s 3ms/step - loss: 3.0404 - accuracy: 0.3617\n",
      "Epoch 24/100\n",
      "5/5 [==============================] - 0s 2ms/step - loss: 2.9949 - accuracy: 0.3546\n",
      "Epoch 25/100\n",
      "5/5 [==============================] - 0s 3ms/step - loss: 2.9505 - accuracy: 0.3617\n",
      "Epoch 26/100\n",
      "5/5 [==============================] - 0s 3ms/step - loss: 2.9079 - accuracy: 0.3404\n",
      "Epoch 27/100\n",
      "5/5 [==============================] - 0s 3ms/step - loss: 2.8674 - accuracy: 0.3475\n",
      "Epoch 28/100\n",
      "5/5 [==============================] - 0s 2ms/step - loss: 2.8246 - accuracy: 0.3404\n",
      "Epoch 29/100\n",
      "5/5 [==============================] - 0s 3ms/step - loss: 2.7883 - accuracy: 0.3404\n",
      "Epoch 30/100\n",
      "5/5 [==============================] - 0s 2ms/step - loss: 2.7520 - accuracy: 0.3333\n",
      "Epoch 31/100\n",
      "5/5 [==============================] - 0s 2ms/step - loss: 2.7156 - accuracy: 0.3546\n",
      "Epoch 32/100\n",
      "5/5 [==============================] - 0s 2ms/step - loss: 2.6819 - accuracy: 0.3475\n",
      "Epoch 33/100\n",
      "5/5 [==============================] - 0s 2ms/step - loss: 2.6492 - accuracy: 0.3475\n",
      "Epoch 34/100\n",
      "5/5 [==============================] - 0s 2ms/step - loss: 2.6170 - accuracy: 0.3546\n",
      "Epoch 35/100\n",
      "5/5 [==============================] - 0s 2ms/step - loss: 2.5873 - accuracy: 0.3546\n",
      "Epoch 36/100\n",
      "5/5 [==============================] - 0s 3ms/step - loss: 2.5579 - accuracy: 0.3688\n",
      "Epoch 37/100\n",
      "5/5 [==============================] - 0s 3ms/step - loss: 2.5274 - accuracy: 0.3688\n",
      "Epoch 38/100\n",
      "5/5 [==============================] - 0s 3ms/step - loss: 2.5013 - accuracy: 0.3617\n",
      "Epoch 39/100\n",
      "5/5 [==============================] - 0s 2ms/step - loss: 2.4722 - accuracy: 0.3617\n",
      "Epoch 40/100\n",
      "5/5 [==============================] - 0s 2ms/step - loss: 2.4470 - accuracy: 0.3759\n",
      "Epoch 41/100\n",
      "5/5 [==============================] - 0s 2ms/step - loss: 2.4225 - accuracy: 0.3688\n",
      "Epoch 42/100\n",
      "5/5 [==============================] - 0s 2ms/step - loss: 2.3986 - accuracy: 0.3830\n",
      "Epoch 43/100\n",
      "5/5 [==============================] - 0s 2ms/step - loss: 2.3736 - accuracy: 0.3901\n",
      "Epoch 44/100\n",
      "5/5 [==============================] - 0s 2ms/step - loss: 2.3499 - accuracy: 0.3972\n",
      "Epoch 45/100\n",
      "5/5 [==============================] - 0s 2ms/step - loss: 2.3280 - accuracy: 0.3830\n",
      "Epoch 46/100\n",
      "5/5 [==============================] - 0s 3ms/step - loss: 2.3037 - accuracy: 0.3759\n",
      "Epoch 47/100\n",
      "5/5 [==============================] - 0s 3ms/step - loss: 2.2820 - accuracy: 0.3759\n",
      "Epoch 48/100\n",
      "5/5 [==============================] - 0s 2ms/step - loss: 2.2600 - accuracy: 0.3830\n",
      "Epoch 49/100\n",
      "5/5 [==============================] - 0s 5ms/step - loss: 2.2398 - accuracy: 0.3972\n",
      "Epoch 50/100\n",
      "5/5 [==============================] - 0s 3ms/step - loss: 2.2187 - accuracy: 0.4255\n",
      "Epoch 51/100\n",
      "5/5 [==============================] - 0s 3ms/step - loss: 2.1990 - accuracy: 0.4255\n",
      "Epoch 52/100\n",
      "5/5 [==============================] - 0s 2ms/step - loss: 2.1808 - accuracy: 0.4255\n",
      "Epoch 53/100\n",
      "5/5 [==============================] - 0s 2ms/step - loss: 2.1606 - accuracy: 0.4113\n",
      "Epoch 54/100\n",
      "5/5 [==============================] - 0s 2ms/step - loss: 2.1416 - accuracy: 0.4184\n",
      "Epoch 55/100\n",
      "5/5 [==============================] - 0s 2ms/step - loss: 2.1221 - accuracy: 0.4255\n",
      "Epoch 56/100\n",
      "5/5 [==============================] - 0s 2ms/step - loss: 2.1045 - accuracy: 0.4255\n",
      "Epoch 57/100\n",
      "5/5 [==============================] - 0s 2ms/step - loss: 2.0857 - accuracy: 0.4326\n",
      "Epoch 58/100\n",
      "5/5 [==============================] - 0s 2ms/step - loss: 2.0684 - accuracy: 0.4255\n",
      "Epoch 59/100\n",
      "5/5 [==============================] - 0s 3ms/step - loss: 2.0525 - accuracy: 0.4255\n",
      "Epoch 60/100\n",
      "5/5 [==============================] - 0s 2ms/step - loss: 2.0337 - accuracy: 0.4255\n",
      "Epoch 61/100\n",
      "5/5 [==============================] - 0s 2ms/step - loss: 2.0175 - accuracy: 0.4326\n",
      "Epoch 62/100\n",
      "5/5 [==============================] - 0s 2ms/step - loss: 2.0003 - accuracy: 0.4255\n",
      "Epoch 63/100\n",
      "5/5 [==============================] - 0s 2ms/step - loss: 1.9833 - accuracy: 0.4255\n",
      "Epoch 64/100\n",
      "5/5 [==============================] - 0s 2ms/step - loss: 1.9660 - accuracy: 0.4326\n",
      "Epoch 65/100\n",
      "5/5 [==============================] - 0s 2ms/step - loss: 1.9515 - accuracy: 0.4681\n",
      "Epoch 66/100\n",
      "5/5 [==============================] - 0s 2ms/step - loss: 1.9351 - accuracy: 0.4752\n",
      "Epoch 67/100\n",
      "5/5 [==============================] - 0s 2ms/step - loss: 1.9183 - accuracy: 0.4681\n",
      "Epoch 68/100\n",
      "5/5 [==============================] - 0s 2ms/step - loss: 1.9057 - accuracy: 0.4752\n",
      "Epoch 69/100\n",
      "5/5 [==============================] - 0s 2ms/step - loss: 1.8865 - accuracy: 0.4752\n",
      "Epoch 70/100\n",
      "5/5 [==============================] - 0s 2ms/step - loss: 1.8721 - accuracy: 0.4752\n",
      "Epoch 71/100\n",
      "5/5 [==============================] - 0s 2ms/step - loss: 1.8592 - accuracy: 0.4823\n",
      "Epoch 72/100\n",
      "5/5 [==============================] - 0s 2ms/step - loss: 1.8458 - accuracy: 0.4823\n",
      "Epoch 73/100\n",
      "5/5 [==============================] - 0s 2ms/step - loss: 1.8311 - accuracy: 0.4894\n",
      "Epoch 74/100\n",
      "5/5 [==============================] - 0s 2ms/step - loss: 1.8167 - accuracy: 0.4965\n",
      "Epoch 75/100\n",
      "5/5 [==============================] - 0s 2ms/step - loss: 1.8017 - accuracy: 0.5035\n",
      "Epoch 76/100\n",
      "5/5 [==============================] - 0s 2ms/step - loss: 1.7888 - accuracy: 0.5035\n",
      "Epoch 77/100\n",
      "5/5 [==============================] - 0s 2ms/step - loss: 1.7762 - accuracy: 0.5035\n",
      "Epoch 78/100\n",
      "5/5 [==============================] - 0s 2ms/step - loss: 1.7624 - accuracy: 0.5106\n",
      "Epoch 79/100\n",
      "5/5 [==============================] - 0s 4ms/step - loss: 1.7492 - accuracy: 0.5177\n",
      "Epoch 80/100\n",
      "5/5 [==============================] - 0s 3ms/step - loss: 1.7357 - accuracy: 0.5177\n",
      "Epoch 81/100\n",
      "5/5 [==============================] - 0s 2ms/step - loss: 1.7237 - accuracy: 0.5106\n",
      "Epoch 82/100\n",
      "5/5 [==============================] - 0s 2ms/step - loss: 1.7120 - accuracy: 0.5035\n",
      "Epoch 83/100\n",
      "5/5 [==============================] - 0s 2ms/step - loss: 1.6970 - accuracy: 0.5177\n",
      "Epoch 84/100\n",
      "5/5 [==============================] - 0s 2ms/step - loss: 1.6842 - accuracy: 0.5319\n",
      "Epoch 85/100\n",
      "5/5 [==============================] - 0s 3ms/step - loss: 1.6716 - accuracy: 0.5319\n",
      "Epoch 86/100\n",
      "5/5 [==============================] - 0s 2ms/step - loss: 1.6606 - accuracy: 0.5248\n",
      "Epoch 87/100\n",
      "5/5 [==============================] - 0s 3ms/step - loss: 1.6491 - accuracy: 0.5248\n",
      "Epoch 88/100\n",
      "5/5 [==============================] - 0s 3ms/step - loss: 1.6394 - accuracy: 0.5248\n",
      "Epoch 89/100\n",
      "5/5 [==============================] - 0s 2ms/step - loss: 1.6262 - accuracy: 0.5177\n",
      "Epoch 90/100\n",
      "5/5 [==============================] - 0s 3ms/step - loss: 1.6154 - accuracy: 0.5248\n",
      "Epoch 91/100\n",
      "5/5 [==============================] - 0s 3ms/step - loss: 1.6045 - accuracy: 0.5390\n",
      "Epoch 92/100\n",
      "5/5 [==============================] - 0s 2ms/step - loss: 1.5924 - accuracy: 0.5532\n",
      "Epoch 93/100\n",
      "5/5 [==============================] - 0s 2ms/step - loss: 1.5845 - accuracy: 0.5461\n",
      "Epoch 94/100\n",
      "5/5 [==============================] - 0s 3ms/step - loss: 1.5735 - accuracy: 0.5390\n",
      "Epoch 95/100\n",
      "5/5 [==============================] - 0s 3ms/step - loss: 1.5623 - accuracy: 0.5461\n",
      "Epoch 96/100\n",
      "5/5 [==============================] - 0s 2ms/step - loss: 1.5535 - accuracy: 0.5532\n",
      "Epoch 97/100\n",
      "5/5 [==============================] - 0s 2ms/step - loss: 1.5432 - accuracy: 0.5461\n",
      "Epoch 98/100\n",
      "5/5 [==============================] - 0s 2ms/step - loss: 1.5319 - accuracy: 0.5674\n",
      "Epoch 99/100\n",
      "5/5 [==============================] - 0s 2ms/step - loss: 1.5228 - accuracy: 0.5603\n",
      "Epoch 100/100\n",
      "5/5 [==============================] - 0s 2ms/step - loss: 1.5112 - accuracy: 0.5674\n"
     ]
    },
    {
     "data": {
      "text/plain": [
       "<keras.callbacks.History at 0x206067f37f0>"
      ]
     },
     "execution_count": 12,
     "metadata": {},
     "output_type": "execute_result"
    }
   ],
   "source": [
    "ann2.compile(optimizer = 'adam', loss = 'sparse_categorical_crossentropy', metrics = ['accuracy'])\n",
    "ann2.fit(X_train, Y_train, batch_size = 32, epochs = 100)"
   ]
  },
  {
   "cell_type": "code",
   "execution_count": 13,
   "metadata": {},
   "outputs": [
    {
     "name": "stdout",
     "output_type": "stream",
     "text": [
      "2/2 [==============================] - 0s 4ms/step - loss: 4.2339 - accuracy: 0.4468\n"
     ]
    },
    {
     "data": {
      "text/plain": [
       "[4.233870983123779, 0.44680851697921753]"
      ]
     },
     "execution_count": 13,
     "metadata": {},
     "output_type": "execute_result"
    }
   ],
   "source": [
    "ann2.evaluate(X_test,Y_test)"
   ]
  },
  {
   "cell_type": "code",
   "execution_count": 14,
   "metadata": {},
   "outputs": [],
   "source": [
    "\n",
    "# Initializing the ANN\n",
    "ann3 = tf.keras.models.Sequential()\n",
    "# Add the input layer and first hidden layer\n",
    "ann3.add(tf.keras.layers.Dense(units=16, activation='relu', input_shape=X_train[0].shape))\n",
    "\n",
    "ann3.add(tf.keras.layers.Dense(units=64, activation='relu'))\n",
    "ann3.add(tf.keras.layers.Dense(units=128, activation='relu'))\n",
    "\n",
    "# Add the output layer\n",
    "ann3.add(tf.keras.layers.Dense(units=63, activation='sigmoid'))"
   ]
  },
  {
   "cell_type": "code",
   "execution_count": 15,
   "metadata": {},
   "outputs": [
    {
     "name": "stdout",
     "output_type": "stream",
     "text": [
      "Epoch 1/100\n",
      "5/5 [==============================] - 1s 4ms/step - loss: 4.1362 - accuracy: 0.0567\n",
      "Epoch 2/100\n",
      "5/5 [==============================] - 0s 4ms/step - loss: 4.0662 - accuracy: 0.1206\n",
      "Epoch 3/100\n",
      "5/5 [==============================] - 0s 4ms/step - loss: 4.0052 - accuracy: 0.1418\n",
      "Epoch 4/100\n",
      "5/5 [==============================] - 0s 4ms/step - loss: 3.9355 - accuracy: 0.1560\n",
      "Epoch 5/100\n",
      "5/5 [==============================] - 0s 4ms/step - loss: 3.8601 - accuracy: 0.1702\n",
      "Epoch 6/100\n",
      "5/5 [==============================] - 0s 4ms/step - loss: 3.7706 - accuracy: 0.1702\n",
      "Epoch 7/100\n",
      "5/5 [==============================] - 0s 4ms/step - loss: 3.6645 - accuracy: 0.1702\n",
      "Epoch 8/100\n",
      "5/5 [==============================] - 0s 4ms/step - loss: 3.5485 - accuracy: 0.1702\n",
      "Epoch 9/100\n",
      "5/5 [==============================] - 0s 4ms/step - loss: 3.4181 - accuracy: 0.1915\n",
      "Epoch 10/100\n",
      "5/5 [==============================] - 0s 5ms/step - loss: 3.2900 - accuracy: 0.1986\n",
      "Epoch 11/100\n",
      "5/5 [==============================] - 0s 4ms/step - loss: 3.1711 - accuracy: 0.1844\n",
      "Epoch 12/100\n",
      "5/5 [==============================] - 0s 3ms/step - loss: 3.0537 - accuracy: 0.1702\n",
      "Epoch 13/100\n",
      "5/5 [==============================] - 0s 3ms/step - loss: 2.9513 - accuracy: 0.1702\n",
      "Epoch 14/100\n",
      "5/5 [==============================] - 0s 3ms/step - loss: 2.8569 - accuracy: 0.1915\n",
      "Epoch 15/100\n",
      "5/5 [==============================] - 0s 3ms/step - loss: 2.7636 - accuracy: 0.2837\n",
      "Epoch 16/100\n",
      "5/5 [==============================] - 0s 3ms/step - loss: 2.6799 - accuracy: 0.3404\n",
      "Epoch 17/100\n",
      "5/5 [==============================] - 0s 3ms/step - loss: 2.5966 - accuracy: 0.3475\n",
      "Epoch 18/100\n",
      "5/5 [==============================] - 0s 3ms/step - loss: 2.5261 - accuracy: 0.3475\n",
      "Epoch 19/100\n",
      "5/5 [==============================] - 0s 3ms/step - loss: 2.4582 - accuracy: 0.3475\n",
      "Epoch 20/100\n",
      "5/5 [==============================] - 0s 3ms/step - loss: 2.3936 - accuracy: 0.3475\n",
      "Epoch 21/100\n",
      "5/5 [==============================] - 0s 3ms/step - loss: 2.3322 - accuracy: 0.3972\n",
      "Epoch 22/100\n",
      "5/5 [==============================] - 0s 3ms/step - loss: 2.2813 - accuracy: 0.3830\n",
      "Epoch 23/100\n",
      "5/5 [==============================] - 0s 3ms/step - loss: 2.2246 - accuracy: 0.3830\n",
      "Epoch 24/100\n",
      "5/5 [==============================] - 0s 3ms/step - loss: 2.1757 - accuracy: 0.3972\n",
      "Epoch 25/100\n",
      "5/5 [==============================] - 0s 2ms/step - loss: 2.1257 - accuracy: 0.3901\n",
      "Epoch 26/100\n",
      "5/5 [==============================] - 0s 7ms/step - loss: 2.0736 - accuracy: 0.4113\n",
      "Epoch 27/100\n",
      "5/5 [==============================] - 0s 2ms/step - loss: 2.0323 - accuracy: 0.4539\n",
      "Epoch 28/100\n",
      "5/5 [==============================] - 0s 2ms/step - loss: 1.9875 - accuracy: 0.4610\n",
      "Epoch 29/100\n",
      "5/5 [==============================] - 0s 3ms/step - loss: 1.9443 - accuracy: 0.4610\n",
      "Epoch 30/100\n",
      "5/5 [==============================] - 0s 2ms/step - loss: 1.9044 - accuracy: 0.4326\n",
      "Epoch 31/100\n",
      "5/5 [==============================] - 0s 2ms/step - loss: 1.8641 - accuracy: 0.4468\n",
      "Epoch 32/100\n",
      "5/5 [==============================] - 0s 2ms/step - loss: 1.8232 - accuracy: 0.4468\n",
      "Epoch 33/100\n",
      "5/5 [==============================] - 0s 2ms/step - loss: 1.7876 - accuracy: 0.4681\n",
      "Epoch 34/100\n",
      "5/5 [==============================] - 0s 3ms/step - loss: 1.7505 - accuracy: 0.4681\n",
      "Epoch 35/100\n",
      "5/5 [==============================] - 0s 3ms/step - loss: 1.7130 - accuracy: 0.4752\n",
      "Epoch 36/100\n",
      "5/5 [==============================] - 0s 3ms/step - loss: 1.6810 - accuracy: 0.4965\n",
      "Epoch 37/100\n",
      "5/5 [==============================] - 0s 2ms/step - loss: 1.6501 - accuracy: 0.4752\n",
      "Epoch 38/100\n",
      "5/5 [==============================] - 0s 3ms/step - loss: 1.6108 - accuracy: 0.5177\n",
      "Epoch 39/100\n",
      "5/5 [==============================] - 0s 2ms/step - loss: 1.5758 - accuracy: 0.5461\n",
      "Epoch 40/100\n",
      "5/5 [==============================] - 0s 2ms/step - loss: 1.5435 - accuracy: 0.5390\n",
      "Epoch 41/100\n",
      "5/5 [==============================] - 0s 2ms/step - loss: 1.5201 - accuracy: 0.5461\n",
      "Epoch 42/100\n",
      "5/5 [==============================] - 0s 3ms/step - loss: 1.4892 - accuracy: 0.5603\n",
      "Epoch 43/100\n",
      "5/5 [==============================] - 0s 2ms/step - loss: 1.4614 - accuracy: 0.5603\n",
      "Epoch 44/100\n",
      "5/5 [==============================] - 0s 2ms/step - loss: 1.4268 - accuracy: 0.5674\n",
      "Epoch 45/100\n",
      "5/5 [==============================] - 0s 2ms/step - loss: 1.4046 - accuracy: 0.5461\n",
      "Epoch 46/100\n",
      "5/5 [==============================] - 0s 2ms/step - loss: 1.3785 - accuracy: 0.6028\n",
      "Epoch 47/100\n",
      "5/5 [==============================] - 0s 3ms/step - loss: 1.3469 - accuracy: 0.6312\n",
      "Epoch 48/100\n",
      "5/5 [==============================] - 0s 2ms/step - loss: 1.3271 - accuracy: 0.6241\n",
      "Epoch 49/100\n",
      "5/5 [==============================] - 0s 3ms/step - loss: 1.3062 - accuracy: 0.6241\n",
      "Epoch 50/100\n",
      "5/5 [==============================] - 0s 3ms/step - loss: 1.2821 - accuracy: 0.6525\n",
      "Epoch 51/100\n",
      "5/5 [==============================] - 0s 3ms/step - loss: 1.2540 - accuracy: 0.6383\n",
      "Epoch 52/100\n",
      "5/5 [==============================] - 0s 3ms/step - loss: 1.2244 - accuracy: 0.6312\n",
      "Epoch 53/100\n",
      "5/5 [==============================] - 0s 3ms/step - loss: 1.2091 - accuracy: 0.6241\n",
      "Epoch 54/100\n",
      "5/5 [==============================] - 0s 3ms/step - loss: 1.1827 - accuracy: 0.6525\n",
      "Epoch 55/100\n",
      "5/5 [==============================] - 0s 4ms/step - loss: 1.1583 - accuracy: 0.6809\n",
      "Epoch 56/100\n",
      "5/5 [==============================] - 0s 3ms/step - loss: 1.1404 - accuracy: 0.6738\n",
      "Epoch 57/100\n",
      "5/5 [==============================] - 0s 2ms/step - loss: 1.1184 - accuracy: 0.6809\n",
      "Epoch 58/100\n",
      "5/5 [==============================] - 0s 3ms/step - loss: 1.0994 - accuracy: 0.6809\n",
      "Epoch 59/100\n",
      "5/5 [==============================] - 0s 2ms/step - loss: 1.0861 - accuracy: 0.6950\n",
      "Epoch 60/100\n",
      "5/5 [==============================] - 0s 3ms/step - loss: 1.0573 - accuracy: 0.7163\n",
      "Epoch 61/100\n",
      "5/5 [==============================] - 0s 3ms/step - loss: 1.0398 - accuracy: 0.6809\n",
      "Epoch 62/100\n",
      "5/5 [==============================] - 0s 2ms/step - loss: 1.0249 - accuracy: 0.6667\n",
      "Epoch 63/100\n",
      "5/5 [==============================] - 0s 3ms/step - loss: 1.0194 - accuracy: 0.6879\n",
      "Epoch 64/100\n",
      "5/5 [==============================] - 0s 3ms/step - loss: 0.9887 - accuracy: 0.7092\n",
      "Epoch 65/100\n",
      "5/5 [==============================] - 0s 3ms/step - loss: 0.9842 - accuracy: 0.7163\n",
      "Epoch 66/100\n",
      "5/5 [==============================] - 0s 2ms/step - loss: 0.9639 - accuracy: 0.7234\n",
      "Epoch 67/100\n",
      "5/5 [==============================] - 0s 3ms/step - loss: 0.9457 - accuracy: 0.7518\n",
      "Epoch 68/100\n",
      "5/5 [==============================] - 0s 3ms/step - loss: 0.9283 - accuracy: 0.6950\n",
      "Epoch 69/100\n",
      "5/5 [==============================] - 0s 2ms/step - loss: 0.9138 - accuracy: 0.7305\n",
      "Epoch 70/100\n",
      "5/5 [==============================] - 0s 2ms/step - loss: 0.9034 - accuracy: 0.7589\n",
      "Epoch 71/100\n",
      "5/5 [==============================] - 0s 3ms/step - loss: 0.9039 - accuracy: 0.7376\n",
      "Epoch 72/100\n",
      "5/5 [==============================] - 0s 2ms/step - loss: 0.8783 - accuracy: 0.7589\n",
      "Epoch 73/100\n",
      "5/5 [==============================] - 0s 3ms/step - loss: 0.8596 - accuracy: 0.7447\n",
      "Epoch 74/100\n",
      "5/5 [==============================] - 0s 3ms/step - loss: 0.8458 - accuracy: 0.7376\n",
      "Epoch 75/100\n",
      "5/5 [==============================] - 0s 3ms/step - loss: 0.8337 - accuracy: 0.7447\n",
      "Epoch 76/100\n",
      "5/5 [==============================] - 0s 3ms/step - loss: 0.8184 - accuracy: 0.7589\n",
      "Epoch 77/100\n",
      "5/5 [==============================] - 0s 3ms/step - loss: 0.8118 - accuracy: 0.7518\n",
      "Epoch 78/100\n",
      "5/5 [==============================] - 0s 5ms/step - loss: 0.7921 - accuracy: 0.7872\n",
      "Epoch 79/100\n",
      "5/5 [==============================] - 0s 2ms/step - loss: 0.7760 - accuracy: 0.7730\n",
      "Epoch 80/100\n",
      "5/5 [==============================] - 0s 3ms/step - loss: 0.7735 - accuracy: 0.7660\n",
      "Epoch 81/100\n",
      "5/5 [==============================] - 0s 2ms/step - loss: 0.7681 - accuracy: 0.8014\n",
      "Epoch 82/100\n",
      "5/5 [==============================] - 0s 2ms/step - loss: 0.7437 - accuracy: 0.8085\n",
      "Epoch 83/100\n",
      "5/5 [==============================] - 0s 3ms/step - loss: 0.7325 - accuracy: 0.8156\n",
      "Epoch 84/100\n",
      "5/5 [==============================] - 0s 3ms/step - loss: 0.7342 - accuracy: 0.7943\n",
      "Epoch 85/100\n",
      "5/5 [==============================] - 0s 3ms/step - loss: 0.7221 - accuracy: 0.8085\n",
      "Epoch 86/100\n",
      "5/5 [==============================] - 0s 3ms/step - loss: 0.7132 - accuracy: 0.7872\n",
      "Epoch 87/100\n",
      "5/5 [==============================] - 0s 3ms/step - loss: 0.7006 - accuracy: 0.8014\n",
      "Epoch 88/100\n",
      "5/5 [==============================] - 0s 2ms/step - loss: 0.6921 - accuracy: 0.7872\n",
      "Epoch 89/100\n",
      "5/5 [==============================] - 0s 2ms/step - loss: 0.6940 - accuracy: 0.8156\n",
      "Epoch 90/100\n",
      "5/5 [==============================] - 0s 3ms/step - loss: 0.6737 - accuracy: 0.8014\n",
      "Epoch 91/100\n",
      "5/5 [==============================] - 0s 3ms/step - loss: 0.6587 - accuracy: 0.8298\n",
      "Epoch 92/100\n",
      "5/5 [==============================] - 0s 2ms/step - loss: 0.6636 - accuracy: 0.8156\n",
      "Epoch 93/100\n",
      "5/5 [==============================] - 0s 3ms/step - loss: 0.6609 - accuracy: 0.7801\n",
      "Epoch 94/100\n",
      "5/5 [==============================] - 0s 3ms/step - loss: 0.6454 - accuracy: 0.8085\n",
      "Epoch 95/100\n",
      "5/5 [==============================] - 0s 3ms/step - loss: 0.6362 - accuracy: 0.8014\n",
      "Epoch 96/100\n",
      "5/5 [==============================] - 0s 2ms/step - loss: 0.6333 - accuracy: 0.7872\n",
      "Epoch 97/100\n",
      "5/5 [==============================] - 0s 3ms/step - loss: 0.6280 - accuracy: 0.8085\n",
      "Epoch 98/100\n",
      "5/5 [==============================] - 0s 2ms/step - loss: 0.6124 - accuracy: 0.8156\n",
      "Epoch 99/100\n",
      "5/5 [==============================] - 0s 2ms/step - loss: 0.6105 - accuracy: 0.8085\n",
      "Epoch 100/100\n",
      "5/5 [==============================] - 0s 2ms/step - loss: 0.6083 - accuracy: 0.8085\n"
     ]
    },
    {
     "data": {
      "text/plain": [
       "<keras.callbacks.History at 0x20607d99c00>"
      ]
     },
     "execution_count": 15,
     "metadata": {},
     "output_type": "execute_result"
    }
   ],
   "source": [
    "ann3.compile(optimizer = 'adam', loss = 'sparse_categorical_crossentropy', metrics = ['accuracy'])\n",
    "ann3.fit(X_train, Y_train, batch_size = 32, epochs = 100)"
   ]
  },
  {
   "cell_type": "code",
   "execution_count": 16,
   "metadata": {},
   "outputs": [
    {
     "name": "stdout",
     "output_type": "stream",
     "text": [
      "2/2 [==============================] - 0s 5ms/step - loss: 7.7652 - accuracy: 0.5532\n"
     ]
    },
    {
     "data": {
      "text/plain": [
       "[7.765215873718262, 0.5531914830207825]"
      ]
     },
     "execution_count": 16,
     "metadata": {},
     "output_type": "execute_result"
    }
   ],
   "source": [
    "ann3.evaluate(X_test,Y_test)"
   ]
  },
  {
   "cell_type": "code",
   "execution_count": 17,
   "metadata": {},
   "outputs": [
    {
     "name": "stdout",
     "output_type": "stream",
     "text": [
      "2/2 [==============================] - 0s 3ms/step\n",
      "2/2 [==============================] - 0s 2ms/step\n",
      "2/2 [==============================] - 0s 2ms/step\n"
     ]
    }
   ],
   "source": [
    "models  =[ann1,ann2,ann3]\n",
    "preds = [model.predict(X_test) for model in models]\n",
    "preds = np.array(preds)\n",
    "weights = [0.5,0.3,0.3]\n",
    "weights_pred  =np.tensordot(preds,weights,axes = ((0),(0)))"
   ]
  },
  {
   "cell_type": "code",
   "execution_count": 18,
   "metadata": {},
   "outputs": [],
   "source": [
    "weight_ensemble_prediction = np.argmax(weights_pred,axis=1)\n"
   ]
  },
  {
   "cell_type": "code",
   "execution_count": 19,
   "metadata": {},
   "outputs": [
    {
     "name": "stdout",
     "output_type": "stream",
     "text": [
      "2/2 [==============================] - 0s 3ms/step\n",
      "2/2 [==============================] - 0s 2ms/step\n",
      "2/2 [==============================] - 0s 3ms/step\n"
     ]
    }
   ],
   "source": [
    "predictions1  = ann1.predict(X_test)\n",
    "predictions1 = [np.argmax(element) for element in predictions1]\n",
    "predictions2  = ann2.predict(X_test)\n",
    "predictions2 = [np.argmax(element) for element in predictions2]\n",
    "predictions3  = ann2.predict(X_test)\n",
    "predictions3 = [np.argmax(element) for element in predictions3]\n"
   ]
  },
  {
   "cell_type": "code",
   "execution_count": 20,
   "metadata": {},
   "outputs": [],
   "source": [
    "from sklearn.metrics import accuracy_score\n",
    "accuracy1 = accuracy_score(Y_test,predictions1)\n",
    "accuracy2 = accuracy_score(Y_test,predictions2)\n",
    "accuracy3 = accuracy_score(Y_test,predictions3)\n",
    "weight_accuracy = accuracy_score(Y_test,weight_ensemble_prediction)"
   ]
  },
  {
   "cell_type": "code",
   "execution_count": 21,
   "metadata": {},
   "outputs": [
    {
     "name": "stdout",
     "output_type": "stream",
     "text": [
      "accuracy1 =  0.5319148936170213\n",
      "accuracy2 =  0.44680851063829785\n",
      "accuracy3 =  0.44680851063829785\n",
      "accuracy of average =  0.5319148936170213\n"
     ]
    }
   ],
   "source": [
    "print(\"accuracy1 = \",accuracy1)\n",
    "print(\"accuracy2 = \",accuracy2)\n",
    "print(\"accuracy3 = \",accuracy3)\n",
    "print(\"accuracy of average = \",weight_accuracy)"
   ]
  },
  {
   "cell_type": "code",
   "execution_count": 22,
   "metadata": {},
   "outputs": [
    {
     "data": {
      "text/plain": [
       "Text(70.72222222222221, 0.5, 'truths')"
      ]
     },
     "execution_count": 22,
     "metadata": {},
     "output_type": "execute_result"
    },
    {
     "data": {
      "image/png": "[encoded data removed]",
      "text/plain": [
       "<Figure size 800x800 with 2 Axes>"
      ]
     },
     "metadata": {},
     "output_type": "display_data"
    }
   ],
   "source": [
    "from sklearn.metrics import confusion_matrix\n",
    "import seaborn as sn\n",
    "\n",
    "cm = tf.math.confusion_matrix(labels = Y_test,predictions = predictions1)\n",
    "plt.figure(figsize=(8,8))\n",
    "sn.heatmap(cm,annot=True,fmt = 'd')\n",
    "plt.xlabel('predictions3')\n",
    "plt.ylabel('truths')"
   ]
  },
  {
   "cell_type": "code",
   "execution_count": 23,
   "metadata": {},
   "outputs": [
    {
     "data": {
      "text/plain": [
       "Text(70.72222222222221, 0.5, 'truths')"
      ]
     },
     "execution_count": 23,
     "metadata": {},
     "output_type": "execute_result"
    },
    {
     "data": {
      "image/png": "[encoded data removed]",
      "text/plain": [
       "<Figure size 800x800 with 2 Axes>"
      ]
     },
     "metadata": {},
     "output_type": "display_data"
    }
   ],
   "source": [
    "from sklearn.metrics import confusion_matrix\n",
    "import seaborn as sn\n",
    "\n",
    "cm = tf.math.confusion_matrix(labels = Y_test,predictions = predictions2)\n",
    "plt.figure(figsize=(8,8))\n",
    "sn.heatmap(cm,annot=True,fmt = 'd')\n",
    "plt.xlabel('predictions3')\n",
    "plt.ylabel('truths')"
   ]
  },
  {
   "cell_type": "code",
   "execution_count": 24,
   "metadata": {},
   "outputs": [
    {
     "data": {
      "text/plain": [
       "Text(70.72222222222221, 0.5, 'truths')"
      ]
     },
     "execution_count": 24,
     "metadata": {},
     "output_type": "execute_result"
    },
    {
     "data": {
      "image/png": "[encoded data removed]",
      "text/plain": [
       "<Figure size 800x800 with 2 Axes>"
      ]
     },
     "metadata": {},
     "output_type": "display_data"
    }
   ],
   "source": [
    "from sklearn.metrics import confusion_matrix\n",
    "import seaborn as sn\n",
    "\n",
    "cm = tf.math.confusion_matrix(labels = Y_test,predictions = predictions3)\n",
    "plt.figure(figsize=(8,8))\n",
    "sn.heatmap(cm,annot=True,fmt = 'd')\n",
    "plt.xlabel('predictions3')\n",
    "plt.ylabel('truths')"
   ]
  }
 ],
 "metadata": {
  "kernelspec": {
   "display_name": "Python 3",
   "language": "python",
   "name": "python3"
  },
  "language_info": {
   "codemirror_mode": {
    "name": "ipython",
    "version": 3
   },
   "file_extension": ".py",
   "mimetype": "text/x-python",
   "name": "python",
   "nbconvert_exporter": "python",
   "pygments_lexer": "ipython3",
   "version": "3.10.11"
  },
  "orig_nbformat": 4
 },
 "nbformat": 4,
 "nbformat_minor": 2
}
