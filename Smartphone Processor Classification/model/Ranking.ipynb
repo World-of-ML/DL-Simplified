{
 "cells": [
  {
   "cell_type": "code",
   "execution_count": 1,
   "metadata": {},
   "outputs": [],
   "source": [
    "import pandas as pd\n",
    "import numpy as np\n",
    "import tensorflow as tf\n",
    "import keras\n",
    "import matplotlib.pyplot as plt\n",
    "from sklearn.model_selection import train_test_split\n",
    "from sklearn.preprocessing import LabelEncoder\n",
    "from keras.models import Sequential\n",
    "from keras.layers import Dense\n"
   ]
  },
  {
   "cell_type": "code",
   "execution_count": null,
   "metadata": {},
   "outputs": [],
   "source": [
    "df = pd.read_csv('ML_ALL_benchmarks.csv')\n",
    "df.dropna(inplace=True)\n",
    "df.head()\n",
    "column = ['clock','cpuScore','gpuScore','npuScore']\n",
    "classes = df['cpuName']\n",
    "classes\n",
    "# df[:5]"
   ]
  },
  {
   "cell_type": "code",
   "execution_count": null,
   "metadata": {},
   "outputs": [],
   "source": [
    "df = df.drop(['company','device','cores'],axis=True)\n",
    "df"
   ]
  },
  {
   "cell_type": "code",
   "execution_count": null,
   "metadata": {},
   "outputs": [],
   "source": [
    "from sklearn import preprocessing\n",
    "label_encoder = preprocessing.LabelEncoder()\n",
    "  \n",
    "df['cpuName']= label_encoder.fit_transform(df['cpuName'])\n",
    "\n",
    "inp = df.drop(['cpuName'],axis=1)\n",
    "inp\n",
    "out = df['cpuName']\n",
    "out\n"
   ]
  },
  {
   "cell_type": "code",
   "execution_count": 5,
   "metadata": {},
   "outputs": [
    {
     "data": {
      "text/plain": [
       "63"
      ]
     },
     "execution_count": 5,
     "metadata": {},
     "output_type": "execute_result"
    }
   ],
   "source": [
    "integerMapping=dict(zip(out,classes))\n",
    "len(integerMapping)"
   ]
  },
  {
   "cell_type": "code",
   "execution_count": 6,
   "metadata": {},
   "outputs": [],
   "source": [
    "X_train,X_test,Y_train,Y_test = train_test_split(inp,out,random_state=0)"
   ]
  },
  {
   "cell_type": "code",
   "execution_count": null,
   "metadata": {},
   "outputs": [],
   "source": [
    "from sklearn.preprocessing import StandardScaler\n",
    "sc = StandardScaler()\n",
    "X_train = sc.fit_transform(X_train)\n",
    "X_test = sc.transform(X_test)\n",
    "len(X_train)"
   ]
  },
  {
   "cell_type": "code",
   "execution_count": 27,
   "metadata": {},
   "outputs": [],
   "source": [
    "# Initializing the ANN\n",
    "ann1 = tf.keras.models.Sequential()\n",
    "# Add the input layer and first hidden layer\n",
    "ann1.add(tf.keras.layers.Dense(units=64, activation='relu', input_shape=X_train[0].shape))\n",
    "\n",
    "ann1.add(tf.keras.layers.Dense(units=32, activation='relu'))\n",
    "ann1.add(tf.keras.layers.Dense(units=64, activation='relu'))\n",
    "ann1.add(tf.keras.layers.Dense(units=128, activation='relu'))\n",
    "\n",
    "# Add the output layer\n",
    "\n",
    "ann1.add(tf.keras.layers.Dense(units=63, activation='sigmoid'))"
   ]
  },
  {
   "cell_type": "code",
   "execution_count": null,
   "metadata": {},
   "outputs": [],
   "source": [
    "ann1.compile(optimizer = 'adam', loss = 'sparse_categorical_crossentropy', metrics = ['accuracy'])\n",
    "ann1.fit(X_train, Y_train, batch_size = 32, epochs = 100)"
   ]
  },
  {
   "cell_type": "code",
   "execution_count": null,
   "metadata": {},
   "outputs": [],
   "source": [
    "ann1.evaluate(X_test,Y_test)"
   ]
  },
  {
   "cell_type": "code",
   "execution_count": 31,
   "metadata": {},
   "outputs": [],
   "source": [
    "# Initializing the ANN\n",
    "ann2 = tf.keras.models.Sequential()\n",
    "# Add the input layer and first hidden layer\n",
    "\n",
    "ann2.add(tf.keras.layers.Dense(units=4, activation='relu', input_shape=X_train[0].shape))\n",
    "# Add the second hidden layer\n",
    "ann2.add(tf.keras.layers.Dense(units=128, activation='relu'))\n",
    "# Add the output layer\n",
    "ann2.add(tf.keras.layers.Dense(units=63, activation='sigmoid'))"
   ]
  },
  {
   "cell_type": "code",
   "execution_count": null,
   "metadata": {},
   "outputs": [],
   "source": [
    "ann2.compile(optimizer = 'adam', loss = 'sparse_categorical_crossentropy', metrics = ['accuracy'])\n",
    "ann2.fit(X_train, Y_train, batch_size = 32, epochs = 100)"
   ]
  },
  {
   "cell_type": "code",
   "execution_count": null,
   "metadata": {},
   "outputs": [],
   "source": [
    "ann2.evaluate(X_test,Y_test)"
   ]
  },
  {
   "cell_type": "code",
   "execution_count": 34,
   "metadata": {},
   "outputs": [],
   "source": [
    "\n",
    "# Initializing the ANN\n",
    "ann3 = tf.keras.models.Sequential()\n",
    "# Add the input layer and first hidden layer\n",
    "ann3.add(tf.keras.layers.Dense(units=16, activation='relu', input_shape=X_train[0].shape))\n",
    "\n",
    "ann3.add(tf.keras.layers.Dense(units=64, activation='relu'))\n",
    "ann3.add(tf.keras.layers.Dense(units=128, activation='relu'))\n",
    "\n",
    "# Add the output layer\n",
    "ann3.add(tf.keras.layers.Dense(units=63, activation='sigmoid'))"
   ]
  },
  {
   "cell_type": "code",
   "execution_count": null,
   "metadata": {},
   "outputs": [],
   "source": [
    "ann3.compile(optimizer = 'adam', loss = 'sparse_categorical_crossentropy', metrics = ['accuracy'])\n",
    "ann3.fit(X_train, Y_train, batch_size = 32, epochs = 100)"
   ]
  },
  {
   "cell_type": "code",
   "execution_count": null,
   "metadata": {},
   "outputs": [],
   "source": [
    "ann3.evaluate(X_test,Y_test)"
   ]
  },
  {
   "cell_type": "code",
   "execution_count": null,
   "metadata": {},
   "outputs": [],
   "source": [
    "models  =[ann1,ann2,ann3]\n",
    "preds = [model.predict(X_test) for model in models]\n",
    "preds = np.array(preds)\n",
    "weights = [0.5,0.3,0.3]\n",
    "weights_pred  =np.tensordot(preds,weights,axes = ((0),(0)))"
   ]
  },
  {
   "cell_type": "code",
   "execution_count": 38,
   "metadata": {},
   "outputs": [],
   "source": [
    "weight_ensemble_prediction = np.argmax(weights_pred,axis=1)\n"
   ]
  },
  {
   "cell_type": "code",
   "execution_count": null,
   "metadata": {},
   "outputs": [],
   "source": [
    "predictions1  = ann1.predict(X_test)\n",
    "predictions1 = [np.argmax(element) for element in predictions1]\n",
    "predictions2  = ann2.predict(X_test)\n",
    "predictions2 = [np.argmax(element) for element in predictions2]\n",
    "predictions3  = ann2.predict(X_test)\n",
    "predictions3 = [np.argmax(element) for element in predictions3]\n"
   ]
  },
  {
   "cell_type": "code",
   "execution_count": 40,
   "metadata": {},
   "outputs": [],
   "source": [
    "from sklearn.metrics import accuracy_score\n",
    "accuracy1 = accuracy_score(Y_test,predictions1)\n",
    "accuracy2 = accuracy_score(Y_test,predictions2)\n",
    "accuracy3 = accuracy_score(Y_test,predictions3)\n",
    "weight_accuracy = accuracy_score(Y_test,weight_ensemble_prediction)"
   ]
  },
  {
   "cell_type": "code",
   "execution_count": null,
   "metadata": {},
   "outputs": [],
   "source": [
    "print(\"accuracy1 = \",accuracy1)\n",
    "print(\"accuracy2 = \",accuracy2)\n",
    "print(\"accuracy3 = \",accuracy3)\n",
    "print(\"accuracy of average = \",weight_accuracy)"
   ]
  },
  {
   "cell_type": "code",
   "execution_count": null,
   "metadata": {},
   "outputs": [],
   "source": [
    "from sklearn.metrics import confusion_matrix\n",
    "import seaborn as sn\n",
    "\n",
    "cm = tf.math.confusion_matrix(labels = Y_test,predictions = predictions3)\n",
    "plt.figure(figsize=(8,8))\n",
    "sn.heatmap(cm,annot=True,fmt = 'd')\n",
    "plt.xlabel('predictions3')\n",
    "plt.ylabel('truths')"
   ]
  }
 ],
 "metadata": {
  "kernelspec": {
   "display_name": "Python 3",
   "language": "python",
   "name": "python3"
  },
  "language_info": {
   "codemirror_mode": {
    "name": "ipython",
    "version": 3
   },
   "file_extension": ".py",
   "mimetype": "text/x-python",
   "name": "python",
   "nbconvert_exporter": "python",
   "pygments_lexer": "ipython3",
   "version": "3.10.11"
  },
  "orig_nbformat": 4
 },
 "nbformat": 4,
 "nbformat_minor": 2
}
