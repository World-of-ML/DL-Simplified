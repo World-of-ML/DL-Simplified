{
  "nbformat": 4,
  "nbformat_minor": 0,
  "metadata": {
    "colab": {
      "provenance": []
    },
    "kernelspec": {
      "name": "python3",
      "display_name": "Python 3"
    },
    "language_info": {
      "name": "python"
    }
  },
  "cells": [
    {
      "cell_type": "markdown",
      "source": [
        "##1.LOAD THE DATA"
      ],
      "metadata": {
        "id": "y4TpC5Kd7CV5"
      }
    },
    {
      "cell_type": "code",
      "execution_count": null,
      "metadata": {
        "id": "hFoR9Fzh5vLe"
      },
      "outputs": [],
      "source": [
        "# DataFlair Iris Flower Classification\n",
        "# Import Packages\n",
        "import numpy as np\n",
        "import matplotlib.pyplot as plt\n",
        "import seaborn as sns\n",
        "import pandas as pd\n",
        "%matplotlib inline"
      ]
    },
    {
      "cell_type": "code",
      "source": [
        "columns = ['Sepal length', 'Sepal width', 'Petal length', 'Petal width', 'Class_labels'] \n",
        "# Load the data\n",
        "df = pd.read_csv('iris.data', names=columns)\n",
        "df.head()"
      ],
      "metadata": {
        "id": "uFQNmF0o5zyY"
      },
      "execution_count": null,
      "outputs": []
    },
    {
      "cell_type": "markdown",
      "source": [
        "##2.ANALYZE AND VISUALISE DATASET"
      ],
      "metadata": {
        "id": "O7ia748j649S"
      }
    },
    {
      "cell_type": "code",
      "source": [
        "df.describe()"
      ],
      "metadata": {
        "id": "RCJcbUbd5z04"
      },
      "execution_count": null,
      "outputs": []
    },
    {
      "cell_type": "code",
      "source": [
        "# Visualize the whole dataset\n",
        "sns.pairplot(df, hue='Class_labels')"
      ],
      "metadata": {
        "id": "9WwfwqFl5z4Y"
      },
      "execution_count": null,
      "outputs": []
    },
    {
      "cell_type": "code",
      "source": [
        "# Separate features and target  \n",
        "data = df.values\n",
        "X = data[:,0:4]\n",
        "Y = data[:,4]"
      ],
      "metadata": {
        "id": "z9KgYGbR6kJ8"
      },
      "execution_count": null,
      "outputs": []
    },
    {
      "cell_type": "code",
      "source": [
        "# Calculate average of each features for all classes\n",
        "Y_Data = np.array([np.average(X[:, i][Y==j].astype('float32')) for i in range (X.shape[1])\n",
        " for j in (np.unique(Y))])\n",
        "Y_Data_reshaped = Y_Data.reshape(4, 3)\n",
        "Y_Data_reshaped = np.swapaxes(Y_Data_reshaped, 0, 1)\n",
        "X_axis = np.arange(len(columns)-1)\n",
        "width = 0.25"
      ],
      "metadata": {
        "id": "fiSu6Vtw6kMd"
      },
      "execution_count": null,
      "outputs": []
    },
    {
      "cell_type": "code",
      "source": [
        "# Plot the average\n",
        "plt.bar(X_axis, Y_Data_reshaped[0], width, label = 'Setosa')\n",
        "plt.bar(X_axis+width, Y_Data_reshaped[1], width, label = 'Versicolour')\n",
        "plt.bar(X_axis+width*2, Y_Data_reshaped[2], width, label = 'Virginica')\n",
        "plt.xticks(X_axis, columns[:4])\n",
        "plt.xlabel(\"Features\")\n",
        "plt.ylabel(\"Value in cm.\")\n",
        "plt.legend(bbox_to_anchor=(1.3,1))\n",
        "plt.show()"
      ],
      "metadata": {
        "id": "WA4TNJYf6kP1"
      },
      "execution_count": null,
      "outputs": []
    },
    {
      "cell_type": "markdown",
      "source": [
        "##3.MODEL TRAINING"
      ],
      "metadata": {
        "id": "U41r0_fn6uJc"
      }
    },
    {
      "cell_type": "code",
      "source": [
        "# Split the data to train and test dataset.\n",
        "from sklearn.model_selection import train_test_split\n",
        "X_train, X_test, y_train, y_test = train_test_split(X, Y, test_size=0.2)"
      ],
      "metadata": {
        "id": "JYuolQWQ6sP-"
      },
      "execution_count": null,
      "outputs": []
    },
    {
      "cell_type": "code",
      "source": [
        "# Support vector machine algorithm\n",
        "from sklearn.svm import SVC\n",
        "svn = SVC()\n",
        "svn.fit(X_train, y_train)"
      ],
      "metadata": {
        "id": "XKAPaRwk6sSn"
      },
      "execution_count": null,
      "outputs": []
    },
    {
      "cell_type": "markdown",
      "source": [
        "##4.MODEL EVALUATION"
      ],
      "metadata": {
        "id": "waWg4SnX7f-0"
      }
    },
    {
      "cell_type": "code",
      "source": [
        "# Predict from the test dataset\n",
        "predictions = svn.predict(X_test)\n",
        "\n",
        "# Calculate the accuracy\n",
        "from sklearn.metrics import accuracy_score\n",
        "accuracy_score(y_test, predictions)"
      ],
      "metadata": {
        "id": "M_ccwbHN6sWA"
      },
      "execution_count": null,
      "outputs": []
    },
    {
      "cell_type": "code",
      "source": [
        "# A detailed classification report\n",
        "from sklearn.metrics import classification_report\n",
        "print(classification_report(y_test, predictions))"
      ],
      "metadata": {
        "id": "AlVFatGn7yQW"
      },
      "execution_count": null,
      "outputs": []
    },
    {
      "cell_type": "markdown",
      "source": [
        "##5.TESTING THE MODEL"
      ],
      "metadata": {
        "id": "xyuifuqw8BDq"
      }
    },
    {
      "cell_type": "code",
      "source": [
        "X_new = np.array([[3, 2, 1, 0.2], [  4.9, 2.2, 3.8, 1.1 ], [  5.3, 2.5, 4.6, 1.9 ]])\n",
        "#Prediction of the species from the input vector\n",
        "prediction = svn.predict(X_new)\n",
        "print(\"Prediction of Species: {}\".format(prediction))"
      ],
      "metadata": {
        "id": "E_zOe2u57yT8"
      },
      "execution_count": null,
      "outputs": []
    },
    {
      "cell_type": "code",
      "source": [
        "# Save the model\n",
        "import pickle\n",
        "with open('SVM.pickle', 'wb') as f:\n",
        "    pickle.dump(svn, f)\n",
        "\n",
        "# Load the model\n",
        "with open('SVM.pickle', 'rb') as f:\n",
        "    model = pickle.load(f)\n",
        "model.predict(X_new)"
      ],
      "metadata": {
        "id": "dRyOqwLT7ygK"
      },
      "execution_count": null,
      "outputs": []
    },
    {
      "cell_type": "code",
      "source": [
        "#Ref:https://data-flair.training/blogs/iris-flower-classification/"
      ],
      "metadata": {
        "id": "7FgAU_NM8ZtL"
      },
      "execution_count": null,
      "outputs": []
    }
  ]
}