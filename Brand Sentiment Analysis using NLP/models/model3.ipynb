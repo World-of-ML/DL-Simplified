{
 "cells": [
  {
   "cell_type": "code",
   "execution_count": 1,
   "metadata": {},
   "outputs": [
    {
     "name": "stderr",
     "output_type": "stream",
     "text": [
      "c:\\Users\\Hp\\AppData\\Local\\Programs\\Python\\Python311\\Lib\\site-packages\\tqdm\\auto.py:21: TqdmWarning: IProgress not found. Please update jupyter and ipywidgets. See https://ipywidgets.readthedocs.io/en/stable/user_install.html\n",
      "  from .autonotebook import tqdm as notebook_tqdm\n"
     ]
    }
   ],
   "source": [
    "import tensorflow as tf\n",
    "import numpy as np\n",
    "import pandas as pd \n",
    "from transformers import BertTokenizer, TFBertForSequenceClassification\n"
   ]
  },
  {
   "cell_type": "code",
   "execution_count": 2,
   "metadata": {},
   "outputs": [
    {
     "name": "stderr",
     "output_type": "stream",
     "text": [
      "c:\\Users\\Hp\\AppData\\Local\\Programs\\Python\\Python311\\Lib\\site-packages\\tensorflow_addons\\utils\\tfa_eol_msg.py:23: UserWarning: \n",
      "\n",
      "TensorFlow Addons (TFA) has ended development and introduction of new features.\n",
      "TFA has entered a minimal maintenance and release mode until a planned end of life in May 2024.\n",
      "Please modify downstream libraries to take dependencies from other repositories in our TensorFlow community (e.g. Keras, Keras-CV, and Keras-NLP). \n",
      "\n",
      "For more information see: https://github.com/tensorflow/addons/issues/2807 \n",
      "\n",
      "  warnings.warn(\n"
     ]
    }
   ],
   "source": [
    "import pandas as pd\n",
    "import numpy as np\n",
    "import tensorflow as tf\n",
    "from sklearn.model_selection import train_test_split\n",
    "from tensorflow.keras.layers import Input, Dense\n",
    "from tensorflow.keras.models import Model\n",
    "from tensorflow.keras.optimizers import Adam\n",
    "from tensorflow.keras.losses import SparseCategoricalCrossentropy\n",
    "from tensorflow.keras.metrics import SparseCategoricalAccuracy\n",
    "from tensorflow.keras.callbacks import EarlyStopping\n",
    "from transformers import BertTokenizer, TFBertModel\n",
    "import tensorflow_addons as tfa"
   ]
  },
  {
   "cell_type": "code",
   "execution_count": 3,
   "metadata": {},
   "outputs": [],
   "source": [
    "import re\n",
    "import nltk\n",
    "from nltk.corpus import stopwords\n",
    "from nltk.stem import PorterStemmer\n",
    "from sklearn.preprocessing import LabelEncoder\n",
    "from nltk.stem import WordNetLemmatizer\n",
    "\n",
    "from nltk.tokenize import sent_tokenize,word_tokenize"
   ]
  },
  {
   "cell_type": "code",
   "execution_count": 4,
   "metadata": {},
   "outputs": [
    {
     "data": {
      "text/html": [
       "<div>\n",
       "<style scoped>\n",
       "    .dataframe tbody tr th:only-of-type {\n",
       "        vertical-align: middle;\n",
       "    }\n",
       "\n",
       "    .dataframe tbody tr th {\n",
       "        vertical-align: top;\n",
       "    }\n",
       "\n",
       "    .dataframe thead th {\n",
       "        text-align: right;\n",
       "    }\n",
       "</style>\n",
       "<table border=\"1\" class=\"dataframe\">\n",
       "  <thead>\n",
       "    <tr style=\"text-align: right;\">\n",
       "      <th></th>\n",
       "      <th>tweet_text</th>\n",
       "      <th>emotion_in_tweet_is_directed_at</th>\n",
       "      <th>is_there_an_emotion_directed_at_a_brand_or_product</th>\n",
       "    </tr>\n",
       "  </thead>\n",
       "  <tbody>\n",
       "    <tr>\n",
       "      <th>0</th>\n",
       "      <td>.@wesley83 I have a 3G iPhone. After 3 hrs twe...</td>\n",
       "      <td>iPhone</td>\n",
       "      <td>Negative emotion</td>\n",
       "    </tr>\n",
       "    <tr>\n",
       "      <th>1</th>\n",
       "      <td>@jessedee Know about @fludapp ? Awesome iPad/i...</td>\n",
       "      <td>iPad or iPhone App</td>\n",
       "      <td>Positive emotion</td>\n",
       "    </tr>\n",
       "    <tr>\n",
       "      <th>2</th>\n",
       "      <td>@swonderlin Can not wait for #iPad 2 also. The...</td>\n",
       "      <td>iPad</td>\n",
       "      <td>Positive emotion</td>\n",
       "    </tr>\n",
       "    <tr>\n",
       "      <th>3</th>\n",
       "      <td>@sxsw I hope this year's festival isn't as cra...</td>\n",
       "      <td>iPad or iPhone App</td>\n",
       "      <td>Negative emotion</td>\n",
       "    </tr>\n",
       "    <tr>\n",
       "      <th>4</th>\n",
       "      <td>@sxtxstate great stuff on Fri #SXSW: Marissa M...</td>\n",
       "      <td>Google</td>\n",
       "      <td>Positive emotion</td>\n",
       "    </tr>\n",
       "  </tbody>\n",
       "</table>\n",
       "</div>"
      ],
      "text/plain": [
       "                                          tweet_text  \\\n",
       "0  .@wesley83 I have a 3G iPhone. After 3 hrs twe...   \n",
       "1  @jessedee Know about @fludapp ? Awesome iPad/i...   \n",
       "2  @swonderlin Can not wait for #iPad 2 also. The...   \n",
       "3  @sxsw I hope this year's festival isn't as cra...   \n",
       "4  @sxtxstate great stuff on Fri #SXSW: Marissa M...   \n",
       "\n",
       "  emotion_in_tweet_is_directed_at  \\\n",
       "0                          iPhone   \n",
       "1              iPad or iPhone App   \n",
       "2                            iPad   \n",
       "3              iPad or iPhone App   \n",
       "4                          Google   \n",
       "\n",
       "  is_there_an_emotion_directed_at_a_brand_or_product  \n",
       "0                                   Negative emotion  \n",
       "1                                   Positive emotion  \n",
       "2                                   Positive emotion  \n",
       "3                                   Negative emotion  \n",
       "4                                   Positive emotion  "
      ]
     },
     "execution_count": 4,
     "metadata": {},
     "output_type": "execute_result"
    }
   ],
   "source": [
    "df=pd.read_csv('D:\\Brand Sentiment Analysis using NLP\\Dataset\\Dataset - Train.csv')\n",
    "df.head()"
   ]
  },
  {
   "cell_type": "code",
   "execution_count": 5,
   "metadata": {},
   "outputs": [],
   "source": [
    "df=df.dropna()\n",
    "df.rename(columns={'is_there_an_emotion_directed_at_a_brand_or_product':'emotion',\n",
    "                   'tweet_text':'text'},inplace=True)"
   ]
  },
  {
   "cell_type": "code",
   "execution_count": 6,
   "metadata": {},
   "outputs": [],
   "source": [
    "def remove_tags(text):\n",
    "    remove=re.compile(r'')\n",
    "    return re.sub(remove, '', text)\n",
    "\n",
    "df['text'] = df['text'].apply(remove_tags)\n",
    "\n",
    "label_encoder = LabelEncoder()\n",
    "df['emotion'] = label_encoder.fit_transform(df['emotion'])\n",
    "\n",
    "def remove_splchr(text):\n",
    "    cp=[]\n",
    "    text=text.split()\n",
    "    \n",
    "    for i in text:\n",
    "        if i.isalnum():\n",
    "            cp.append(i)\n",
    "        \n",
    "    return \" \".join(cp)\n",
    "\n",
    "df['text']=df['text'].apply(remove_splchr)\n",
    "    \n",
    "df['text']=df['text'].str.lower()\n",
    "\n",
    "df['text']=df['emotion_in_tweet_is_directed_at']+ \" \" + df['text']"
   ]
  },
  {
   "cell_type": "code",
   "execution_count": 7,
   "metadata": {},
   "outputs": [
    {
     "data": {
      "text/html": [
       "<div>\n",
       "<style scoped>\n",
       "    .dataframe tbody tr th:only-of-type {\n",
       "        vertical-align: middle;\n",
       "    }\n",
       "\n",
       "    .dataframe tbody tr th {\n",
       "        vertical-align: top;\n",
       "    }\n",
       "\n",
       "    .dataframe thead th {\n",
       "        text-align: right;\n",
       "    }\n",
       "</style>\n",
       "<table border=\"1\" class=\"dataframe\">\n",
       "  <thead>\n",
       "    <tr style=\"text-align: right;\">\n",
       "      <th></th>\n",
       "      <th>text</th>\n",
       "      <th>emotion_in_tweet_is_directed_at</th>\n",
       "      <th>emotion</th>\n",
       "    </tr>\n",
       "  </thead>\n",
       "  <tbody>\n",
       "    <tr>\n",
       "      <th>0</th>\n",
       "      <td>iPhone i have a 3g after 3 hrs tweeting at it ...</td>\n",
       "      <td>iPhone</td>\n",
       "      <td>1</td>\n",
       "    </tr>\n",
       "    <tr>\n",
       "      <th>1</th>\n",
       "      <td>iPad or iPhone App know about awesome app that...</td>\n",
       "      <td>iPad or iPhone App</td>\n",
       "      <td>3</td>\n",
       "    </tr>\n",
       "    <tr>\n",
       "      <th>2</th>\n",
       "      <td>iPad can not wait for 2 they should sale them ...</td>\n",
       "      <td>iPad</td>\n",
       "      <td>3</td>\n",
       "    </tr>\n",
       "    <tr>\n",
       "      <th>3</th>\n",
       "      <td>iPad or iPhone App i hope this festival as cra...</td>\n",
       "      <td>iPad or iPhone App</td>\n",
       "      <td>1</td>\n",
       "    </tr>\n",
       "    <tr>\n",
       "      <th>4</th>\n",
       "      <td>Google great stuff on fri marissa mayer tim ma...</td>\n",
       "      <td>Google</td>\n",
       "      <td>3</td>\n",
       "    </tr>\n",
       "  </tbody>\n",
       "</table>\n",
       "</div>"
      ],
      "text/plain": [
       "                                                text  \\\n",
       "0  iPhone i have a 3g after 3 hrs tweeting at it ...   \n",
       "1  iPad or iPhone App know about awesome app that...   \n",
       "2  iPad can not wait for 2 they should sale them ...   \n",
       "3  iPad or iPhone App i hope this festival as cra...   \n",
       "4  Google great stuff on fri marissa mayer tim ma...   \n",
       "\n",
       "  emotion_in_tweet_is_directed_at  emotion  \n",
       "0                          iPhone        1  \n",
       "1              iPad or iPhone App        3  \n",
       "2                            iPad        3  \n",
       "3              iPad or iPhone App        1  \n",
       "4                          Google        3  "
      ]
     },
     "execution_count": 7,
     "metadata": {},
     "output_type": "execute_result"
    }
   ],
   "source": [
    "df.head()"
   ]
  },
  {
   "cell_type": "code",
   "execution_count": 8,
   "metadata": {},
   "outputs": [],
   "source": [
    "texts=df['text'].astype(str).values\n",
    "labels=df['emotion'].astype(int).values\n",
    "\n"
   ]
  },
  {
   "cell_type": "code",
   "execution_count": 9,
   "metadata": {},
   "outputs": [
    {
     "data": {
      "text/plain": [
       "array(['iPhone i have a 3g after 3 hrs tweeting at it was i need to plugin stations at',\n",
       "       'iPad or iPhone App know about awesome app that likely appreciate for its giving free ts at',\n",
       "       'iPad can not wait for 2 they should sale them down at', ...,\n",
       "       'Other Google product or service diller says google tv be run over by the playstation and the which are essentially ready',\n",
       "       'iPad or iPhone App always used for my iphone it has an image stabilizer suggestions for an ipad cam app same',\n",
       "       'iPad ipad'], dtype=object)"
      ]
     },
     "execution_count": 9,
     "metadata": {},
     "output_type": "execute_result"
    }
   ],
   "source": [
    "texts"
   ]
  },
  {
   "cell_type": "code",
   "execution_count": 10,
   "metadata": {},
   "outputs": [],
   "source": [
    "X_train, X_val, y_train, y_val = train_test_split(texts, labels, test_size=0.2, random_state=42)"
   ]
  },
  {
   "cell_type": "code",
   "execution_count": 11,
   "metadata": {},
   "outputs": [
    {
     "name": "stderr",
     "output_type": "stream",
     "text": [
      "Some weights of the PyTorch model were not used when initializing the TF 2.0 model TFBertModel: ['cls.seq_relationship.weight', 'cls.predictions.transform.LayerNorm.weight', 'cls.predictions.transform.LayerNorm.bias', 'cls.predictions.transform.dense.weight', 'cls.predictions.bias', 'cls.predictions.transform.dense.bias', 'cls.seq_relationship.bias']\n",
      "- This IS expected if you are initializing TFBertModel from a PyTorch model trained on another task or with another architecture (e.g. initializing a TFBertForSequenceClassification model from a BertForPreTraining model).\n",
      "- This IS NOT expected if you are initializing TFBertModel from a PyTorch model that you expect to be exactly identical (e.g. initializing a TFBertForSequenceClassification model from a BertForSequenceClassification model).\n",
      "All the weights of TFBertModel were initialized from the PyTorch model.\n",
      "If your task is similar to the task the model of the checkpoint was trained on, you can already use TFBertModel for predictions without further training.\n"
     ]
    }
   ],
   "source": [
    "# Load pre-trained BERT tokenizer and model\n",
    "tokenizer = BertTokenizer.from_pretrained('bert-base-uncased')\n",
    "model = TFBertModel.from_pretrained('bert-base-uncased', output_hidden_states=True)"
   ]
  },
  {
   "cell_type": "code",
   "execution_count": 12,
   "metadata": {},
   "outputs": [],
   "source": [
    "# Tokenize the input data\n",
    "train_tokens = tokenizer(X_train.tolist(), truncation=True, padding=True, max_length=128, return_tensors='tf')\n",
    "val_tokens = tokenizer(X_val.tolist(), truncation=True, padding=True, max_length=128, return_tensors='tf')"
   ]
  },
  {
   "cell_type": "code",
   "execution_count": 13,
   "metadata": {},
   "outputs": [
    {
     "data": {
      "text/plain": [
       "{'input_ids': <tf.Tensor: shape=(2632, 36), dtype=int32, numpy=\n",
       "array([[  101,  2060,  8224, ...,     0,     0,     0],\n",
       "       [  101, 18059,  2154, ...,     0,     0,     0],\n",
       "       [  101,  8224, 16012, ...,     0,     0,     0],\n",
       "       ...,\n",
       "       [  101,  6207,  2077, ...,     0,     0,     0],\n",
       "       [  101,  2060,  8224, ...,     0,     0,     0],\n",
       "       [  101, 18059,  4067, ...,     0,     0,     0]])>, 'token_type_ids': <tf.Tensor: shape=(2632, 36), dtype=int32, numpy=\n",
       "array([[0, 0, 0, ..., 0, 0, 0],\n",
       "       [0, 0, 0, ..., 0, 0, 0],\n",
       "       [0, 0, 0, ..., 0, 0, 0],\n",
       "       ...,\n",
       "       [0, 0, 0, ..., 0, 0, 0],\n",
       "       [0, 0, 0, ..., 0, 0, 0],\n",
       "       [0, 0, 0, ..., 0, 0, 0]])>, 'attention_mask': <tf.Tensor: shape=(2632, 36), dtype=int32, numpy=\n",
       "array([[1, 1, 1, ..., 0, 0, 0],\n",
       "       [1, 1, 1, ..., 0, 0, 0],\n",
       "       [1, 1, 1, ..., 0, 0, 0],\n",
       "       ...,\n",
       "       [1, 1, 1, ..., 0, 0, 0],\n",
       "       [1, 1, 1, ..., 0, 0, 0],\n",
       "       [1, 1, 1, ..., 0, 0, 0]])>}"
      ]
     },
     "execution_count": 13,
     "metadata": {},
     "output_type": "execute_result"
    }
   ],
   "source": [
    "train_tokens"
   ]
  },
  {
   "cell_type": "code",
   "execution_count": 14,
   "metadata": {},
   "outputs": [],
   "source": [
    "# Extract BERT embeddings\n",
    "train_embeddings = model(train_tokens['input_ids']).last_hidden_state[:, 0, :]\n",
    "val_embeddings = model(val_tokens['input_ids']).last_hidden_state[:, 0, :]"
   ]
  },
  {
   "cell_type": "code",
   "execution_count": 15,
   "metadata": {},
   "outputs": [
    {
     "data": {
      "text/plain": [
       "<tf.Tensor: shape=(2632, 768), dtype=float32, numpy=\n",
       "array([[-0.16814469,  0.1753756 ,  0.20996937, ..., -0.3200567 ,\n",
       "         0.5039404 , -0.09987885],\n",
       "       [-0.35340503,  0.11944835,  0.46653426, ..., -0.09987332,\n",
       "         0.6192366 , -0.17103173],\n",
       "       [-0.6803945 , -0.02355409,  0.13320656, ..., -0.24183075,\n",
       "         0.62605256, -0.35637987],\n",
       "       ...,\n",
       "       [-0.4609233 ,  0.08812487,  0.07475215, ...,  0.01132663,\n",
       "         0.6073922 , -0.33330005],\n",
       "       [-0.3417819 ,  0.00927798,  0.29079372, ..., -0.17462713,\n",
       "         0.6242331 , -0.04300085],\n",
       "       [-0.19863737,  0.06942908,  0.35575902, ..., -0.22969961,\n",
       "         0.4767736 , -0.10571737]], dtype=float32)>"
      ]
     },
     "execution_count": 15,
     "metadata": {},
     "output_type": "execute_result"
    }
   ],
   "source": [
    "\n",
    "train_embeddings\n"
   ]
  },
  {
   "cell_type": "code",
   "execution_count": 16,
   "metadata": {},
   "outputs": [],
   "source": [
    "# Add additional layers if needed (e.g., Dense layers)\n",
    "dense_layer = Dense(256, activation='relu')\n",
    "output_logits = Dense(len(np.unique(labels)), activation='softmax')\n",
    "\n"
   ]
  },
  {
   "cell_type": "code",
   "execution_count": 17,
   "metadata": {},
   "outputs": [],
   "source": [
    "# Build the model\n",
    "inputs = Input(shape=(model.config.hidden_size,), name='input_embeddings')\n",
    "x = dense_layer(inputs)\n",
    "outputs = output_logits(x)\n",
    "\n",
    "model = Model(inputs=inputs, outputs=outputs)"
   ]
  },
  {
   "cell_type": "code",
   "execution_count": 18,
   "metadata": {},
   "outputs": [
    {
     "name": "stdout",
     "output_type": "stream",
     "text": [
      "Model: \"model\"\n",
      "_________________________________________________________________\n",
      " Layer (type)                Output Shape              Param #   \n",
      "=================================================================\n",
      " input_embeddings (InputLay  [(None, 768)]             0         \n",
      " er)                                                             \n",
      "                                                                 \n",
      " dense (Dense)               (None, 256)               196864    \n",
      "                                                                 \n",
      " dense_1 (Dense)             (None, 4)                 1028      \n",
      "                                                                 \n",
      "=================================================================\n",
      "Total params: 197892 (773.02 KB)\n",
      "Trainable params: 197892 (773.02 KB)\n",
      "Non-trainable params: 0 (0.00 Byte)\n",
      "_________________________________________________________________\n"
     ]
    }
   ],
   "source": [
    "model.summary()"
   ]
  },
  {
   "cell_type": "code",
   "execution_count": 19,
   "metadata": {},
   "outputs": [],
   "source": [
    "# Compile the model\n",
    "model.compile(optimizer=Adam(learning_rate=1e-5),\n",
    "              loss=SparseCategoricalCrossentropy(from_logits=True),\n",
    "              metrics=[SparseCategoricalAccuracy()])\n",
    "\n",
    "# Train the model\n",
    "early_stopping = EarlyStopping(monitor='val_loss', patience=3, restore_best_weights=True)"
   ]
  },
  {
   "cell_type": "code",
   "execution_count": 20,
   "metadata": {},
   "outputs": [
    {
     "name": "stdout",
     "output_type": "stream",
     "text": [
      "Epoch 1/10\n"
     ]
    },
    {
     "name": "stderr",
     "output_type": "stream",
     "text": [
      "c:\\Users\\Hp\\AppData\\Local\\Programs\\Python\\Python311\\Lib\\site-packages\\keras\\src\\backend.py:5714: UserWarning: \"`sparse_categorical_crossentropy` received `from_logits=True`, but the `output` argument was produced by a Softmax activation and thus does not represent logits. Was this intended?\n",
      "  output, from_logits = _get_logits(\n"
     ]
    },
    {
     "name": "stdout",
     "output_type": "stream",
     "text": [
      "83/83 [==============================] - 1s 5ms/step - loss: 1.0853 - sparse_categorical_accuracy: 0.6193 - val_loss: 0.8763 - val_sparse_categorical_accuracy: 0.7815\n",
      "Epoch 2/10\n",
      "83/83 [==============================] - 0s 2ms/step - loss: 0.7345 - sparse_categorical_accuracy: 0.8108 - val_loss: 0.6779 - val_sparse_categorical_accuracy: 0.8088\n",
      "Epoch 3/10\n",
      "83/83 [==============================] - 0s 2ms/step - loss: 0.6326 - sparse_categorical_accuracy: 0.8116 - val_loss: 0.6177 - val_sparse_categorical_accuracy: 0.8118\n",
      "Epoch 4/10\n",
      "83/83 [==============================] - 0s 2ms/step - loss: 0.6023 - sparse_categorical_accuracy: 0.8116 - val_loss: 0.5948 - val_sparse_categorical_accuracy: 0.8118\n",
      "Epoch 5/10\n",
      "83/83 [==============================] - 0s 2ms/step - loss: 0.5898 - sparse_categorical_accuracy: 0.8119 - val_loss: 0.5841 - val_sparse_categorical_accuracy: 0.8118\n",
      "Epoch 6/10\n",
      "83/83 [==============================] - 0s 2ms/step - loss: 0.5829 - sparse_categorical_accuracy: 0.8119 - val_loss: 0.5777 - val_sparse_categorical_accuracy: 0.8118\n",
      "Epoch 7/10\n",
      "83/83 [==============================] - 0s 2ms/step - loss: 0.5783 - sparse_categorical_accuracy: 0.8119 - val_loss: 0.5732 - val_sparse_categorical_accuracy: 0.8118\n",
      "Epoch 8/10\n",
      "83/83 [==============================] - 0s 2ms/step - loss: 0.5744 - sparse_categorical_accuracy: 0.8119 - val_loss: 0.5691 - val_sparse_categorical_accuracy: 0.8118\n",
      "Epoch 9/10\n",
      "83/83 [==============================] - 0s 2ms/step - loss: 0.5707 - sparse_categorical_accuracy: 0.8119 - val_loss: 0.5658 - val_sparse_categorical_accuracy: 0.8118\n",
      "Epoch 10/10\n",
      "83/83 [==============================] - 0s 2ms/step - loss: 0.5677 - sparse_categorical_accuracy: 0.8119 - val_loss: 0.5630 - val_sparse_categorical_accuracy: 0.8118\n"
     ]
    }
   ],
   "source": [
    "history = model.fit(train_embeddings.numpy(), y_train, epochs=10,\n",
    "                    validation_data=(val_embeddings.numpy(), y_val),\n",
    "                    callbacks=[early_stopping])"
   ]
  },
  {
   "cell_type": "code",
   "execution_count": 37,
   "metadata": {},
   "outputs": [
    {
     "data": {
      "image/png": "[encoded data removed]",
      "text/plain": [
       "<Figure size 640x480 with 1 Axes>"
      ]
     },
     "metadata": {},
     "output_type": "display_data"
    },
    {
     "data": {
      "image/png": "[encoded data removed]",
      "text/plain": [
       "<Figure size 640x480 with 1 Axes>"
      ]
     },
     "metadata": {},
     "output_type": "display_data"
    }
   ],
   "source": [
    "import matplotlib.pyplot as plt\n",
    "\n",
    "# Assuming 'history' contains information about training\n",
    "# For example, history = model.fit(...)\n",
    "\n",
    "# Plot training loss\n",
    "plt.plot(history.history['loss'], label='Training Loss')\n",
    "# If you have validation data, you can plot validation loss as well\n",
    "plt.plot(history.history['val_loss'], label='Validation Loss')\n",
    "\n",
    "# Customize the plot\n",
    "plt.title('Training Loss Over Epochs')\n",
    "plt.xlabel('Epochs')\n",
    "plt.ylabel('Loss')\n",
    "plt.legend()\n",
    "plt.show()\n",
    "\n",
    "# Plot training accuracy\n",
    "plt.plot(history.history['sparse_categorical_accuracy'], label='Training Accuracy')\n",
    "# If you have validation data, you can plot validation accuracy as well\n",
    "plt.plot(history.history['val_sparse_categorical_accuracy'], label='Validation Accuracy')\n",
    "\n",
    "# Customize the plot\n",
    "plt.title('Training Accuracy Over Epochs')\n",
    "plt.xlabel('Epochs')\n",
    "plt.ylabel('Accuracy')\n",
    "plt.legend()\n",
    "plt.show()"
   ]
  },
  {
   "cell_type": "code",
   "execution_count": null,
   "metadata": {},
   "outputs": [],
   "source": []
  }
 ],
 "metadata": {
  "kernelspec": {
   "display_name": "Python 3",
   "language": "python",
   "name": "python3"
  },
  "language_info": {
   "codemirror_mode": {
    "name": "ipython",
    "version": 3
   },
   "file_extension": ".py",
   "mimetype": "text/x-python",
   "name": "python",
   "nbconvert_exporter": "python",
   "pygments_lexer": "ipython3",
   "version": "3.11.3"
  }
 },
 "nbformat": 4,
 "nbformat_minor": 2
}
